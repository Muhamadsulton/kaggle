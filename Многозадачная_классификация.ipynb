{
  "nbformat": 4,
  "nbformat_minor": 0,
  "metadata": {
    "colab": {
      "name": "Многозадачная классификация.ipynb",
      "provenance": [],
      "collapsed_sections": [],
      "authorship_tag": "ABX9TyMcSeY1hpkdJHiQbEWlRHDR",
      "include_colab_link": true
    },
    "kernelspec": {
      "name": "python3",
      "display_name": "Python 3"
    },
    "language_info": {
      "name": "python"
    }
  },
  "cells": [
    {
      "cell_type": "markdown",
      "metadata": {
        "id": "view-in-github",
        "colab_type": "text"
      },
      "source": [
        "<a href=\"https://colab.research.google.com/github/Muhamadsulton/kaggle/blob/main/%D0%9C%D0%BD%D0%BE%D0%B3%D0%BE%D0%B7%D0%B0%D0%B4%D0%B0%D1%87%D0%BD%D0%B0%D1%8F_%D0%BA%D0%BB%D0%B0%D1%81%D1%81%D0%B8%D1%84%D0%B8%D0%BA%D0%B0%D1%86%D0%B8%D1%8F.ipynb\" target=\"_parent\"><img src=\"https://colab.research.google.com/assets/colab-badge.svg\" alt=\"Open In Colab\"/></a>"
      ]
    },
    {
      "cell_type": "code",
      "metadata": {
        "id": "I8blBCFUA0xT"
      },
      "source": [
        "import numpy as np\n",
        "import pandas as pd\n",
        "import matplotlib.pyplot as plt \n",
        "import seaborn as sns\n",
        "import nltk\n",
        "import re "
      ],
      "execution_count": null,
      "outputs": []
    },
    {
      "cell_type": "code",
      "metadata": {
        "id": "fjLA59XgA1UZ"
      },
      "source": [
        "import warnings\n",
        "warnings.filterwarnings('ignore')"
      ],
      "execution_count": null,
      "outputs": []
    },
    {
      "cell_type": "code",
      "metadata": {
        "colab": {
          "resources": {
            "http://localhost:8080/nbextensions/google.colab/files.js": {
              "data": "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",
              "ok": true,
              "headers": [
                [
                  "content-type",
                  "application/javascript"
                ]
              ],
              "status": 200,
              "status_text": ""
            }
          },
          "base_uri": "https://localhost:8080/",
          "height": 72
        },
        "id": "riyIHuYnNLnI",
        "outputId": "75fec914-a20e-42a2-f28c-4c75235b5e42"
      },
      "source": [
        "from google.colab import files\n",
        "uploaded = files.upload()"
      ],
      "execution_count": null,
      "outputs": [
        {
          "output_type": "display_data",
          "data": {
            "text/html": [
              "\n",
              "     <input type=\"file\" id=\"files-f4b9bec0-cdc6-4ba0-85ef-5450ebf5471f\" name=\"files[]\" multiple disabled\n",
              "        style=\"border:none\" />\n",
              "     <output id=\"result-f4b9bec0-cdc6-4ba0-85ef-5450ebf5471f\">\n",
              "      Upload widget is only available when the cell has been executed in the\n",
              "      current browser session. Please rerun this cell to enable.\n",
              "      </output>\n",
              "      <script src=\"/nbextensions/google.colab/files.js\"></script> "
            ],
            "text/plain": [
              "<IPython.core.display.HTML object>"
            ]
          },
          "metadata": {
            "tags": []
          }
        },
        {
          "output_type": "stream",
          "text": [
            "Saving train_data.csv to train_data.csv\n"
          ],
          "name": "stdout"
        }
      ]
    },
    {
      "cell_type": "code",
      "metadata": {
        "id": "AwKMsLq5O9by"
      },
      "source": [
        "data = pd.read_csv('train_data.csv')"
      ],
      "execution_count": null,
      "outputs": []
    },
    {
      "cell_type": "code",
      "metadata": {
        "colab": {
          "base_uri": "https://localhost:8080/",
          "height": 374
        },
        "id": "ed7IfMjLPFjK",
        "outputId": "1fa344ed-5acb-4bfd-e6de-7dcb3cdce583"
      },
      "source": [
        "data.head()"
      ],
      "execution_count": null,
      "outputs": [
        {
          "output_type": "execute_result",
          "data": {
            "text/html": [
              "<div>\n",
              "<style scoped>\n",
              "    .dataframe tbody tr th:only-of-type {\n",
              "        vertical-align: middle;\n",
              "    }\n",
              "\n",
              "    .dataframe tbody tr th {\n",
              "        vertical-align: top;\n",
              "    }\n",
              "\n",
              "    .dataframe thead th {\n",
              "        text-align: right;\n",
              "    }\n",
              "</style>\n",
              "<table border=\"1\" class=\"dataframe\">\n",
              "  <thead>\n",
              "    <tr style=\"text-align: right;\">\n",
              "      <th></th>\n",
              "      <th>id</th>\n",
              "      <th>file_id</th>\n",
              "      <th>Раздел</th>\n",
              "      <th>Документ</th>\n",
              "      <th>Объектные</th>\n",
              "      <th>Функциональные</th>\n",
              "      <th>Процессные</th>\n",
              "      <th>Ограничения</th>\n",
              "      <th>Структурные</th>\n",
              "    </tr>\n",
              "  </thead>\n",
              "  <tbody>\n",
              "    <tr>\n",
              "      <th>0</th>\n",
              "      <td>0</td>\n",
              "      <td>0</td>\n",
              "      <td>ВВОДНЫЕ ПОЛОЖЕНИЯ</td>\n",
              "      <td>НАЗНАЧЕНИЕ\\nИнструкция устанавливает единые тр...</td>\n",
              "      <td>Линейный объект;Площадочные объекты</td>\n",
              "      <td>Не опознано</td>\n",
              "      <td>Проектирование;Эксплуатация</td>\n",
              "      <td>Не опознано</td>\n",
              "      <td>Назначение;Проектная документация ;Ссылка на Л...</td>\n",
              "    </tr>\n",
              "    <tr>\n",
              "      <th>1</th>\n",
              "      <td>1</td>\n",
              "      <td>0</td>\n",
              "      <td>ВВОДНЫЕ ПОЛОЖЕНИЯ</td>\n",
              "      <td>ОБЛАСТЬ ДЕЙСТВИЯ\\nНастоящая Инструкция являетс...</td>\n",
              "      <td>Линейный объект;Площадочные объекты</td>\n",
              "      <td>Не опознано</td>\n",
              "      <td>Проектирование;Эксплуатация</td>\n",
              "      <td>Не опознано</td>\n",
              "      <td>Область действия;Ограничение по применению</td>\n",
              "    </tr>\n",
              "    <tr>\n",
              "      <th>2</th>\n",
              "      <td>2</td>\n",
              "      <td>0</td>\n",
              "      <td>ВВОДНЫЕ ПОЛОЖЕНИЯ</td>\n",
              "      <td>ПЕРИОД ДЕЙСТВИЯ И ПОРЯДОК ВНЕСЕНИЯ ИЗМЕНЕНИЙ\\n...</td>\n",
              "      <td>Линейный объект;Площадочные объекты</td>\n",
              "      <td>Не опознано</td>\n",
              "      <td>Проектирование;Эксплуатация</td>\n",
              "      <td>Не опознано</td>\n",
              "      <td>Период действия</td>\n",
              "    </tr>\n",
              "    <tr>\n",
              "      <th>3</th>\n",
              "      <td>3</td>\n",
              "      <td>0</td>\n",
              "      <td>1. ТЕРМИНЫ И ОПРЕДЕЛЕНИЯ</td>\n",
              "      <td>ТЕРМИНЫ И ОПРЕДЕЛЕНИЯ КОРПОРАТИВНОГО ГЛОССАРИЯ...</td>\n",
              "      <td>Линейный объект;Площадочные объекты</td>\n",
              "      <td>Не опознано</td>\n",
              "      <td>Проектирование;Эксплуатация</td>\n",
              "      <td>Не опознано</td>\n",
              "      <td>Термины и определения</td>\n",
              "    </tr>\n",
              "    <tr>\n",
              "      <th>4</th>\n",
              "      <td>4</td>\n",
              "      <td>0</td>\n",
              "      <td>1. ТЕРМИНЫ И ОПРЕДЕЛЕНИЯ</td>\n",
              "      <td>ТЕРМИНЫ И ОПРЕДЕЛЕНИЯ ДЛЯ ЦЕЛЕЙ НАСТОЯЩЕГО ДОК...</td>\n",
              "      <td>Линейный объект;Площадочные объекты</td>\n",
              "      <td>Не опознано</td>\n",
              "      <td>Проектирование;Эксплуатация</td>\n",
              "      <td>Не опознано</td>\n",
              "      <td>Термины и определения</td>\n",
              "    </tr>\n",
              "  </tbody>\n",
              "</table>\n",
              "</div>"
            ],
            "text/plain": [
              "   id  file_id  ...  Ограничения                                        Структурные\n",
              "0   0        0  ...  Не опознано  Назначение;Проектная документация ;Ссылка на Л...\n",
              "1   1        0  ...  Не опознано         Область действия;Ограничение по применению\n",
              "2   2        0  ...  Не опознано                                    Период действия\n",
              "3   3        0  ...  Не опознано                              Термины и определения\n",
              "4   4        0  ...  Не опознано                              Термины и определения\n",
              "\n",
              "[5 rows x 9 columns]"
            ]
          },
          "metadata": {
            "tags": []
          },
          "execution_count": 7
        }
      ]
    },
    {
      "cell_type": "code",
      "metadata": {
        "colab": {
          "base_uri": "https://localhost:8080/"
        },
        "id": "oHX_SWYOPKFr",
        "outputId": "8538fedb-63fa-43c4-bb6d-2906cc9d13c9"
      },
      "source": [
        "data.info()"
      ],
      "execution_count": null,
      "outputs": [
        {
          "output_type": "stream",
          "text": [
            "<class 'pandas.core.frame.DataFrame'>\n",
            "RangeIndex: 1075 entries, 0 to 1074\n",
            "Data columns (total 9 columns):\n",
            " #   Column          Non-Null Count  Dtype \n",
            "---  ------          --------------  ----- \n",
            " 0   id              1075 non-null   int64 \n",
            " 1   file_id         1075 non-null   int64 \n",
            " 2   Раздел          1075 non-null   object\n",
            " 3   Документ        1075 non-null   object\n",
            " 4   Объектные       1075 non-null   object\n",
            " 5   Функциональные  1075 non-null   object\n",
            " 6   Процессные      1075 non-null   object\n",
            " 7   Ограничения     1075 non-null   object\n",
            " 8   Структурные     1075 non-null   object\n",
            "dtypes: int64(2), object(7)\n",
            "memory usage: 75.7+ KB\n"
          ],
          "name": "stdout"
        }
      ]
    },
    {
      "cell_type": "code",
      "metadata": {
        "colab": {
          "base_uri": "https://localhost:8080/"
        },
        "id": "nnB2OennPw5m",
        "outputId": "4a85f128-a672-40eb-b3c7-217340c0c3eb"
      },
      "source": [
        "data['Функциональные'].value_counts()"
      ],
      "execution_count": null,
      "outputs": [
        {
          "output_type": "execute_result",
          "data": {
            "text/plain": [
              "Не опознано                                                                                           858\n",
              "Энергоснабжение                                                                                        58\n",
              "Система электроснабжения;Энергоснабжение                                                               42\n",
              "Система электрообогрева;Система электроснабжения                                                       21\n",
              "Система электроснабжения                                                                               20\n",
              "Автоматическое секционирование ВЛ                                                                      19\n",
              "Автоматизация комплексная;Автоматизированная система управления технологическим процессом (АСУ ТП)     11\n",
              "Автоматизация комплексная                                                                              10\n",
              "Подготовительные работы                                                                                 9\n",
              "Подготовительные работы;                                                                                8\n",
              "Автоматизация комплексная;Автоматизированное рабочее место (АРМ)                                        6\n",
              "Метрология                                                                                              5\n",
              "Охрана окружающей среды;Промышленная безопасность                                                       5\n",
              "Промышленная безопасность                                                                               3\n",
              "Name: Функциональные, dtype: int64"
            ]
          },
          "metadata": {
            "tags": []
          },
          "execution_count": 9
        }
      ]
    },
    {
      "cell_type": "code",
      "metadata": {
        "colab": {
          "base_uri": "https://localhost:8080/"
        },
        "id": "d4y6oi_9P4D9",
        "outputId": "0a50a4ea-7468-4ab0-a28e-1f6e9945a320"
      },
      "source": [
        "data['Ограничения'].value_counts()"
      ],
      "execution_count": null,
      "outputs": [
        {
          "output_type": "execute_result",
          "data": {
            "text/plain": [
              "Не опознано                                                                                                                                                                                                                                                                                                                955\n",
              "Климатические условия;Климатическое исполнение                                                                                                                                                                                                                                                                              32\n",
              "Нормативное требование                                                                                                                                                                                                                                                                                                      16\n",
              "Сейсмичность;Сейсмостойкость                                                                                                                                                                                                                                                                                                14\n",
              "Внешний вид                                                                                                                                                                                                                                                                                                                  8\n",
              "Исполнение;Нормативное требование                                                                                                                                                                                                                                                                                            5\n",
              "Cиловой трансф-ор с масляной изоляцией 6(10,20,35)/0,4 кВ                                                                                                                                                                                                                                                                    5\n",
              "Cиловой трансф-ор с масляной изоляцией 110/35/6(10) кВ и 110/6(10) кВ                                                                                                                                                                                                                                                        5\n",
              "Cиловой трансф-ор с масляной изоляцией 6(10)/0,4 кВ с фланцевым вводом                                                                                                                                                                                                                                                       5\n",
              "Рабочая среда                                                                                                                                                                                                                                                                                                                5\n",
              "Cиловой трансф-ор с сухой изоляцией 6(10)/0,4 кВ                                                                                                                                                                                                                                                                             5\n",
              "Cиловой трансф-ор с масляной изоляцией 20/6(10) кВ, 35/6(10) кВ                                                                                                                                                                                                                                                              5\n",
              "Климатические условия;Климатическое исполнение;Нормативное требование;Сейсмичность;Сейсмостойкость                                                                                                                                                                                                                           3\n",
              "Сейсмостойкость                                                                                                                                                                                                                                                                                                              3\n",
              "Климатические условия                                                                                                                                                                                                                                                                                                        2\n",
              "Cиловой трансф-ор с сухой изоляцией 6(10)/0,4 кВ;Cиловой трансф-ор с масляной изоляцией 6(10,20,35)/0,4 кВ;Cиловой трансф-ор с масляной изоляцией 6(10)/0,4 кВ с фланцевым вводом;Cиловой трансф-ор с масляной изоляцией 20/6(10) кВ, 35/6(10) кВ;Cиловой трансф-ор с масляной изоляцией 110/35/6(10) кВ и 110/6(10) кВ      2\n",
              "Исполнение;                                                                                                                                                                                                                                                                                                                  2\n",
              "Климатические условия;Сейсмичность;Сейсмостойкость                                                                                                                                                                                                                                                                           1\n",
              "Климатические условия; Сейсмичность;Сейсмостойкость                                                                                                                                                                                                                                                                          1\n",
              "Исполнение                                                                                                                                                                                                                                                                                                                   1\n",
              "Name: Ограничения, dtype: int64"
            ]
          },
          "metadata": {
            "tags": []
          },
          "execution_count": 10
        }
      ]
    },
    {
      "cell_type": "code",
      "metadata": {
        "colab": {
          "base_uri": "https://localhost:8080/"
        },
        "id": "eNC74BrQQTIz",
        "outputId": "8076aa48-e289-4536-aa17-b3a60cab31c9"
      },
      "source": [
        "data['Объектные'].value_counts()"
      ],
      "execution_count": null,
      "outputs": [
        {
          "output_type": "execute_result",
          "data": {
            "text/plain": [
              "Не опознано                                       689\n",
              "Автоматизированная система налива                  97\n",
              "Ресивер                                            85\n",
              "Трансформатор                                      42\n",
              "Линейный объект;Площадочные объекты                25\n",
              "Блок компрессорных установок                       24\n",
              "Пункт автоматического регулирования напряжения     21\n",
              "Комплектная трансформаторная подстанция (КТП)      21\n",
              "Источник бесперебойного питания (ИБП)              19\n",
              "Переключательный пункт на базе реклоузеров         19\n",
              "Силовой кабель                                     18\n",
              "Электротехническое оборудование                    15\n",
              "Name: Объектные, dtype: int64"
            ]
          },
          "metadata": {
            "tags": []
          },
          "execution_count": 11
        }
      ]
    },
    {
      "cell_type": "code",
      "metadata": {
        "colab": {
          "base_uri": "https://localhost:8080/"
        },
        "id": "LRQD_N-YQTLt",
        "outputId": "06a28c4c-6db9-41a7-9ae5-cf79db3445ba"
      },
      "source": [
        "data['Процессные'].value_counts()"
      ],
      "execution_count": null,
      "outputs": [
        {
          "output_type": "execute_result",
          "data": {
            "text/plain": [
              "Не опознано                                                    697\n",
              "Комплектация;Проектирование                                    174\n",
              "Преобразование;Энергоснабжение                                  36\n",
              "Преобразование;Распределение                                    25\n",
              "Монтаж;Транспортирование;Хранение;Эксплуатация                  23\n",
              "Проектирование                                                  17\n",
              "Преобразование;Эксплуатация                                     15\n",
              "Регулирование                                                   15\n",
              "Защита;Измерение;Переключение                                   13\n",
              "Проектирование;Эксплуатация                                      8\n",
              "Маркировка                                                       7\n",
              "Транспортирование;Хранение                                       6\n",
              "Транспортирование                                                5\n",
              "Эксплуатация                                                     5\n",
              "Комплектация;Монтаж;Транспортирование;Хранение;Эксплуатация      4\n",
              "Комплектация;Преобразование;Проектирование;Энергоснабжение       3\n",
              "Комплектация                                                     3\n",
              "Монтаж;Транспортирование;Хранение                                3\n",
              "Комплектация;Преобразование;Проектирование;Распределение         2\n",
              "Испытание;Комплектация;Проектирование                            2\n",
              "Монтаж;Транспортирование;Хранение;                               2\n",
              "Комплектация;Проектирование;Регулирование                        1\n",
              "Комплектация;Проектирование: Хранение                            1\n",
              "Комплектация;Проектирование;Хранение;Эксплуатация                1\n",
              "Испытание                                                        1\n",
              "Комплектация;Проектирование; Утилизация                          1\n",
              "Комплектация;Налив;Проектирование                                1\n",
              "Защита;Измерение;Комплектация;Переключение;Проектирование        1\n",
              "Хранение                                                         1\n",
              "Налив                                                            1\n",
              "Комплектация;Преобразование;Проектирование;Эксплуатация          1\n",
              "Name: Процессные, dtype: int64"
            ]
          },
          "metadata": {
            "tags": []
          },
          "execution_count": 12
        }
      ]
    },
    {
      "cell_type": "code",
      "metadata": {
        "colab": {
          "base_uri": "https://localhost:8080/"
        },
        "id": "4nGZ00wVRqZ5",
        "outputId": "45064981-7c04-477a-b1ba-69ff961ab4b2"
      },
      "source": [
        "data['Структурные'].value_counts()"
      ],
      "execution_count": null,
      "outputs": [
        {
          "output_type": "execute_result",
          "data": {
            "text/plain": [
              "Ссылка на НД;Ссылки                                                608\n",
              "Таблица;Условное обозначение                                        56\n",
              "Требования                                                          55\n",
              "Ссылка на НД;Требования                                             53\n",
              "Приложение;Таблица                                                  47\n",
              "                                                                  ... \n",
              "Ссылка на таблицу;Требования; Ограничение по применению;             1\n",
              "Ссылка на ЛНД;Ссылка на таблицу;Требования;Условное обозначение      1\n",
              "Опросный лист;Приложение;Технические требования                      1\n",
              "Назначение;Предпроектная документация;Ссылка на ЛНД                  1\n",
              "Область действия;Ограничение по применению                           1\n",
              "Name: Структурные, Length: 74, dtype: int64"
            ]
          },
          "metadata": {
            "tags": []
          },
          "execution_count": 13
        }
      ]
    },
    {
      "cell_type": "code",
      "metadata": {
        "colab": {
          "base_uri": "https://localhost:8080/"
        },
        "id": "RbWHsfN4vYbZ",
        "outputId": "77af2d1d-86a3-4faa-e475-337492a24699"
      },
      "source": [
        "data.columns"
      ],
      "execution_count": null,
      "outputs": [
        {
          "output_type": "execute_result",
          "data": {
            "text/plain": [
              "Index(['id', 'file_id', 'Раздел', 'Документ', 'Объектные', 'Функциональные',\n",
              "       'Процессные', 'Ограничения', 'Структурные'],\n",
              "      dtype='object')"
            ]
          },
          "metadata": {
            "tags": []
          },
          "execution_count": 14
        }
      ]
    },
    {
      "cell_type": "code",
      "metadata": {
        "colab": {
          "base_uri": "https://localhost:8080/"
        },
        "id": "iaB6O8KnRqem",
        "outputId": "40ea0027-517d-467a-9677-0115cf83eda6"
      },
      "source": [
        "data.shape"
      ],
      "execution_count": null,
      "outputs": [
        {
          "output_type": "execute_result",
          "data": {
            "text/plain": [
              "(1075, 9)"
            ]
          },
          "metadata": {
            "tags": []
          },
          "execution_count": 15
        }
      ]
    },
    {
      "cell_type": "code",
      "metadata": {
        "id": "KHCS1ltAQCjN"
      },
      "source": [
        "#не опазнано - nan\n",
        "data = data.drop(['id','file_id','Раздел'],axis=1)"
      ],
      "execution_count": null,
      "outputs": []
    },
    {
      "cell_type": "code",
      "metadata": {
        "colab": {
          "base_uri": "https://localhost:8080/",
          "height": 173
        },
        "id": "WVayDoEBQSFi",
        "outputId": "a555cab1-6c29-4aa4-cebb-615e9346a30b"
      },
      "source": [
        "data.describe(include='object')"
      ],
      "execution_count": null,
      "outputs": [
        {
          "output_type": "execute_result",
          "data": {
            "text/html": [
              "<div>\n",
              "<style scoped>\n",
              "    .dataframe tbody tr th:only-of-type {\n",
              "        vertical-align: middle;\n",
              "    }\n",
              "\n",
              "    .dataframe tbody tr th {\n",
              "        vertical-align: top;\n",
              "    }\n",
              "\n",
              "    .dataframe thead th {\n",
              "        text-align: right;\n",
              "    }\n",
              "</style>\n",
              "<table border=\"1\" class=\"dataframe\">\n",
              "  <thead>\n",
              "    <tr style=\"text-align: right;\">\n",
              "      <th></th>\n",
              "      <th>Документ</th>\n",
              "      <th>Объектные</th>\n",
              "      <th>Функциональные</th>\n",
              "      <th>Процессные</th>\n",
              "      <th>Ограничения</th>\n",
              "      <th>Структурные</th>\n",
              "    </tr>\n",
              "  </thead>\n",
              "  <tbody>\n",
              "    <tr>\n",
              "      <th>count</th>\n",
              "      <td>1075</td>\n",
              "      <td>1075</td>\n",
              "      <td>1075</td>\n",
              "      <td>1075</td>\n",
              "      <td>1075</td>\n",
              "      <td>1075</td>\n",
              "    </tr>\n",
              "    <tr>\n",
              "      <th>unique</th>\n",
              "      <td>1045</td>\n",
              "      <td>12</td>\n",
              "      <td>14</td>\n",
              "      <td>31</td>\n",
              "      <td>20</td>\n",
              "      <td>74</td>\n",
              "    </tr>\n",
              "    <tr>\n",
              "      <th>top</th>\n",
              "      <td>ПЕРИОД ДЕЙСТВИЯ И ПОРЯДОК ВНЕСЕНИЯ ИЗМЕНЕНИЙ\\n...</td>\n",
              "      <td>Не опознано</td>\n",
              "      <td>Не опознано</td>\n",
              "      <td>Не опознано</td>\n",
              "      <td>Не опознано</td>\n",
              "      <td>Ссылка на НД;Ссылки</td>\n",
              "    </tr>\n",
              "    <tr>\n",
              "      <th>freq</th>\n",
              "      <td>7</td>\n",
              "      <td>689</td>\n",
              "      <td>858</td>\n",
              "      <td>697</td>\n",
              "      <td>955</td>\n",
              "      <td>608</td>\n",
              "    </tr>\n",
              "  </tbody>\n",
              "</table>\n",
              "</div>"
            ],
            "text/plain": [
              "                                                 Документ  ...          Структурные\n",
              "count                                                1075  ...                 1075\n",
              "unique                                               1045  ...                   74\n",
              "top     ПЕРИОД ДЕЙСТВИЯ И ПОРЯДОК ВНЕСЕНИЯ ИЗМЕНЕНИЙ\\n...  ...  Ссылка на НД;Ссылки\n",
              "freq                                                    7  ...                  608\n",
              "\n",
              "[4 rows x 6 columns]"
            ]
          },
          "metadata": {
            "tags": []
          },
          "execution_count": 17
        }
      ]
    },
    {
      "cell_type": "code",
      "metadata": {
        "colab": {
          "base_uri": "https://localhost:8080/",
          "height": 323
        },
        "id": "X6gV0e1NKii0",
        "outputId": "2763cb5f-dd69-47fb-cc89-28f85d8d97bb"
      },
      "source": [
        "data.head()"
      ],
      "execution_count": null,
      "outputs": [
        {
          "output_type": "execute_result",
          "data": {
            "text/html": [
              "<div>\n",
              "<style scoped>\n",
              "    .dataframe tbody tr th:only-of-type {\n",
              "        vertical-align: middle;\n",
              "    }\n",
              "\n",
              "    .dataframe tbody tr th {\n",
              "        vertical-align: top;\n",
              "    }\n",
              "\n",
              "    .dataframe thead th {\n",
              "        text-align: right;\n",
              "    }\n",
              "</style>\n",
              "<table border=\"1\" class=\"dataframe\">\n",
              "  <thead>\n",
              "    <tr style=\"text-align: right;\">\n",
              "      <th></th>\n",
              "      <th>Документ</th>\n",
              "      <th>Объектные</th>\n",
              "      <th>Функциональные</th>\n",
              "      <th>Процессные</th>\n",
              "      <th>Ограничения</th>\n",
              "      <th>Структурные</th>\n",
              "    </tr>\n",
              "  </thead>\n",
              "  <tbody>\n",
              "    <tr>\n",
              "      <th>0</th>\n",
              "      <td>НАЗНАЧЕНИЕ\\nИнструкция устанавливает единые тр...</td>\n",
              "      <td>Линейный объект;Площадочные объекты</td>\n",
              "      <td>Не опознано</td>\n",
              "      <td>Проектирование;Эксплуатация</td>\n",
              "      <td>Не опознано</td>\n",
              "      <td>Назначение;Проектная документация ;Ссылка на Л...</td>\n",
              "    </tr>\n",
              "    <tr>\n",
              "      <th>1</th>\n",
              "      <td>ОБЛАСТЬ ДЕЙСТВИЯ\\nНастоящая Инструкция являетс...</td>\n",
              "      <td>Линейный объект;Площадочные объекты</td>\n",
              "      <td>Не опознано</td>\n",
              "      <td>Проектирование;Эксплуатация</td>\n",
              "      <td>Не опознано</td>\n",
              "      <td>Область действия;Ограничение по применению</td>\n",
              "    </tr>\n",
              "    <tr>\n",
              "      <th>2</th>\n",
              "      <td>ПЕРИОД ДЕЙСТВИЯ И ПОРЯДОК ВНЕСЕНИЯ ИЗМЕНЕНИЙ\\n...</td>\n",
              "      <td>Линейный объект;Площадочные объекты</td>\n",
              "      <td>Не опознано</td>\n",
              "      <td>Проектирование;Эксплуатация</td>\n",
              "      <td>Не опознано</td>\n",
              "      <td>Период действия</td>\n",
              "    </tr>\n",
              "    <tr>\n",
              "      <th>3</th>\n",
              "      <td>ТЕРМИНЫ И ОПРЕДЕЛЕНИЯ КОРПОРАТИВНОГО ГЛОССАРИЯ...</td>\n",
              "      <td>Линейный объект;Площадочные объекты</td>\n",
              "      <td>Не опознано</td>\n",
              "      <td>Проектирование;Эксплуатация</td>\n",
              "      <td>Не опознано</td>\n",
              "      <td>Термины и определения</td>\n",
              "    </tr>\n",
              "    <tr>\n",
              "      <th>4</th>\n",
              "      <td>ТЕРМИНЫ И ОПРЕДЕЛЕНИЯ ДЛЯ ЦЕЛЕЙ НАСТОЯЩЕГО ДОК...</td>\n",
              "      <td>Линейный объект;Площадочные объекты</td>\n",
              "      <td>Не опознано</td>\n",
              "      <td>Проектирование;Эксплуатация</td>\n",
              "      <td>Не опознано</td>\n",
              "      <td>Термины и определения</td>\n",
              "    </tr>\n",
              "  </tbody>\n",
              "</table>\n",
              "</div>"
            ],
            "text/plain": [
              "                                            Документ  ...                                        Структурные\n",
              "0  НАЗНАЧЕНИЕ\\nИнструкция устанавливает единые тр...  ...  Назначение;Проектная документация ;Ссылка на Л...\n",
              "1  ОБЛАСТЬ ДЕЙСТВИЯ\\nНастоящая Инструкция являетс...  ...         Область действия;Ограничение по применению\n",
              "2  ПЕРИОД ДЕЙСТВИЯ И ПОРЯДОК ВНЕСЕНИЯ ИЗМЕНЕНИЙ\\n...  ...                                    Период действия\n",
              "3  ТЕРМИНЫ И ОПРЕДЕЛЕНИЯ КОРПОРАТИВНОГО ГЛОССАРИЯ...  ...                              Термины и определения\n",
              "4  ТЕРМИНЫ И ОПРЕДЕЛЕНИЯ ДЛЯ ЦЕЛЕЙ НАСТОЯЩЕГО ДОК...  ...                              Термины и определения\n",
              "\n",
              "[5 rows x 6 columns]"
            ]
          },
          "metadata": {
            "tags": []
          },
          "execution_count": 18
        }
      ]
    },
    {
      "cell_type": "code",
      "metadata": {
        "id": "liCkI45rQSIF"
      },
      "source": [
        "import re"
      ],
      "execution_count": null,
      "outputs": []
    },
    {
      "cell_type": "code",
      "metadata": {
        "id": "4k1_R8JjQSKn"
      },
      "source": [
        "#применим функцию к нижниму регистру\n",
        "def capitalizer(string: str) -> str:\n",
        "    return string.lower()\n",
        "# Применить функцию\n",
        "data['Документ'] = [capitalizer(string) for string in data['Документ']]"
      ],
      "execution_count": null,
      "outputs": []
    },
    {
      "cell_type": "code",
      "metadata": {
        "id": "tpYRuu8QN2Xt"
      },
      "source": [
        "data['Функциональные'] = [capitalizer(string) for string in data['Функциональные']]"
      ],
      "execution_count": null,
      "outputs": []
    },
    {
      "cell_type": "code",
      "metadata": {
        "id": "DDfQiJu-TEKh"
      },
      "source": [
        "data['Объектные'] = [capitalizer(string) for string in data['Объектные']]"
      ],
      "execution_count": null,
      "outputs": []
    },
    {
      "cell_type": "code",
      "metadata": {
        "id": "Uir3jEiBTEND"
      },
      "source": [
        "data['Структурные'] = [capitalizer(string) for string in data['Структурные']]"
      ],
      "execution_count": null,
      "outputs": []
    },
    {
      "cell_type": "code",
      "metadata": {
        "id": "1Cx6oOeQFfVt"
      },
      "source": [
        "data['Процессные'] = [capitalizer(string) for string in data['Процессные']]"
      ],
      "execution_count": null,
      "outputs": []
    },
    {
      "cell_type": "code",
      "metadata": {
        "id": "d-43sc2AFhW1"
      },
      "source": [
        "data['Ограничения'] = [capitalizer(string) for string in data['Ограничения']]"
      ],
      "execution_count": null,
      "outputs": []
    },
    {
      "cell_type": "code",
      "metadata": {
        "colab": {
          "base_uri": "https://localhost:8080/",
          "height": 289
        },
        "id": "PDm5uVyQTEPy",
        "outputId": "abb356a3-7941-428f-b7f9-a78925a0a8fa"
      },
      "source": [
        "data.head()"
      ],
      "execution_count": null,
      "outputs": [
        {
          "output_type": "execute_result",
          "data": {
            "text/html": [
              "<div>\n",
              "<style scoped>\n",
              "    .dataframe tbody tr th:only-of-type {\n",
              "        vertical-align: middle;\n",
              "    }\n",
              "\n",
              "    .dataframe tbody tr th {\n",
              "        vertical-align: top;\n",
              "    }\n",
              "\n",
              "    .dataframe thead th {\n",
              "        text-align: right;\n",
              "    }\n",
              "</style>\n",
              "<table border=\"1\" class=\"dataframe\">\n",
              "  <thead>\n",
              "    <tr style=\"text-align: right;\">\n",
              "      <th></th>\n",
              "      <th>Документ</th>\n",
              "      <th>Объектные</th>\n",
              "      <th>Функциональные</th>\n",
              "      <th>Процессные</th>\n",
              "      <th>Ограничения</th>\n",
              "      <th>Структурные</th>\n",
              "    </tr>\n",
              "  </thead>\n",
              "  <tbody>\n",
              "    <tr>\n",
              "      <th>0</th>\n",
              "      <td>назначение\\nинструкция устанавливает единые тр...</td>\n",
              "      <td>линейный объект;площадочные объекты</td>\n",
              "      <td>не опознано</td>\n",
              "      <td>проектирование;эксплуатация</td>\n",
              "      <td>не опознано</td>\n",
              "      <td>назначение;проектная документация ;ссылка на л...</td>\n",
              "    </tr>\n",
              "    <tr>\n",
              "      <th>1</th>\n",
              "      <td>область действия\\nнастоящая инструкция являетс...</td>\n",
              "      <td>линейный объект;площадочные объекты</td>\n",
              "      <td>не опознано</td>\n",
              "      <td>проектирование;эксплуатация</td>\n",
              "      <td>не опознано</td>\n",
              "      <td>область действия;ограничение по применению</td>\n",
              "    </tr>\n",
              "    <tr>\n",
              "      <th>2</th>\n",
              "      <td>период действия и порядок внесения изменений\\n...</td>\n",
              "      <td>линейный объект;площадочные объекты</td>\n",
              "      <td>не опознано</td>\n",
              "      <td>проектирование;эксплуатация</td>\n",
              "      <td>не опознано</td>\n",
              "      <td>период действия</td>\n",
              "    </tr>\n",
              "    <tr>\n",
              "      <th>3</th>\n",
              "      <td>термины и определения корпоративного глоссария...</td>\n",
              "      <td>линейный объект;площадочные объекты</td>\n",
              "      <td>не опознано</td>\n",
              "      <td>проектирование;эксплуатация</td>\n",
              "      <td>не опознано</td>\n",
              "      <td>термины и определения</td>\n",
              "    </tr>\n",
              "    <tr>\n",
              "      <th>4</th>\n",
              "      <td>термины и определения для целей настоящего док...</td>\n",
              "      <td>линейный объект;площадочные объекты</td>\n",
              "      <td>не опознано</td>\n",
              "      <td>проектирование;эксплуатация</td>\n",
              "      <td>не опознано</td>\n",
              "      <td>термины и определения</td>\n",
              "    </tr>\n",
              "  </tbody>\n",
              "</table>\n",
              "</div>"
            ],
            "text/plain": [
              "                                            Документ  ...                                        Структурные\n",
              "0  назначение\\nинструкция устанавливает единые тр...  ...  назначение;проектная документация ;ссылка на л...\n",
              "1  область действия\\nнастоящая инструкция являетс...  ...         область действия;ограничение по применению\n",
              "2  период действия и порядок внесения изменений\\n...  ...                                    период действия\n",
              "3  термины и определения корпоративного глоссария...  ...                              термины и определения\n",
              "4  термины и определения для целей настоящего док...  ...                              термины и определения\n",
              "\n",
              "[5 rows x 6 columns]"
            ]
          },
          "metadata": {
            "tags": []
          },
          "execution_count": 26
        }
      ]
    },
    {
      "cell_type": "code",
      "metadata": {
        "id": "GKVbiwfvgf4C"
      },
      "source": [
        "obj = data['Объектные'].str.split(';')"
      ],
      "execution_count": null,
      "outputs": []
    },
    {
      "cell_type": "code",
      "metadata": {
        "id": "mCsEFlmOgf_M"
      },
      "source": [
        "obj = pd.DataFrame(obj)"
      ],
      "execution_count": null,
      "outputs": []
    },
    {
      "cell_type": "code",
      "metadata": {
        "id": "fUaeVff0iOvo"
      },
      "source": [
        "from sklearn.preprocessing import MultiLabelBinarizer"
      ],
      "execution_count": null,
      "outputs": []
    },
    {
      "cell_type": "code",
      "metadata": {
        "id": "AerK2Qu2nmY9"
      },
      "source": [
        "mlb1 = MultiLabelBinarizer()\n",
        "y_obj = mlb1.fit_transform(obj['Объектные'])"
      ],
      "execution_count": null,
      "outputs": []
    },
    {
      "cell_type": "code",
      "metadata": {
        "id": "KW5EyB9VOFdm"
      },
      "source": [
        "#data['Объектные'] = [string.replace(\";\", \" \") for string in data['Объектные']]"
      ],
      "execution_count": null,
      "outputs": []
    },
    {
      "cell_type": "code",
      "metadata": {
        "id": "Z5haEnXWO0jR"
      },
      "source": [
        "#data['Процессные'] = [string.replace(\";\", \" \") for string in data['Процессные']]"
      ],
      "execution_count": null,
      "outputs": []
    },
    {
      "cell_type": "code",
      "metadata": {
        "id": "Ib-Z78RZO7Ts"
      },
      "source": [
        "#data['Структурные'] = [string.replace(\";\", \" \") for string in data['Структурные']]"
      ],
      "execution_count": null,
      "outputs": []
    },
    {
      "cell_type": "code",
      "metadata": {
        "id": "91GUFVN0PET3"
      },
      "source": [
        "#data['Функциональные'] = [string.replace(\";\", \" \") for string in data['Объектные']]"
      ],
      "execution_count": null,
      "outputs": []
    },
    {
      "cell_type": "code",
      "metadata": {
        "id": "BuGsJuVQPn25"
      },
      "source": [
        "#data['Документ'] = [string.replace(\"\\n\", \" \") for string in data['Документ']]"
      ],
      "execution_count": null,
      "outputs": []
    },
    {
      "cell_type": "code",
      "metadata": {
        "id": "V58e6hvpPos3"
      },
      "source": [
        "#data['Ограничения'] = [string.replace(\";\", \" \") for string in data['Ограничения']]"
      ],
      "execution_count": null,
      "outputs": []
    },
    {
      "cell_type": "code",
      "metadata": {
        "id": "gVCl2p68DCJW"
      },
      "source": [
        "def remove_emails(x):\n",
        "     return re.sub(r'([a-z0-9+._-]+@[a-z0-9+._-]+\\.[a-z0-9+_-]+)',\"\", x)"
      ],
      "execution_count": null,
      "outputs": []
    },
    {
      "cell_type": "code",
      "metadata": {
        "id": "UpiDZup7DXuc"
      },
      "source": [
        "def remove_urls(x):\n",
        "    return re.sub(r'(http|https|ftp|ssh)://([\\w_-]+(?:(?:\\.[\\w_-]+)+))([\\w.,@?^=%&:/~+#-]*[\\w@?^=%&/~+#-])?', '' , x)"
      ],
      "execution_count": null,
      "outputs": []
    },
    {
      "cell_type": "code",
      "metadata": {
        "id": "-ZwuJpNXDX0l"
      },
      "source": [
        "def remove_rt(x):\n",
        "    return re.sub(r'\\brt\\b', '', x).strip()"
      ],
      "execution_count": null,
      "outputs": []
    },
    {
      "cell_type": "code",
      "metadata": {
        "id": "in68mn_JDX6C"
      },
      "source": [
        "def remove_special_chars(x):\n",
        "    x = re.sub(r'[^\\w ]+', \"\", x)\n",
        "    x = ' '.join(x.split())\n",
        "    return x"
      ],
      "execution_count": null,
      "outputs": []
    },
    {
      "cell_type": "code",
      "metadata": {
        "id": "92bkp0NNDjRj"
      },
      "source": [
        "data['text_clean'] = data['Документ'].apply(lambda x: remove_emails(x))\n",
        "data['text_clean'] = data['text_clean'].apply(lambda x: remove_urls(x))\n",
        "data['text_clean'] = data['text_clean'].apply(lambda x: remove_rt(x))\n",
        "data['text_clean'] = data['text_clean'].apply(lambda x: remove_special_chars(x))"
      ],
      "execution_count": null,
      "outputs": []
    },
    {
      "cell_type": "code",
      "metadata": {
        "colab": {
          "base_uri": "https://localhost:8080/",
          "height": 374
        },
        "id": "tsrX7pdHOFhM",
        "outputId": "640d8e6a-9de6-4ed6-8074-2a049be7fa52"
      },
      "source": [
        "data.head()"
      ],
      "execution_count": null,
      "outputs": [
        {
          "output_type": "execute_result",
          "data": {
            "text/html": [
              "<div>\n",
              "<style scoped>\n",
              "    .dataframe tbody tr th:only-of-type {\n",
              "        vertical-align: middle;\n",
              "    }\n",
              "\n",
              "    .dataframe tbody tr th {\n",
              "        vertical-align: top;\n",
              "    }\n",
              "\n",
              "    .dataframe thead th {\n",
              "        text-align: right;\n",
              "    }\n",
              "</style>\n",
              "<table border=\"1\" class=\"dataframe\">\n",
              "  <thead>\n",
              "    <tr style=\"text-align: right;\">\n",
              "      <th></th>\n",
              "      <th>Документ</th>\n",
              "      <th>Объектные</th>\n",
              "      <th>Функциональные</th>\n",
              "      <th>Процессные</th>\n",
              "      <th>Ограничения</th>\n",
              "      <th>Структурные</th>\n",
              "      <th>text_clean</th>\n",
              "    </tr>\n",
              "  </thead>\n",
              "  <tbody>\n",
              "    <tr>\n",
              "      <th>0</th>\n",
              "      <td>назначение\\nинструкция устанавливает единые тр...</td>\n",
              "      <td>линейный объект;площадочные объекты</td>\n",
              "      <td>не опознано</td>\n",
              "      <td>проектирование;эксплуатация</td>\n",
              "      <td>не опознано</td>\n",
              "      <td>назначение;проектная документация ;ссылка на л...</td>\n",
              "      <td>назначениеинструкция устанавливает единые треб...</td>\n",
              "    </tr>\n",
              "    <tr>\n",
              "      <th>1</th>\n",
              "      <td>область действия\\nнастоящая инструкция являетс...</td>\n",
              "      <td>линейный объект;площадочные объекты</td>\n",
              "      <td>не опознано</td>\n",
              "      <td>проектирование;эксплуатация</td>\n",
              "      <td>не опознано</td>\n",
              "      <td>область действия;ограничение по применению</td>\n",
              "      <td>область действиянастоящая инструкция является ...</td>\n",
              "    </tr>\n",
              "    <tr>\n",
              "      <th>2</th>\n",
              "      <td>период действия и порядок внесения изменений\\n...</td>\n",
              "      <td>линейный объект;площадочные объекты</td>\n",
              "      <td>не опознано</td>\n",
              "      <td>проектирование;эксплуатация</td>\n",
              "      <td>не опознано</td>\n",
              "      <td>период действия</td>\n",
              "      <td>период действия и порядок внесения измененийна...</td>\n",
              "    </tr>\n",
              "    <tr>\n",
              "      <th>3</th>\n",
              "      <td>термины и определения корпоративного глоссария...</td>\n",
              "      <td>линейный объект;площадочные объекты</td>\n",
              "      <td>не опознано</td>\n",
              "      <td>проектирование;эксплуатация</td>\n",
              "      <td>не опознано</td>\n",
              "      <td>термины и определения</td>\n",
              "      <td>термины и определения корпоративного глоссария...</td>\n",
              "    </tr>\n",
              "    <tr>\n",
              "      <th>4</th>\n",
              "      <td>термины и определения для целей настоящего док...</td>\n",
              "      <td>линейный объект;площадочные объекты</td>\n",
              "      <td>не опознано</td>\n",
              "      <td>проектирование;эксплуатация</td>\n",
              "      <td>не опознано</td>\n",
              "      <td>термины и определения</td>\n",
              "      <td>термины и определения для целей настоящего док...</td>\n",
              "    </tr>\n",
              "  </tbody>\n",
              "</table>\n",
              "</div>"
            ],
            "text/plain": [
              "                                            Документ  ...                                         text_clean\n",
              "0  назначение\\nинструкция устанавливает единые тр...  ...  назначениеинструкция устанавливает единые треб...\n",
              "1  область действия\\nнастоящая инструкция являетс...  ...  область действиянастоящая инструкция является ...\n",
              "2  период действия и порядок внесения изменений\\n...  ...  период действия и порядок внесения измененийна...\n",
              "3  термины и определения корпоративного глоссария...  ...  термины и определения корпоративного глоссария...\n",
              "4  термины и определения для целей настоящего док...  ...  термины и определения для целей настоящего док...\n",
              "\n",
              "[5 rows x 7 columns]"
            ]
          },
          "metadata": {
            "tags": []
          },
          "execution_count": 42
        }
      ]
    },
    {
      "cell_type": "code",
      "metadata": {
        "id": "XueR2i5UOFkY"
      },
      "source": [
        "#УДАЛИТЬ ПРОБЕЛЫ\n",
        "data['text_clean'] = [string.strip() for string in data['text_clean']]"
      ],
      "execution_count": null,
      "outputs": []
    },
    {
      "cell_type": "code",
      "metadata": {
        "id": "ySRW38jUrwjP"
      },
      "source": [
        "y_fun = data[['Функциональные']]"
      ],
      "execution_count": null,
      "outputs": []
    },
    {
      "cell_type": "code",
      "metadata": {
        "colab": {
          "base_uri": "https://localhost:8080/"
        },
        "id": "11KwOTTuOFnY",
        "outputId": "d1d27fd4-0780-4e88-deb5-a7f72300452c"
      },
      "source": [
        "from nltk.tokenize import word_tokenize\n",
        "nltk.download('punkt')"
      ],
      "execution_count": null,
      "outputs": [
        {
          "output_type": "stream",
          "text": [
            "[nltk_data] Downloading package punkt to /root/nltk_data...\n",
            "[nltk_data]   Unzipping tokenizers/punkt.zip.\n"
          ],
          "name": "stdout"
        },
        {
          "output_type": "execute_result",
          "data": {
            "text/plain": [
              "True"
            ]
          },
          "metadata": {
            "tags": []
          },
          "execution_count": 45
        }
      ]
    },
    {
      "cell_type": "code",
      "metadata": {
        "id": "MRHzzfuahUXD"
      },
      "source": [
        "data = data.assign(text_tokenize = data['text_clean'].apply(word_tokenize))"
      ],
      "execution_count": null,
      "outputs": []
    },
    {
      "cell_type": "code",
      "metadata": {
        "colab": {
          "base_uri": "https://localhost:8080/"
        },
        "id": "3Vr56mffkz46",
        "outputId": "5aa4f518-08b5-496c-c04a-c147b1fe858c"
      },
      "source": [
        "#удаление стоп слов\n",
        "from nltk.corpus import stopwords\n",
        "nltk.download('stopwords')"
      ],
      "execution_count": null,
      "outputs": [
        {
          "output_type": "stream",
          "text": [
            "[nltk_data] Downloading package stopwords to /root/nltk_data...\n",
            "[nltk_data]   Unzipping corpora/stopwords.zip.\n"
          ],
          "name": "stdout"
        },
        {
          "output_type": "execute_result",
          "data": {
            "text/plain": [
              "True"
            ]
          },
          "metadata": {
            "tags": []
          },
          "execution_count": 47
        }
      ]
    },
    {
      "cell_type": "code",
      "metadata": {
        "id": "yO3L_PmLkz7i"
      },
      "source": [
        "stop_words = stopwords.words('russian')"
      ],
      "execution_count": null,
      "outputs": []
    },
    {
      "cell_type": "code",
      "metadata": {
        "id": "Lu4PYDF8kz95"
      },
      "source": [
        "data['text_tokenize'] = data['text_tokenize'].apply(lambda x: [item for item in x if item not in stop_words])"
      ],
      "execution_count": null,
      "outputs": []
    },
    {
      "cell_type": "code",
      "metadata": {
        "colab": {
          "base_uri": "https://localhost:8080/"
        },
        "id": "N1zFiV74lij_",
        "outputId": "165c7877-b38a-42d0-9647-ef9455f3e7f5"
      },
      "source": [
        "#лемитизация слов\n",
        "from nltk.stem import WordNetLemmatizer\n",
        "nltk.download('wordnet')"
      ],
      "execution_count": null,
      "outputs": [
        {
          "output_type": "stream",
          "text": [
            "[nltk_data] Downloading package wordnet to /root/nltk_data...\n",
            "[nltk_data]   Unzipping corpora/wordnet.zip.\n"
          ],
          "name": "stdout"
        },
        {
          "output_type": "execute_result",
          "data": {
            "text/plain": [
              "True"
            ]
          },
          "metadata": {
            "tags": []
          },
          "execution_count": 50
        }
      ]
    },
    {
      "cell_type": "code",
      "metadata": {
        "id": "uXe8nR56k0Ln"
      },
      "source": [
        "lemmatizer = WordNetLemmatizer()"
      ],
      "execution_count": null,
      "outputs": []
    },
    {
      "cell_type": "code",
      "metadata": {
        "id": "DRU-iScMk0Nn"
      },
      "source": [
        "data['text_tokenize'] = data['text_tokenize'].apply(lambda x: [lemmatizer.lemmatize(y, pos='v') for y in x])"
      ],
      "execution_count": null,
      "outputs": []
    },
    {
      "cell_type": "code",
      "metadata": {
        "id": "8LVb8GUanVKe"
      },
      "source": [
        "#стемминг \n",
        "from nltk.stem import SnowballStemmer"
      ],
      "execution_count": null,
      "outputs": []
    },
    {
      "cell_type": "code",
      "metadata": {
        "id": "CIyancWInnr4"
      },
      "source": [
        "snowball = SnowballStemmer(\"russian\")"
      ],
      "execution_count": null,
      "outputs": []
    },
    {
      "cell_type": "code",
      "metadata": {
        "id": "nxwsWaR_nnu5"
      },
      "source": [
        "data['text_tokenize'] = data['text_tokenize'].apply(lambda x: [snowball.stem(y) for y in x])"
      ],
      "execution_count": null,
      "outputs": []
    },
    {
      "cell_type": "code",
      "metadata": {
        "id": "V6mlTHNvTMnM"
      },
      "source": [
        "data = data.assign(text_str = data['text_tokenize'].apply(str))"
      ],
      "execution_count": null,
      "outputs": []
    },
    {
      "cell_type": "code",
      "metadata": {
        "id": "ZjEeNYbWTR_4"
      },
      "source": [
        "X = data['text_str']"
      ],
      "execution_count": null,
      "outputs": []
    },
    {
      "cell_type": "code",
      "metadata": {
        "id": "waVljWelSsq6"
      },
      "source": [
        "from sklearn.feature_extraction.text import TfidfVectorizer"
      ],
      "execution_count": null,
      "outputs": []
    },
    {
      "cell_type": "code",
      "metadata": {
        "id": "vLJL9kxXStH2"
      },
      "source": [
        "tfidf = TfidfVectorizer()"
      ],
      "execution_count": null,
      "outputs": []
    },
    {
      "cell_type": "code",
      "metadata": {
        "id": "rJcYz7hlStLD"
      },
      "source": [
        "X = tfidf.fit_transform(X)"
      ],
      "execution_count": null,
      "outputs": []
    },
    {
      "cell_type": "code",
      "metadata": {
        "colab": {
          "base_uri": "https://localhost:8080/"
        },
        "id": "LCCoR__1E0uN",
        "outputId": "5cbc3b2e-ea64-4174-f67f-a567280fce6d"
      },
      "source": [
        "np.shape(X)"
      ],
      "execution_count": null,
      "outputs": [
        {
          "output_type": "execute_result",
          "data": {
            "text/plain": [
              "(1075, 4631)"
            ]
          },
          "metadata": {
            "tags": []
          },
          "execution_count": 61
        }
      ]
    },
    {
      "cell_type": "code",
      "metadata": {
        "id": "sewcZAk4StT1"
      },
      "source": [
        "from sklearn.model_selection import train_test_split\n",
        "from sklearn.tree import DecisionTreeClassifier\n",
        "from sklearn.ensemble import RandomForestClassifier\n",
        "from sklearn.linear_model import LogisticRegression\n",
        "from sklearn.svm import SVC\n",
        "from sklearn.neighbors import KNeighborsClassifier\n",
        "from sklearn.naive_bayes import BernoulliNB\n",
        "from sklearn.naive_bayes import MultinomialNB\n",
        "from sklearn.naive_bayes import GaussianNB\n",
        "from sklearn.ensemble import AdaBoostClassifier\n",
        "from sklearn.ensemble import GradientBoostingClassifier\n",
        "import xgboost\n",
        "from sklearn.linear_model import SGDClassifier"
      ],
      "execution_count": null,
      "outputs": []
    },
    {
      "cell_type": "code",
      "metadata": {
        "id": "p0AnIoF9VgMP"
      },
      "source": [
        "from sklearn.metrics import f1_score"
      ],
      "execution_count": null,
      "outputs": []
    },
    {
      "cell_type": "code",
      "metadata": {
        "id": "zsS4Vj3T0U4p"
      },
      "source": [
        "X_train,X_test,y_train,y_test = train_test_split(X,y_obj,test_size = 0.3,random_state=101)"
      ],
      "execution_count": null,
      "outputs": []
    },
    {
      "cell_type": "code",
      "metadata": {
        "id": "GpaWeGMI0VKD"
      },
      "source": [
        "from sklearn.multiclass import OneVsRestClassifier\n",
        "from sklearn.svm import LinearSVC"
      ],
      "execution_count": null,
      "outputs": []
    },
    {
      "cell_type": "code",
      "metadata": {
        "id": "rZwhUyJf3Eoo"
      },
      "source": [
        "estimator = LinearSVC()\n",
        "classifier = OneVsRestClassifier(estimator, n_jobs=-1)\n",
        "classifier.fit(X_train, y_train)\n",
        "predictions = classifier.predict(X_test)"
      ],
      "execution_count": null,
      "outputs": []
    },
    {
      "cell_type": "code",
      "metadata": {
        "colab": {
          "base_uri": "https://localhost:8080/"
        },
        "id": "C3CA48hO3P60",
        "outputId": "944895f5-b41c-4ada-d1a0-82391ab51080"
      },
      "source": [
        "f1_score(y_test,predictions,average='micro')"
      ],
      "execution_count": null,
      "outputs": [
        {
          "output_type": "execute_result",
          "data": {
            "text/plain": [
              "0.867986798679868"
            ]
          },
          "metadata": {
            "tags": []
          },
          "execution_count": 67
        }
      ]
    },
    {
      "cell_type": "code",
      "metadata": {
        "id": "HepK5F0k3-w5"
      },
      "source": [
        "from sklearn.model_selection import cross_val_score"
      ],
      "execution_count": null,
      "outputs": []
    },
    {
      "cell_type": "code",
      "metadata": {
        "id": "G6tKy8D755g5"
      },
      "source": [
        "cross_obj = cross_val_score(classifier,X,y_obj,cv=10,n_jobs=-1)"
      ],
      "execution_count": null,
      "outputs": []
    },
    {
      "cell_type": "code",
      "metadata": {
        "colab": {
          "base_uri": "https://localhost:8080/"
        },
        "id": "H-poCz_r3-9G",
        "outputId": "a2f9cb75-358f-435f-9457-5b6c14b97e3b"
      },
      "source": [
        "cross_obj.mean()"
      ],
      "execution_count": null,
      "outputs": [
        {
          "output_type": "execute_result",
          "data": {
            "text/plain": [
              "0.6261682242990655"
            ]
          },
          "metadata": {
            "tags": []
          },
          "execution_count": 70
        }
      ]
    },
    {
      "cell_type": "code",
      "metadata": {
        "id": "GgZGGkZq3_A-"
      },
      "source": [
        "from sklearn.multioutput import MultiOutputClassifier\n",
        "from sklearn.neighbors import KNeighborsClassifier"
      ],
      "execution_count": null,
      "outputs": []
    },
    {
      "cell_type": "code",
      "metadata": {
        "id": "pdK7az4s3E6O"
      },
      "source": [
        "clf = MultiOutputClassifier(KNeighborsClassifier()).fit(X_train, y_train)"
      ],
      "execution_count": null,
      "outputs": []
    },
    {
      "cell_type": "code",
      "metadata": {
        "id": "3k5DDc5V6r3D"
      },
      "source": [
        "predictin_clf = clf.predict(X_test)"
      ],
      "execution_count": null,
      "outputs": []
    },
    {
      "cell_type": "code",
      "metadata": {
        "colab": {
          "base_uri": "https://localhost:8080/"
        },
        "id": "sELRbL-U6r8G",
        "outputId": "d9a87453-042c-4638-bb46-9ff0bf00c2b8"
      },
      "source": [
        "f1_score(y_test,predictin_clf,average='micro')"
      ],
      "execution_count": null,
      "outputs": [
        {
          "output_type": "execute_result",
          "data": {
            "text/plain": [
              "0.8130081300813009"
            ]
          },
          "metadata": {
            "tags": []
          },
          "execution_count": 74
        }
      ]
    },
    {
      "cell_type": "code",
      "metadata": {
        "id": "GPLS9CSj7XCP"
      },
      "source": [
        "cross_clf = cross_val_score(clf,X,y_obj,cv=10,n_jobs=-1)"
      ],
      "execution_count": null,
      "outputs": []
    },
    {
      "cell_type": "code",
      "metadata": {
        "colab": {
          "base_uri": "https://localhost:8080/"
        },
        "id": "l9GktjuJ7aM5",
        "outputId": "5f4cd5a8-aeba-46a7-8d2e-139b55d94aba"
      },
      "source": [
        "cross_clf.mean()"
      ],
      "execution_count": null,
      "outputs": [
        {
          "output_type": "execute_result",
          "data": {
            "text/plain": [
              "0.5992990654205608"
            ]
          },
          "metadata": {
            "tags": []
          },
          "execution_count": 76
        }
      ]
    },
    {
      "cell_type": "code",
      "metadata": {
        "id": "OTZ0XRwF6_pG"
      },
      "source": [
        "svc = OneVsRestClassifier(SVC()).fit(X_train, y_train)"
      ],
      "execution_count": null,
      "outputs": []
    },
    {
      "cell_type": "code",
      "metadata": {
        "id": "kYlIK12w6_tc"
      },
      "source": [
        "predict_svc = svc.predict(X_test)"
      ],
      "execution_count": null,
      "outputs": []
    },
    {
      "cell_type": "code",
      "metadata": {
        "colab": {
          "base_uri": "https://localhost:8080/"
        },
        "id": "Ecp0xLce6_xS",
        "outputId": "187cf0f2-a4f5-4984-b193-f1c7c00a8d34"
      },
      "source": [
        "f1_score(y_test,predict_svc,average='micro')"
      ],
      "execution_count": null,
      "outputs": [
        {
          "output_type": "execute_result",
          "data": {
            "text/plain": [
              "0.8361774744027305"
            ]
          },
          "metadata": {
            "tags": []
          },
          "execution_count": 79
        }
      ]
    },
    {
      "cell_type": "code",
      "metadata": {
        "id": "HsMRMUSm6_2q"
      },
      "source": [
        "cross_svc = cross_val_score(svc,X,y_obj,cv=10,n_jobs=-1)"
      ],
      "execution_count": null,
      "outputs": []
    },
    {
      "cell_type": "code",
      "metadata": {
        "colab": {
          "base_uri": "https://localhost:8080/"
        },
        "id": "E0sDCeZd7AMO",
        "outputId": "9d2eca4c-e0ce-4154-dfc8-02c3109f3b91"
      },
      "source": [
        "cross_svc.mean()"
      ],
      "execution_count": null,
      "outputs": [
        {
          "output_type": "execute_result",
          "data": {
            "text/plain": [
              "0.6272326064382139"
            ]
          },
          "metadata": {
            "tags": []
          },
          "execution_count": 81
        }
      ]
    },
    {
      "cell_type": "code",
      "metadata": {
        "id": "mX8J641B6sE3"
      },
      "source": [
        "log = OneVsRestClassifier(LogisticRegression(multi_class='ovr',class_weight='balanced')).fit(X_train,y_train)"
      ],
      "execution_count": null,
      "outputs": []
    },
    {
      "cell_type": "code",
      "metadata": {
        "id": "YTG21ewg7ymk"
      },
      "source": [
        "predict_log = log.predict(X_test)"
      ],
      "execution_count": null,
      "outputs": []
    },
    {
      "cell_type": "code",
      "metadata": {
        "colab": {
          "base_uri": "https://localhost:8080/"
        },
        "id": "MpFhFtIW7yrR",
        "outputId": "810319b8-e81b-4232-c7b6-ba394c34a3ae"
      },
      "source": [
        "f1_score(y_test,predict_log,average='micro')"
      ],
      "execution_count": null,
      "outputs": [
        {
          "output_type": "execute_result",
          "data": {
            "text/plain": [
              "0.8461538461538461"
            ]
          },
          "metadata": {
            "tags": []
          },
          "execution_count": 84
        }
      ]
    },
    {
      "cell_type": "code",
      "metadata": {
        "id": "7xk_iWavHlMf"
      },
      "source": [
        "mlb2 = MultiLabelBinarizer()"
      ],
      "execution_count": null,
      "outputs": []
    },
    {
      "cell_type": "code",
      "metadata": {
        "id": "h1B5ni_g7y1W"
      },
      "source": [
        "fun = data['Функциональные'].str.split(';')"
      ],
      "execution_count": null,
      "outputs": []
    },
    {
      "cell_type": "code",
      "metadata": {
        "id": "j9Pmb8qdOzVU"
      },
      "source": [
        "fun = [x.split(';') for x in list(data['Функциональные'])]"
      ],
      "execution_count": null,
      "outputs": []
    },
    {
      "cell_type": "code",
      "metadata": {
        "colab": {
          "base_uri": "https://localhost:8080/"
        },
        "id": "M-qDLjzCO7GA",
        "outputId": "189af073-c9c4-4a00-f3f2-065389d70185"
      },
      "source": [
        "fun"
      ],
      "execution_count": null,
      "outputs": [
        {
          "output_type": "execute_result",
          "data": {
            "text/plain": [
              "[['не опознано'],\n",
              " ['не опознано'],\n",
              " ['не опознано'],\n",
              " ['не опознано'],\n",
              " ['не опознано'],\n",
              " ['не опознано'],\n",
              " ['не опознано'],\n",
              " ['не опознано'],\n",
              " ['не опознано'],\n",
              " ['не опознано'],\n",
              " ['не опознано'],\n",
              " ['не опознано'],\n",
              " ['не опознано'],\n",
              " ['не опознано'],\n",
              " ['не опознано'],\n",
              " ['не опознано'],\n",
              " ['не опознано'],\n",
              " ['не опознано'],\n",
              " ['не опознано'],\n",
              " ['не опознано'],\n",
              " ['не опознано'],\n",
              " ['не опознано'],\n",
              " ['не опознано'],\n",
              " ['не опознано'],\n",
              " ['не опознано'],\n",
              " ['не опознано'],\n",
              " ['не опознано'],\n",
              " ['не опознано'],\n",
              " ['не опознано'],\n",
              " ['не опознано'],\n",
              " ['не опознано'],\n",
              " ['не опознано'],\n",
              " ['не опознано'],\n",
              " ['не опознано'],\n",
              " ['не опознано'],\n",
              " ['не опознано'],\n",
              " ['не опознано'],\n",
              " ['не опознано'],\n",
              " ['не опознано'],\n",
              " ['не опознано'],\n",
              " ['не опознано'],\n",
              " ['не опознано'],\n",
              " ['не опознано'],\n",
              " ['не опознано'],\n",
              " ['не опознано'],\n",
              " ['не опознано'],\n",
              " ['не опознано'],\n",
              " ['не опознано'],\n",
              " ['не опознано'],\n",
              " ['не опознано'],\n",
              " ['не опознано'],\n",
              " ['не опознано'],\n",
              " ['не опознано'],\n",
              " ['не опознано'],\n",
              " ['не опознано'],\n",
              " ['не опознано'],\n",
              " ['система электроснабжения'],\n",
              " ['система электроснабжения'],\n",
              " ['система электроснабжения'],\n",
              " ['система электроснабжения'],\n",
              " ['система электроснабжения'],\n",
              " ['не опознано'],\n",
              " ['не опознано'],\n",
              " ['автоматизация комплексная'],\n",
              " ['автоматизация комплексная',\n",
              "  'автоматизированная система управления технологическим процессом (асу тп)'],\n",
              " ['автоматизация комплексная',\n",
              "  'автоматизированная система управления технологическим процессом (асу тп)'],\n",
              " ['автоматизация комплексная',\n",
              "  'автоматизированная система управления технологическим процессом (асу тп)'],\n",
              " ['автоматизация комплексная',\n",
              "  'автоматизированная система управления технологическим процессом (асу тп)'],\n",
              " ['автоматизация комплексная',\n",
              "  'автоматизированная система управления технологическим процессом (асу тп)'],\n",
              " ['автоматизация комплексная',\n",
              "  'автоматизированная система управления технологическим процессом (асу тп)'],\n",
              " ['автоматизация комплексная',\n",
              "  'автоматизированная система управления технологическим процессом (асу тп)'],\n",
              " ['автоматизация комплексная',\n",
              "  'автоматизированная система управления технологическим процессом (асу тп)'],\n",
              " ['автоматизация комплексная',\n",
              "  'автоматизированная система управления технологическим процессом (асу тп)'],\n",
              " ['автоматизация комплексная',\n",
              "  'автоматизированная система управления технологическим процессом (асу тп)'],\n",
              " ['автоматизация комплексная',\n",
              "  'автоматизированная система управления технологическим процессом (асу тп)'],\n",
              " ['автоматизация комплексная'],\n",
              " ['автоматизация комплексная'],\n",
              " ['автоматизация комплексная'],\n",
              " ['автоматизация комплексная'],\n",
              " ['автоматизация комплексная', 'автоматизированное рабочее место (арм)'],\n",
              " ['автоматизация комплексная'],\n",
              " ['автоматизация комплексная'],\n",
              " ['автоматизация комплексная'],\n",
              " ['автоматизация комплексная'],\n",
              " ['автоматизация комплексная', 'автоматизированное рабочее место (арм)'],\n",
              " ['автоматизация комплексная', 'автоматизированное рабочее место (арм)'],\n",
              " ['автоматизация комплексная', 'автоматизированное рабочее место (арм)'],\n",
              " ['автоматизация комплексная', 'автоматизированное рабочее место (арм)'],\n",
              " ['автоматизация комплексная', 'автоматизированное рабочее место (арм)'],\n",
              " ['автоматизация комплексная'],\n",
              " ['метрология'],\n",
              " ['метрология'],\n",
              " ['метрология'],\n",
              " ['метрология'],\n",
              " ['метрология'],\n",
              " ['не опознано'],\n",
              " ['не опознано'],\n",
              " ['не опознано'],\n",
              " ['не опознано'],\n",
              " ['не опознано'],\n",
              " ['не опознано'],\n",
              " ['не опознано'],\n",
              " ['не опознано'],\n",
              " ['не опознано'],\n",
              " ['не опознано'],\n",
              " ['не опознано'],\n",
              " ['не опознано'],\n",
              " ['не опознано'],\n",
              " ['не опознано'],\n",
              " ['не опознано'],\n",
              " ['не опознано'],\n",
              " ['не опознано'],\n",
              " ['не опознано'],\n",
              " ['охрана окружающей среды', 'промышленная безопасность'],\n",
              " ['охрана окружающей среды', 'промышленная безопасность'],\n",
              " ['охрана окружающей среды', 'промышленная безопасность'],\n",
              " ['охрана окружающей среды', 'промышленная безопасность'],\n",
              " ['охрана окружающей среды', 'промышленная безопасность'],\n",
              " ['не опознано'],\n",
              " ['не опознано'],\n",
              " ['не опознано'],\n",
              " ['не опознано'],\n",
              " ['не опознано'],\n",
              " ['не опознано'],\n",
              " ['не опознано'],\n",
              " ['не опознано'],\n",
              " ['не опознано'],\n",
              " ['не опознано'],\n",
              " ['не опознано'],\n",
              " ['не опознано'],\n",
              " ['не опознано'],\n",
              " ['не опознано'],\n",
              " ['не опознано'],\n",
              " ['не опознано'],\n",
              " ['не опознано'],\n",
              " ['не опознано'],\n",
              " ['не опознано'],\n",
              " ['не опознано'],\n",
              " ['не опознано'],\n",
              " ['не опознано'],\n",
              " ['не опознано'],\n",
              " ['не опознано'],\n",
              " ['не опознано'],\n",
              " ['не опознано'],\n",
              " ['не опознано'],\n",
              " ['не опознано'],\n",
              " ['не опознано'],\n",
              " ['не опознано'],\n",
              " ['не опознано'],\n",
              " ['не опознано'],\n",
              " ['не опознано'],\n",
              " ['не опознано'],\n",
              " ['не опознано'],\n",
              " ['не опознано'],\n",
              " ['не опознано'],\n",
              " ['не опознано'],\n",
              " ['не опознано'],\n",
              " ['не опознано'],\n",
              " ['не опознано'],\n",
              " ['не опознано'],\n",
              " ['не опознано'],\n",
              " ['не опознано'],\n",
              " ['не опознано'],\n",
              " ['не опознано'],\n",
              " ['не опознано'],\n",
              " ['не опознано'],\n",
              " ['не опознано'],\n",
              " ['не опознано'],\n",
              " ['не опознано'],\n",
              " ['не опознано'],\n",
              " ['не опознано'],\n",
              " ['не опознано'],\n",
              " ['не опознано'],\n",
              " ['не опознано'],\n",
              " ['не опознано'],\n",
              " ['не опознано'],\n",
              " ['не опознано'],\n",
              " ['не опознано'],\n",
              " ['не опознано'],\n",
              " ['не опознано'],\n",
              " ['не опознано'],\n",
              " ['не опознано'],\n",
              " ['не опознано'],\n",
              " ['не опознано'],\n",
              " ['не опознано'],\n",
              " ['не опознано'],\n",
              " ['не опознано'],\n",
              " ['не опознано'],\n",
              " ['не опознано'],\n",
              " ['не опознано'],\n",
              " ['не опознано'],\n",
              " ['не опознано'],\n",
              " ['не опознано'],\n",
              " ['не опознано'],\n",
              " ['не опознано'],\n",
              " ['не опознано'],\n",
              " ['не опознано'],\n",
              " ['не опознано'],\n",
              " ['не опознано'],\n",
              " ['не опознано'],\n",
              " ['не опознано'],\n",
              " ['не опознано'],\n",
              " ['не опознано'],\n",
              " ['не опознано'],\n",
              " ['не опознано'],\n",
              " ['не опознано'],\n",
              " ['не опознано'],\n",
              " ['не опознано'],\n",
              " ['не опознано'],\n",
              " ['не опознано'],\n",
              " ['не опознано'],\n",
              " ['не опознано'],\n",
              " ['не опознано'],\n",
              " ['не опознано'],\n",
              " ['не опознано'],\n",
              " ['не опознано'],\n",
              " ['не опознано'],\n",
              " ['не опознано'],\n",
              " ['не опознано'],\n",
              " ['не опознано'],\n",
              " ['не опознано'],\n",
              " ['не опознано'],\n",
              " ['не опознано'],\n",
              " ['не опознано'],\n",
              " ['не опознано'],\n",
              " ['не опознано'],\n",
              " ['не опознано'],\n",
              " ['не опознано'],\n",
              " ['не опознано'],\n",
              " ['не опознано'],\n",
              " ['не опознано'],\n",
              " ['не опознано'],\n",
              " ['не опознано'],\n",
              " ['не опознано'],\n",
              " ['не опознано'],\n",
              " ['не опознано'],\n",
              " ['не опознано'],\n",
              " ['не опознано'],\n",
              " ['не опознано'],\n",
              " ['не опознано'],\n",
              " ['не опознано'],\n",
              " ['не опознано'],\n",
              " ['не опознано'],\n",
              " ['не опознано'],\n",
              " ['не опознано'],\n",
              " ['не опознано'],\n",
              " ['не опознано'],\n",
              " ['не опознано'],\n",
              " ['не опознано'],\n",
              " ['не опознано'],\n",
              " ['не опознано'],\n",
              " ['не опознано'],\n",
              " ['не опознано'],\n",
              " ['не опознано'],\n",
              " ['не опознано'],\n",
              " ['не опознано'],\n",
              " ['не опознано'],\n",
              " ['не опознано'],\n",
              " ['не опознано'],\n",
              " ['не опознано'],\n",
              " ['не опознано'],\n",
              " ['не опознано'],\n",
              " ['не опознано'],\n",
              " ['не опознано'],\n",
              " ['не опознано'],\n",
              " ['не опознано'],\n",
              " ['не опознано'],\n",
              " ['не опознано'],\n",
              " ['не опознано'],\n",
              " ['не опознано'],\n",
              " ['не опознано'],\n",
              " ['не опознано'],\n",
              " ['не опознано'],\n",
              " ['не опознано'],\n",
              " ['не опознано'],\n",
              " ['не опознано'],\n",
              " ['не опознано'],\n",
              " ['не опознано'],\n",
              " ['не опознано'],\n",
              " ['не опознано'],\n",
              " ['не опознано'],\n",
              " ['не опознано'],\n",
              " ['не опознано'],\n",
              " ['не опознано'],\n",
              " ['не опознано'],\n",
              " ['промышленная безопасность'],\n",
              " ['промышленная безопасность'],\n",
              " ['промышленная безопасность'],\n",
              " ['не опознано'],\n",
              " ['не опознано'],\n",
              " ['не опознано'],\n",
              " ['не опознано'],\n",
              " ['не опознано'],\n",
              " ['не опознано'],\n",
              " ['не опознано'],\n",
              " ['не опознано'],\n",
              " ['не опознано'],\n",
              " ['не опознано'],\n",
              " ['не опознано'],\n",
              " ['не опознано'],\n",
              " ['не опознано'],\n",
              " ['не опознано'],\n",
              " ['не опознано'],\n",
              " ['не опознано'],\n",
              " ['не опознано'],\n",
              " ['не опознано'],\n",
              " ['не опознано'],\n",
              " ['не опознано'],\n",
              " ['не опознано'],\n",
              " ['не опознано'],\n",
              " ['не опознано'],\n",
              " ['не опознано'],\n",
              " ['не опознано'],\n",
              " ['не опознано'],\n",
              " ['не опознано'],\n",
              " ['не опознано'],\n",
              " ['не опознано'],\n",
              " ['не опознано'],\n",
              " ['не опознано'],\n",
              " ['не опознано'],\n",
              " ['не опознано'],\n",
              " ['не опознано'],\n",
              " ['не опознано'],\n",
              " ['не опознано'],\n",
              " ['не опознано'],\n",
              " ['не опознано'],\n",
              " ['не опознано'],\n",
              " ['не опознано'],\n",
              " ['не опознано'],\n",
              " ['не опознано'],\n",
              " ['не опознано'],\n",
              " ['не опознано'],\n",
              " ['не опознано'],\n",
              " ['не опознано'],\n",
              " ['не опознано'],\n",
              " ['не опознано'],\n",
              " ['не опознано'],\n",
              " ['не опознано'],\n",
              " ['не опознано'],\n",
              " ['не опознано'],\n",
              " ['не опознано'],\n",
              " ['не опознано'],\n",
              " ['не опознано'],\n",
              " ['не опознано'],\n",
              " ['не опознано'],\n",
              " ['не опознано'],\n",
              " ['не опознано'],\n",
              " ['не опознано'],\n",
              " ['не опознано'],\n",
              " ['не опознано'],\n",
              " ['не опознано'],\n",
              " ['не опознано'],\n",
              " ['не опознано'],\n",
              " ['не опознано'],\n",
              " ['не опознано'],\n",
              " ['не опознано'],\n",
              " ['не опознано'],\n",
              " ['не опознано'],\n",
              " ['не опознано'],\n",
              " ['не опознано'],\n",
              " ['не опознано'],\n",
              " ['не опознано'],\n",
              " ['не опознано'],\n",
              " ['не опознано'],\n",
              " ['не опознано'],\n",
              " ['не опознано'],\n",
              " ['не опознано'],\n",
              " ['не опознано'],\n",
              " ['не опознано'],\n",
              " ['не опознано'],\n",
              " ['не опознано'],\n",
              " ['не опознано'],\n",
              " ['не опознано'],\n",
              " ['не опознано'],\n",
              " ['не опознано'],\n",
              " ['не опознано'],\n",
              " ['не опознано'],\n",
              " ['не опознано'],\n",
              " ['не опознано'],\n",
              " ['не опознано'],\n",
              " ['не опознано'],\n",
              " ['не опознано'],\n",
              " ['не опознано'],\n",
              " ['не опознано'],\n",
              " ['не опознано'],\n",
              " ['не опознано'],\n",
              " ['не опознано'],\n",
              " ['не опознано'],\n",
              " ['не опознано'],\n",
              " ['не опознано'],\n",
              " ['не опознано'],\n",
              " ['не опознано'],\n",
              " ['не опознано'],\n",
              " ['не опознано'],\n",
              " ['не опознано'],\n",
              " ['не опознано'],\n",
              " ['не опознано'],\n",
              " ['не опознано'],\n",
              " ['не опознано'],\n",
              " ['не опознано'],\n",
              " ['не опознано'],\n",
              " ['не опознано'],\n",
              " ['не опознано'],\n",
              " ['не опознано'],\n",
              " ['не опознано'],\n",
              " ['не опознано'],\n",
              " ['не опознано'],\n",
              " ['не опознано'],\n",
              " ['не опознано'],\n",
              " ['не опознано'],\n",
              " ['не опознано'],\n",
              " ['не опознано'],\n",
              " ['не опознано'],\n",
              " ['не опознано'],\n",
              " ['не опознано'],\n",
              " ['не опознано'],\n",
              " ['не опознано'],\n",
              " ['не опознано'],\n",
              " ['не опознано'],\n",
              " ['не опознано'],\n",
              " ['не опознано'],\n",
              " ['не опознано'],\n",
              " ['не опознано'],\n",
              " ['не опознано'],\n",
              " ['не опознано'],\n",
              " ['не опознано'],\n",
              " ['не опознано'],\n",
              " ['не опознано'],\n",
              " ['не опознано'],\n",
              " ['не опознано'],\n",
              " ['не опознано'],\n",
              " ['не опознано'],\n",
              " ['не опознано'],\n",
              " ['не опознано'],\n",
              " ['не опознано'],\n",
              " ['не опознано'],\n",
              " ['не опознано'],\n",
              " ['не опознано'],\n",
              " ['не опознано'],\n",
              " ['не опознано'],\n",
              " ['не опознано'],\n",
              " ['не опознано'],\n",
              " ['не опознано'],\n",
              " ['не опознано'],\n",
              " ['не опознано'],\n",
              " ['не опознано'],\n",
              " ['не опознано'],\n",
              " ['не опознано'],\n",
              " ['не опознано'],\n",
              " ['не опознано'],\n",
              " ['не опознано'],\n",
              " ['не опознано'],\n",
              " ['не опознано'],\n",
              " ['не опознано'],\n",
              " ['не опознано'],\n",
              " ['не опознано'],\n",
              " ['не опознано'],\n",
              " ['не опознано'],\n",
              " ['не опознано'],\n",
              " ['не опознано'],\n",
              " ['не опознано'],\n",
              " ['не опознано'],\n",
              " ['не опознано'],\n",
              " ['не опознано'],\n",
              " ['не опознано'],\n",
              " ['не опознано'],\n",
              " ['не опознано'],\n",
              " ['не опознано'],\n",
              " ['не опознано'],\n",
              " ['не опознано'],\n",
              " ['не опознано'],\n",
              " ['не опознано'],\n",
              " ['не опознано'],\n",
              " ['не опознано'],\n",
              " ['не опознано'],\n",
              " ['не опознано'],\n",
              " ['не опознано'],\n",
              " ['не опознано'],\n",
              " ['не опознано'],\n",
              " ['не опознано'],\n",
              " ['не опознано'],\n",
              " ['не опознано'],\n",
              " ['не опознано'],\n",
              " ['не опознано'],\n",
              " ['не опознано'],\n",
              " ['не опознано'],\n",
              " ['не опознано'],\n",
              " ['не опознано'],\n",
              " ['не опознано'],\n",
              " ['не опознано'],\n",
              " ['не опознано'],\n",
              " ['не опознано'],\n",
              " ['не опознано'],\n",
              " ['не опознано'],\n",
              " ['не опознано'],\n",
              " ['не опознано'],\n",
              " ['не опознано'],\n",
              " ['не опознано'],\n",
              " ['не опознано'],\n",
              " ['не опознано'],\n",
              " ['энергоснабжение'],\n",
              " ['энергоснабжение'],\n",
              " ['энергоснабжение'],\n",
              " ['энергоснабжение'],\n",
              " ['энергоснабжение'],\n",
              " ['энергоснабжение'],\n",
              " ['энергоснабжение'],\n",
              " ['энергоснабжение'],\n",
              " ['энергоснабжение'],\n",
              " ['энергоснабжение'],\n",
              " ['энергоснабжение'],\n",
              " ['энергоснабжение'],\n",
              " ['энергоснабжение'],\n",
              " ['энергоснабжение'],\n",
              " ['энергоснабжение'],\n",
              " ['энергоснабжение'],\n",
              " ['энергоснабжение'],\n",
              " ['энергоснабжение'],\n",
              " ['энергоснабжение'],\n",
              " ['не опознано'],\n",
              " ['не опознано'],\n",
              " ['не опознано'],\n",
              " ['не опознано'],\n",
              " ['не опознано'],\n",
              " ['не опознано'],\n",
              " ['не опознано'],\n",
              " ['не опознано'],\n",
              " ['не опознано'],\n",
              " ['не опознано'],\n",
              " ['не опознано'],\n",
              " ['не опознано'],\n",
              " ['не опознано'],\n",
              " ['не опознано'],\n",
              " ['не опознано'],\n",
              " ['не опознано'],\n",
              " ['не опознано'],\n",
              " ['не опознано'],\n",
              " ['не опознано'],\n",
              " ['не опознано'],\n",
              " ['не опознано'],\n",
              " ['не опознано'],\n",
              " ['не опознано'],\n",
              " ['не опознано'],\n",
              " ['не опознано'],\n",
              " ['не опознано'],\n",
              " ['не опознано'],\n",
              " ['не опознано'],\n",
              " ['не опознано'],\n",
              " ['не опознано'],\n",
              " ['не опознано'],\n",
              " ['не опознано'],\n",
              " ['не опознано'],\n",
              " ['не опознано'],\n",
              " ['не опознано'],\n",
              " ['не опознано'],\n",
              " ['система электрообогрева', 'система электроснабжения'],\n",
              " ['система электрообогрева', 'система электроснабжения'],\n",
              " ['система электрообогрева', 'система электроснабжения'],\n",
              " ['система электрообогрева', 'система электроснабжения'],\n",
              " ['система электрообогрева', 'система электроснабжения'],\n",
              " ['система электрообогрева', 'система электроснабжения'],\n",
              " ['система электрообогрева', 'система электроснабжения'],\n",
              " ['система электрообогрева', 'система электроснабжения'],\n",
              " ['система электрообогрева', 'система электроснабжения'],\n",
              " ['система электрообогрева', 'система электроснабжения'],\n",
              " ['система электрообогрева', 'система электроснабжения'],\n",
              " ['система электрообогрева', 'система электроснабжения'],\n",
              " ['система электрообогрева', 'система электроснабжения'],\n",
              " ['система электрообогрева', 'система электроснабжения'],\n",
              " ['система электрообогрева', 'система электроснабжения'],\n",
              " ['система электрообогрева', 'система электроснабжения'],\n",
              " ['система электрообогрева', 'система электроснабжения'],\n",
              " ['система электрообогрева', 'система электроснабжения'],\n",
              " ['система электрообогрева', 'система электроснабжения'],\n",
              " ['система электрообогрева', 'система электроснабжения'],\n",
              " ['система электрообогрева', 'система электроснабжения'],\n",
              " ['не опознано'],\n",
              " ['не опознано'],\n",
              " ['не опознано'],\n",
              " ['не опознано'],\n",
              " ['не опознано'],\n",
              " ['не опознано'],\n",
              " ['не опознано'],\n",
              " ['не опознано'],\n",
              " ['не опознано'],\n",
              " ['не опознано'],\n",
              " ['не опознано'],\n",
              " ['не опознано'],\n",
              " ['не опознано'],\n",
              " ['не опознано'],\n",
              " ['не опознано'],\n",
              " ['не опознано'],\n",
              " ['не опознано'],\n",
              " ['не опознано'],\n",
              " ['не опознано'],\n",
              " ['не опознано'],\n",
              " ['не опознано'],\n",
              " ['не опознано'],\n",
              " ['не опознано'],\n",
              " ['не опознано'],\n",
              " ['не опознано'],\n",
              " ['не опознано'],\n",
              " ['не опознано'],\n",
              " ['не опознано'],\n",
              " ['не опознано'],\n",
              " ['не опознано'],\n",
              " ['не опознано'],\n",
              " ['не опознано'],\n",
              " ['не опознано'],\n",
              " ['не опознано'],\n",
              " ['не опознано'],\n",
              " ['не опознано'],\n",
              " ['не опознано'],\n",
              " ['не опознано'],\n",
              " ['не опознано'],\n",
              " ['не опознано'],\n",
              " ['не опознано'],\n",
              " ['не опознано'],\n",
              " ['не опознано'],\n",
              " ['не опознано'],\n",
              " ['не опознано'],\n",
              " ['не опознано'],\n",
              " ['не опознано'],\n",
              " ['не опознано'],\n",
              " ['не опознано'],\n",
              " ['не опознано'],\n",
              " ['не опознано'],\n",
              " ['не опознано'],\n",
              " ['не опознано'],\n",
              " ['не опознано'],\n",
              " ['не опознано'],\n",
              " ['не опознано'],\n",
              " ['не опознано'],\n",
              " ['не опознано'],\n",
              " ['не опознано'],\n",
              " ['не опознано'],\n",
              " ['не опознано'],\n",
              " ['не опознано'],\n",
              " ['не опознано'],\n",
              " ['не опознано'],\n",
              " ['не опознано'],\n",
              " ['не опознано'],\n",
              " ['не опознано'],\n",
              " ['не опознано'],\n",
              " ['не опознано'],\n",
              " ['не опознано'],\n",
              " ['не опознано'],\n",
              " ['не опознано'],\n",
              " ['не опознано'],\n",
              " ['не опознано'],\n",
              " ['энергоснабжение'],\n",
              " ['энергоснабжение'],\n",
              " ['энергоснабжение'],\n",
              " ['энергоснабжение'],\n",
              " ['энергоснабжение'],\n",
              " ['энергоснабжение'],\n",
              " ['энергоснабжение'],\n",
              " ['энергоснабжение'],\n",
              " ['энергоснабжение'],\n",
              " ['энергоснабжение'],\n",
              " ['энергоснабжение'],\n",
              " ['энергоснабжение'],\n",
              " ['энергоснабжение'],\n",
              " ['энергоснабжение'],\n",
              " ['энергоснабжение'],\n",
              " ['энергоснабжение'],\n",
              " ['энергоснабжение'],\n",
              " ['энергоснабжение'],\n",
              " ['энергоснабжение'],\n",
              " ['энергоснабжение'],\n",
              " ['энергоснабжение'],\n",
              " ['не опознано'],\n",
              " ['не опознано'],\n",
              " ['не опознано'],\n",
              " ['не опознано'],\n",
              " ['не опознано'],\n",
              " ['не опознано'],\n",
              " ['не опознано'],\n",
              " ['не опознано'],\n",
              " ['не опознано'],\n",
              " ['не опознано'],\n",
              " ['не опознано'],\n",
              " ['не опознано'],\n",
              " ['не опознано'],\n",
              " ['не опознано'],\n",
              " ['не опознано'],\n",
              " ['не опознано'],\n",
              " ['не опознано'],\n",
              " ['не опознано'],\n",
              " ['не опознано'],\n",
              " ['не опознано'],\n",
              " ['не опознано'],\n",
              " ['не опознано'],\n",
              " ['не опознано'],\n",
              " ['не опознано'],\n",
              " ['не опознано'],\n",
              " ['не опознано'],\n",
              " ['не опознано'],\n",
              " ['не опознано'],\n",
              " ['не опознано'],\n",
              " ['не опознано'],\n",
              " ['не опознано'],\n",
              " ['не опознано'],\n",
              " ['не опознано'],\n",
              " ['не опознано'],\n",
              " ['не опознано'],\n",
              " ['не опознано'],\n",
              " ['не опознано'],\n",
              " ['не опознано'],\n",
              " ['не опознано'],\n",
              " ['не опознано'],\n",
              " ['не опознано'],\n",
              " ['не опознано'],\n",
              " ['не опознано'],\n",
              " ['не опознано'],\n",
              " ['не опознано'],\n",
              " ['не опознано'],\n",
              " ['не опознано'],\n",
              " ['не опознано'],\n",
              " ['не опознано'],\n",
              " ['не опознано'],\n",
              " ['не опознано'],\n",
              " ['не опознано'],\n",
              " ['не опознано'],\n",
              " ['не опознано'],\n",
              " ['не опознано'],\n",
              " ['не опознано'],\n",
              " ['не опознано'],\n",
              " ['не опознано'],\n",
              " ['не опознано'],\n",
              " ['не опознано'],\n",
              " ['не опознано'],\n",
              " ['не опознано'],\n",
              " ['не опознано'],\n",
              " ['не опознано'],\n",
              " ['не опознано'],\n",
              " ['не опознано'],\n",
              " ['не опознано'],\n",
              " ['не опознано'],\n",
              " ['не опознано'],\n",
              " ['не опознано'],\n",
              " ['не опознано'],\n",
              " ['не опознано'],\n",
              " ['не опознано'],\n",
              " ['не опознано'],\n",
              " ['не опознано'],\n",
              " ['не опознано'],\n",
              " ['не опознано'],\n",
              " ['не опознано'],\n",
              " ['не опознано'],\n",
              " ['не опознано'],\n",
              " ['не опознано'],\n",
              " ['не опознано'],\n",
              " ['не опознано'],\n",
              " ['не опознано'],\n",
              " ['не опознано'],\n",
              " ['не опознано'],\n",
              " ['не опознано'],\n",
              " ['не опознано'],\n",
              " ['автоматическое секционирование вл'],\n",
              " ['автоматическое секционирование вл'],\n",
              " ['автоматическое секционирование вл'],\n",
              " ['автоматическое секционирование вл'],\n",
              " ['автоматическое секционирование вл'],\n",
              " ['автоматическое секционирование вл'],\n",
              " ['автоматическое секционирование вл'],\n",
              " ['автоматическое секционирование вл'],\n",
              " ['автоматическое секционирование вл'],\n",
              " ['автоматическое секционирование вл'],\n",
              " ['автоматическое секционирование вл'],\n",
              " ['автоматическое секционирование вл'],\n",
              " ['автоматическое секционирование вл'],\n",
              " ['автоматическое секционирование вл'],\n",
              " ['автоматическое секционирование вл'],\n",
              " ['автоматическое секционирование вл'],\n",
              " ['автоматическое секционирование вл'],\n",
              " ['автоматическое секционирование вл'],\n",
              " ['автоматическое секционирование вл'],\n",
              " ['не опознано'],\n",
              " ['не опознано'],\n",
              " ['не опознано'],\n",
              " ['не опознано'],\n",
              " ['не опознано'],\n",
              " ['не опознано'],\n",
              " ['не опознано'],\n",
              " ['не опознано'],\n",
              " ['не опознано'],\n",
              " ['не опознано'],\n",
              " ['не опознано'],\n",
              " ['не опознано'],\n",
              " ['не опознано'],\n",
              " ['не опознано'],\n",
              " ['не опознано'],\n",
              " ['не опознано'],\n",
              " ['не опознано'],\n",
              " ['не опознано'],\n",
              " ['не опознано'],\n",
              " ['не опознано'],\n",
              " ['не опознано'],\n",
              " ['не опознано'],\n",
              " ['не опознано'],\n",
              " ['не опознано'],\n",
              " ['не опознано'],\n",
              " ['не опознано'],\n",
              " ['не опознано'],\n",
              " ['не опознано'],\n",
              " ['не опознано'],\n",
              " ['не опознано'],\n",
              " ['не опознано'],\n",
              " ['не опознано'],\n",
              " ['не опознано'],\n",
              " ['не опознано'],\n",
              " ['не опознано'],\n",
              " ['не опознано'],\n",
              " ['не опознано'],\n",
              " ['не опознано'],\n",
              " ['не опознано'],\n",
              " ['не опознано'],\n",
              " ['не опознано'],\n",
              " ['не опознано'],\n",
              " ['не опознано'],\n",
              " ['не опознано'],\n",
              " ['не опознано'],\n",
              " ['не опознано'],\n",
              " ['не опознано'],\n",
              " ['не опознано'],\n",
              " ['не опознано'],\n",
              " ['не опознано'],\n",
              " ['не опознано'],\n",
              " ['не опознано'],\n",
              " ['не опознано'],\n",
              " ['не опознано'],\n",
              " ['не опознано'],\n",
              " ['не опознано'],\n",
              " ['не опознано'],\n",
              " ['не опознано'],\n",
              " ['не опознано'],\n",
              " ['не опознано'],\n",
              " ['не опознано'],\n",
              " ['не опознано'],\n",
              " ['не опознано'],\n",
              " ['не опознано'],\n",
              " ['не опознано'],\n",
              " ['энергоснабжение'],\n",
              " ['энергоснабжение'],\n",
              " ['энергоснабжение'],\n",
              " ['энергоснабжение'],\n",
              " ['энергоснабжение'],\n",
              " ['энергоснабжение'],\n",
              " ['энергоснабжение'],\n",
              " ['энергоснабжение'],\n",
              " ['энергоснабжение'],\n",
              " ['энергоснабжение'],\n",
              " ['энергоснабжение'],\n",
              " ['энергоснабжение'],\n",
              " ['энергоснабжение'],\n",
              " ['энергоснабжение'],\n",
              " ['энергоснабжение'],\n",
              " ['энергоснабжение'],\n",
              " ['энергоснабжение'],\n",
              " ['энергоснабжение'],\n",
              " ['не опознано'],\n",
              " ['не опознано'],\n",
              " ['не опознано'],\n",
              " ['не опознано'],\n",
              " ['не опознано'],\n",
              " ['не опознано'],\n",
              " ['не опознано'],\n",
              " ['не опознано'],\n",
              " ['не опознано'],\n",
              " ['не опознано'],\n",
              " ['не опознано'],\n",
              " ['не опознано'],\n",
              " ['не опознано'],\n",
              " ['не опознано'],\n",
              " ['не опознано'],\n",
              " ['не опознано'],\n",
              " ['не опознано'],\n",
              " ['не опознано'],\n",
              " ['не опознано'],\n",
              " ['не опознано'],\n",
              " ['не опознано'],\n",
              " ['не опознано'],\n",
              " ['не опознано'],\n",
              " ['не опознано'],\n",
              " ['не опознано'],\n",
              " ['не опознано'],\n",
              " ['не опознано'],\n",
              " ['не опознано'],\n",
              " ['не опознано'],\n",
              " ['не опознано'],\n",
              " ['не опознано'],\n",
              " ['не опознано'],\n",
              " ['не опознано'],\n",
              " ['не опознано'],\n",
              " ['не опознано'],\n",
              " ['не опознано'],\n",
              " ['не опознано'],\n",
              " ['не опознано'],\n",
              " ['не опознано'],\n",
              " ['не опознано'],\n",
              " ['не опознано'],\n",
              " ['не опознано'],\n",
              " ['не опознано'],\n",
              " ['не опознано'],\n",
              " ['не опознано'],\n",
              " ['не опознано'],\n",
              " ['не опознано'],\n",
              " ['не опознано'],\n",
              " ['не опознано'],\n",
              " ['не опознано'],\n",
              " ['не опознано'],\n",
              " ['не опознано'],\n",
              " ['не опознано'],\n",
              " ['система электроснабжения', 'энергоснабжение'],\n",
              " ['система электроснабжения', 'энергоснабжение'],\n",
              " ['система электроснабжения', 'энергоснабжение'],\n",
              " ['система электроснабжения', 'энергоснабжение'],\n",
              " ['система электроснабжения', 'энергоснабжение'],\n",
              " ['система электроснабжения', 'энергоснабжение'],\n",
              " ['система электроснабжения', 'энергоснабжение'],\n",
              " ['система электроснабжения', 'энергоснабжение'],\n",
              " ['система электроснабжения', 'энергоснабжение'],\n",
              " ['система электроснабжения', 'энергоснабжение'],\n",
              " ['система электроснабжения', 'энергоснабжение'],\n",
              " ['система электроснабжения', 'энергоснабжение'],\n",
              " ['система электроснабжения', 'энергоснабжение'],\n",
              " ['система электроснабжения', 'энергоснабжение'],\n",
              " ['система электроснабжения', 'энергоснабжение'],\n",
              " ['система электроснабжения', 'энергоснабжение'],\n",
              " ['система электроснабжения', 'энергоснабжение'],\n",
              " ['система электроснабжения', 'энергоснабжение'],\n",
              " ['система электроснабжения', 'энергоснабжение'],\n",
              " ['система электроснабжения', 'энергоснабжение'],\n",
              " ['система электроснабжения', 'энергоснабжение'],\n",
              " ['система электроснабжения', 'энергоснабжение'],\n",
              " ['система электроснабжения', 'энергоснабжение'],\n",
              " ['система электроснабжения', 'энергоснабжение'],\n",
              " ['система электроснабжения', 'энергоснабжение'],\n",
              " ['система электроснабжения', 'энергоснабжение'],\n",
              " ['система электроснабжения', 'энергоснабжение'],\n",
              " ['система электроснабжения', 'энергоснабжение'],\n",
              " ['система электроснабжения', 'энергоснабжение'],\n",
              " ['система электроснабжения', 'энергоснабжение'],\n",
              " ['система электроснабжения', 'энергоснабжение'],\n",
              " ['система электроснабжения', 'энергоснабжение'],\n",
              " ['система электроснабжения', 'энергоснабжение'],\n",
              " ['система электроснабжения', 'энергоснабжение'],\n",
              " ['система электроснабжения', 'энергоснабжение'],\n",
              " ['система электроснабжения', 'энергоснабжение'],\n",
              " ['система электроснабжения', 'энергоснабжение'],\n",
              " ['система электроснабжения', 'энергоснабжение'],\n",
              " ['система электроснабжения', 'энергоснабжение'],\n",
              " ['система электроснабжения', 'энергоснабжение'],\n",
              " ['система электроснабжения', 'энергоснабжение'],\n",
              " ['система электроснабжения', 'энергоснабжение'],\n",
              " ['не опознано'],\n",
              " ['не опознано'],\n",
              " ['не опознано'],\n",
              " ['не опознано'],\n",
              " ['не опознано'],\n",
              " ['не опознано'],\n",
              " ['не опознано'],\n",
              " ['не опознано'],\n",
              " ['не опознано'],\n",
              " ['не опознано'],\n",
              " ['не опознано'],\n",
              " ['не опознано'],\n",
              " ['не опознано'],\n",
              " ['не опознано'],\n",
              " ['не опознано'],\n",
              " ['не опознано'],\n",
              " ['не опознано'],\n",
              " ['не опознано'],\n",
              " ['не опознано'],\n",
              " ['не опознано'],\n",
              " ['не опознано'],\n",
              " ['не опознано'],\n",
              " ['не опознано'],\n",
              " ['не опознано'],\n",
              " ['не опознано'],\n",
              " ['не опознано'],\n",
              " ['не опознано'],\n",
              " ['не опознано'],\n",
              " ['не опознано'],\n",
              " ['не опознано'],\n",
              " ['не опознано'],\n",
              " ['не опознано'],\n",
              " ['не опознано'],\n",
              " ['не опознано'],\n",
              " ['не опознано'],\n",
              " ['не опознано'],\n",
              " ['не опознано'],\n",
              " ['не опознано'],\n",
              " ['система электроснабжения'],\n",
              " ['система электроснабжения'],\n",
              " ['система электроснабжения'],\n",
              " ['система электроснабжения'],\n",
              " ['система электроснабжения'],\n",
              " ['система электроснабжения'],\n",
              " ...]"
            ]
          },
          "metadata": {
            "tags": []
          },
          "execution_count": 130
        }
      ]
    },
    {
      "cell_type": "code",
      "metadata": {
        "id": "pzkEo3GW9eqs"
      },
      "source": [
        "y_fun = mlb2.fit_transform(fun)"
      ],
      "execution_count": null,
      "outputs": []
    },
    {
      "cell_type": "code",
      "metadata": {
        "id": "sV7LznS2yswc"
      },
      "source": [
        "X_train_fun,X_test_fun,y_train_fun,y_test_fun = train_test_split(X,y_fun,test_size=0.3,random_state=103)"
      ],
      "execution_count": null,
      "outputs": []
    },
    {
      "cell_type": "code",
      "metadata": {
        "id": "IDT3g4GW-Sjl"
      },
      "source": [
        "estimator_fun = LinearSVC()\n",
        "classifier_fun = OneVsRestClassifier(estimator_fun, n_jobs=-1)\n",
        "classifier_fun.fit(X_train_fun, y_train_fun)\n",
        "predictions_fun = classifier_fun.predict(X_test_fun)"
      ],
      "execution_count": null,
      "outputs": []
    },
    {
      "cell_type": "code",
      "metadata": {
        "colab": {
          "base_uri": "https://localhost:8080/"
        },
        "id": "aybb-IZW-hwh",
        "outputId": "5be9b3b9-21a6-413d-f82b-4601cc582197"
      },
      "source": [
        "f1_score(y_test_fun,predictions_fun,average='micro')"
      ],
      "execution_count": null,
      "outputs": [
        {
          "output_type": "execute_result",
          "data": {
            "text/plain": [
              "0.9025487256371815"
            ]
          },
          "metadata": {
            "tags": []
          },
          "execution_count": 134
        }
      ]
    },
    {
      "cell_type": "markdown",
      "metadata": {
        "id": "pgUkPnR5HLaM"
      },
      "source": [
        "ПРОЦЕССНЫЕ"
      ]
    },
    {
      "cell_type": "code",
      "metadata": {
        "id": "kbWIe3VEHzo4"
      },
      "source": [
        "mlb3 = MultiLabelBinarizer()"
      ],
      "execution_count": null,
      "outputs": []
    },
    {
      "cell_type": "code",
      "metadata": {
        "id": "kGIsVNix-zCP"
      },
      "source": [
        "proc = data['Процессные'].str.split(';')"
      ],
      "execution_count": null,
      "outputs": []
    },
    {
      "cell_type": "code",
      "metadata": {
        "id": "QZS_aTNjPznO"
      },
      "source": [
        "proc = [x.split(';') for x in list(data['Процессные'])]"
      ],
      "execution_count": null,
      "outputs": []
    },
    {
      "cell_type": "code",
      "metadata": {
        "colab": {
          "base_uri": "https://localhost:8080/"
        },
        "id": "ZhzNKWikJzjV",
        "outputId": "b35e9e18-268e-4085-a410-8cfa5f738b52"
      },
      "source": [
        "proc"
      ],
      "execution_count": null,
      "outputs": [
        {
          "output_type": "execute_result",
          "data": {
            "text/plain": [
              "[['проектирование', 'эксплуатация'],\n",
              " ['проектирование', 'эксплуатация'],\n",
              " ['проектирование', 'эксплуатация'],\n",
              " ['проектирование', 'эксплуатация'],\n",
              " ['проектирование', 'эксплуатация'],\n",
              " ['проектирование', 'эксплуатация'],\n",
              " ['проектирование', 'эксплуатация'],\n",
              " ['проектирование', 'эксплуатация'],\n",
              " ['не опознано'],\n",
              " ['не опознано'],\n",
              " ['не опознано'],\n",
              " ['не опознано'],\n",
              " ['не опознано'],\n",
              " ['не опознано'],\n",
              " ['не опознано'],\n",
              " ['не опознано'],\n",
              " ['не опознано'],\n",
              " ['не опознано'],\n",
              " ['не опознано'],\n",
              " ['не опознано'],\n",
              " ['не опознано'],\n",
              " ['не опознано'],\n",
              " ['не опознано'],\n",
              " ['не опознано'],\n",
              " ['не опознано'],\n",
              " ['не опознано'],\n",
              " ['не опознано'],\n",
              " ['комплектация', 'проектирование'],\n",
              " ['комплектация', 'проектирование'],\n",
              " ['комплектация', 'проектирование'],\n",
              " ['комплектация', 'проектирование'],\n",
              " ['комплектация', 'проектирование'],\n",
              " ['налив'],\n",
              " ['эксплуатация'],\n",
              " ['эксплуатация'],\n",
              " ['монтаж', 'транспортирование', 'хранение', 'эксплуатация'],\n",
              " ['эксплуатация'],\n",
              " ['эксплуатация'],\n",
              " ['эксплуатация'],\n",
              " ['комплектация', 'проектирование'],\n",
              " ['комплектация', 'проектирование'],\n",
              " ['комплектация', 'проектирование'],\n",
              " ['комплектация', 'проектирование'],\n",
              " ['комплектация', 'проектирование'],\n",
              " ['комплектация', 'проектирование'],\n",
              " ['комплектация', 'проектирование'],\n",
              " ['комплектация', 'проектирование'],\n",
              " ['комплектация', 'проектирование'],\n",
              " ['комплектация', 'проектирование'],\n",
              " ['комплектация', 'проектирование'],\n",
              " ['комплектация', 'проектирование'],\n",
              " ['комплектация', 'проектирование'],\n",
              " ['комплектация', 'налив', 'проектирование'],\n",
              " ['комплектация', 'проектирование'],\n",
              " ['комплектация', 'проектирование'],\n",
              " ['комплектация', 'проектирование'],\n",
              " ['комплектация', 'проектирование'],\n",
              " ['комплектация', 'проектирование'],\n",
              " ['комплектация', 'проектирование'],\n",
              " ['комплектация', 'проектирование'],\n",
              " ['комплектация', 'проектирование'],\n",
              " ['комплектация', 'проектирование'],\n",
              " ['комплектация', 'проектирование'],\n",
              " ['комплектация', 'проектирование'],\n",
              " ['комплектация', 'проектирование'],\n",
              " ['комплектация', 'проектирование'],\n",
              " ['комплектация', 'проектирование'],\n",
              " ['комплектация', 'проектирование'],\n",
              " ['комплектация', 'проектирование'],\n",
              " ['комплектация', 'проектирование'],\n",
              " ['комплектация', 'проектирование'],\n",
              " ['комплектация', 'проектирование'],\n",
              " ['комплектация', 'проектирование'],\n",
              " ['комплектация', 'проектирование'],\n",
              " ['комплектация', 'проектирование'],\n",
              " ['комплектация', 'проектирование'],\n",
              " ['комплектация', 'проектирование'],\n",
              " ['комплектация', 'проектирование'],\n",
              " ['комплектация', 'проектирование'],\n",
              " ['комплектация', 'проектирование'],\n",
              " ['комплектация', 'проектирование'],\n",
              " ['комплектация', 'проектирование'],\n",
              " ['комплектация', 'проектирование'],\n",
              " ['комплектация', 'проектирование'],\n",
              " ['комплектация', 'проектирование'],\n",
              " ['комплектация', 'проектирование'],\n",
              " ['комплектация', 'проектирование'],\n",
              " ['комплектация', 'проектирование'],\n",
              " ['комплектация', 'проектирование'],\n",
              " ['комплектация', 'проектирование'],\n",
              " ['комплектация', 'проектирование'],\n",
              " ['комплектация', 'проектирование'],\n",
              " ['комплектация', 'проектирование'],\n",
              " ['комплектация', 'проектирование'],\n",
              " ['комплектация', 'проектирование'],\n",
              " ['испытание'],\n",
              " ['не опознано'],\n",
              " ['не опознано'],\n",
              " ['хранение'],\n",
              " ['маркировка'],\n",
              " ['маркировка'],\n",
              " ['маркировка'],\n",
              " ['комплектация'],\n",
              " ['комплектация'],\n",
              " ['комплектация', 'проектирование'],\n",
              " ['комплектация', 'проектирование'],\n",
              " ['комплектация', 'проектирование', ' утилизация'],\n",
              " ['транспортирование', 'хранение'],\n",
              " ['транспортирование', 'хранение'],\n",
              " ['транспортирование', 'хранение'],\n",
              " ['транспортирование', 'хранение'],\n",
              " ['транспортирование', 'хранение'],\n",
              " ['транспортирование', 'хранение'],\n",
              " ['комплектация', 'проектирование'],\n",
              " ['комплектация', 'проектирование'],\n",
              " ['комплектация', 'проектирование'],\n",
              " ['комплектация', 'проектирование'],\n",
              " ['комплектация', 'проектирование'],\n",
              " ['комплектация', 'проектирование'],\n",
              " ['комплектация', 'проектирование'],\n",
              " ['комплектация', 'проектирование'],\n",
              " ['комплектация', 'проектирование'],\n",
              " ['комплектация', 'проектирование'],\n",
              " ['комплектация', 'проектирование'],\n",
              " ['не опознано'],\n",
              " ['не опознано'],\n",
              " ['не опознано'],\n",
              " ['не опознано'],\n",
              " ['не опознано'],\n",
              " ['не опознано'],\n",
              " ['не опознано'],\n",
              " ['не опознано'],\n",
              " ['не опознано'],\n",
              " ['не опознано'],\n",
              " ['не опознано'],\n",
              " ['не опознано'],\n",
              " ['не опознано'],\n",
              " ['не опознано'],\n",
              " ['не опознано'],\n",
              " ['не опознано'],\n",
              " ['не опознано'],\n",
              " ['не опознано'],\n",
              " ['не опознано'],\n",
              " ['не опознано'],\n",
              " ['не опознано'],\n",
              " ['не опознано'],\n",
              " ['не опознано'],\n",
              " ['не опознано'],\n",
              " ['не опознано'],\n",
              " ['не опознано'],\n",
              " ['не опознано'],\n",
              " ['не опознано'],\n",
              " ['не опознано'],\n",
              " ['не опознано'],\n",
              " ['не опознано'],\n",
              " ['не опознано'],\n",
              " ['не опознано'],\n",
              " ['не опознано'],\n",
              " ['не опознано'],\n",
              " ['не опознано'],\n",
              " ['не опознано'],\n",
              " ['не опознано'],\n",
              " ['не опознано'],\n",
              " ['не опознано'],\n",
              " ['не опознано'],\n",
              " ['не опознано'],\n",
              " ['не опознано'],\n",
              " ['не опознано'],\n",
              " ['не опознано'],\n",
              " ['не опознано'],\n",
              " ['не опознано'],\n",
              " ['не опознано'],\n",
              " ['не опознано'],\n",
              " ['не опознано'],\n",
              " ['не опознано'],\n",
              " ['не опознано'],\n",
              " ['не опознано'],\n",
              " ['не опознано'],\n",
              " ['не опознано'],\n",
              " ['не опознано'],\n",
              " ['не опознано'],\n",
              " ['не опознано'],\n",
              " ['не опознано'],\n",
              " ['не опознано'],\n",
              " ['не опознано'],\n",
              " ['не опознано'],\n",
              " ['не опознано'],\n",
              " ['не опознано'],\n",
              " ['не опознано'],\n",
              " ['не опознано'],\n",
              " ['не опознано'],\n",
              " ['не опознано'],\n",
              " ['не опознано'],\n",
              " ['не опознано'],\n",
              " ['не опознано'],\n",
              " ['не опознано'],\n",
              " ['не опознано'],\n",
              " ['не опознано'],\n",
              " ['не опознано'],\n",
              " ['не опознано'],\n",
              " ['не опознано'],\n",
              " ['не опознано'],\n",
              " ['не опознано'],\n",
              " ['не опознано'],\n",
              " ['не опознано'],\n",
              " ['не опознано'],\n",
              " ['не опознано'],\n",
              " ['не опознано'],\n",
              " ['не опознано'],\n",
              " ['не опознано'],\n",
              " ['комплектация', 'проектирование'],\n",
              " ['комплектация', 'проектирование'],\n",
              " ['комплектация', 'проектирование'],\n",
              " ['комплектация', 'проектирование'],\n",
              " ['комплектация', 'проектирование'],\n",
              " ['комплектация', 'проектирование'],\n",
              " ['комплектация', 'проектирование: хранение'],\n",
              " ['комплектация', 'проектирование'],\n",
              " ['комплектация', 'проектирование'],\n",
              " ['комплектация', 'монтаж', 'транспортирование', 'хранение', 'эксплуатация'],\n",
              " ['комплектация', 'монтаж', 'транспортирование', 'хранение', 'эксплуатация'],\n",
              " ['комплектация', 'монтаж', 'транспортирование', 'хранение', 'эксплуатация'],\n",
              " ['комплектация', 'монтаж', 'транспортирование', 'хранение', 'эксплуатация'],\n",
              " ['комплектация', 'проектирование'],\n",
              " ['комплектация', 'проектирование'],\n",
              " ['комплектация', 'проектирование'],\n",
              " ['комплектация', 'проектирование'],\n",
              " ['комплектация', 'проектирование'],\n",
              " ['комплектация', 'проектирование'],\n",
              " ['комплектация', 'проектирование'],\n",
              " ['комплектация', 'проектирование'],\n",
              " ['комплектация', 'проектирование'],\n",
              " ['комплектация', 'проектирование'],\n",
              " ['комплектация', 'проектирование'],\n",
              " ['комплектация', 'проектирование'],\n",
              " ['комплектация', 'проектирование'],\n",
              " ['комплектация', 'проектирование'],\n",
              " ['комплектация', 'проектирование'],\n",
              " ['комплектация', 'проектирование'],\n",
              " ['комплектация', 'проектирование'],\n",
              " ['комплектация', 'проектирование'],\n",
              " ['комплектация', 'проектирование'],\n",
              " ['комплектация', 'проектирование'],\n",
              " ['комплектация', 'проектирование'],\n",
              " ['комплектация', 'проектирование'],\n",
              " ['комплектация', 'проектирование'],\n",
              " ['комплектация', 'проектирование'],\n",
              " ['комплектация', 'проектирование'],\n",
              " ['комплектация', 'проектирование'],\n",
              " ['комплектация', 'проектирование'],\n",
              " ['комплектация', 'проектирование'],\n",
              " ['комплектация', 'проектирование'],\n",
              " ['комплектация', 'проектирование'],\n",
              " ['комплектация', 'проектирование'],\n",
              " ['комплектация', 'проектирование'],\n",
              " ['комплектация', 'проектирование'],\n",
              " ['комплектация', 'проектирование'],\n",
              " ['комплектация', 'проектирование'],\n",
              " ['комплектация', 'проектирование'],\n",
              " ['комплектация', 'проектирование'],\n",
              " ['комплектация', 'проектирование'],\n",
              " ['комплектация', 'проектирование'],\n",
              " ['комплектация', 'проектирование'],\n",
              " ['комплектация', 'проектирование'],\n",
              " ['комплектация', 'проектирование'],\n",
              " ['испытание', 'комплектация', 'проектирование'],\n",
              " ['испытание', 'комплектация', 'проектирование'],\n",
              " ['комплектация', 'проектирование'],\n",
              " ['комплектация', 'проектирование'],\n",
              " ['комплектация', 'проектирование'],\n",
              " ['комплектация', 'проектирование', 'хранение', 'эксплуатация'],\n",
              " ['маркировка'],\n",
              " ['маркировка'],\n",
              " ['маркировка'],\n",
              " ['маркировка'],\n",
              " ['комплектация', 'проектирование'],\n",
              " ['комплектация'],\n",
              " ['комплектация', 'проектирование'],\n",
              " ['комплектация', 'проектирование'],\n",
              " ['комплектация', 'проектирование'],\n",
              " ['транспортирование'],\n",
              " ['транспортирование'],\n",
              " ['транспортирование'],\n",
              " ['транспортирование'],\n",
              " ['транспортирование'],\n",
              " ['комплектация', 'проектирование'],\n",
              " ['комплектация', 'проектирование'],\n",
              " ['комплектация', 'проектирование'],\n",
              " ['комплектация', 'проектирование'],\n",
              " ['комплектация', 'проектирование'],\n",
              " ['комплектация', 'проектирование'],\n",
              " ['комплектация', 'проектирование'],\n",
              " ['комплектация', 'проектирование'],\n",
              " ['комплектация', 'проектирование'],\n",
              " ['комплектация', 'проектирование'],\n",
              " ['не опознано'],\n",
              " ['не опознано'],\n",
              " ['не опознано'],\n",
              " ['не опознано'],\n",
              " ['не опознано'],\n",
              " ['не опознано'],\n",
              " ['не опознано'],\n",
              " ['не опознано'],\n",
              " ['не опознано'],\n",
              " ['не опознано'],\n",
              " ['не опознано'],\n",
              " ['не опознано'],\n",
              " ['не опознано'],\n",
              " ['не опознано'],\n",
              " ['не опознано'],\n",
              " ['не опознано'],\n",
              " ['не опознано'],\n",
              " ['не опознано'],\n",
              " ['не опознано'],\n",
              " ['не опознано'],\n",
              " ['не опознано'],\n",
              " ['не опознано'],\n",
              " ['не опознано'],\n",
              " ['не опознано'],\n",
              " ['не опознано'],\n",
              " ['не опознано'],\n",
              " ['не опознано'],\n",
              " ['не опознано'],\n",
              " ['не опознано'],\n",
              " ['не опознано'],\n",
              " ['не опознано'],\n",
              " ['не опознано'],\n",
              " ['не опознано'],\n",
              " ['не опознано'],\n",
              " ['не опознано'],\n",
              " ['не опознано'],\n",
              " ['не опознано'],\n",
              " ['не опознано'],\n",
              " ['не опознано'],\n",
              " ['не опознано'],\n",
              " ['не опознано'],\n",
              " ['не опознано'],\n",
              " ['не опознано'],\n",
              " ['не опознано'],\n",
              " ['не опознано'],\n",
              " ['не опознано'],\n",
              " ['не опознано'],\n",
              " ['не опознано'],\n",
              " ['не опознано'],\n",
              " ['не опознано'],\n",
              " ['не опознано'],\n",
              " ['не опознано'],\n",
              " ['не опознано'],\n",
              " ['не опознано'],\n",
              " ['не опознано'],\n",
              " ['не опознано'],\n",
              " ['не опознано'],\n",
              " ['не опознано'],\n",
              " ['не опознано'],\n",
              " ['не опознано'],\n",
              " ['не опознано'],\n",
              " ['не опознано'],\n",
              " ['не опознано'],\n",
              " ['не опознано'],\n",
              " ['не опознано'],\n",
              " ['не опознано'],\n",
              " ['не опознано'],\n",
              " ['не опознано'],\n",
              " ['не опознано'],\n",
              " ['не опознано'],\n",
              " ['не опознано'],\n",
              " ['не опознано'],\n",
              " ['не опознано'],\n",
              " ['не опознано'],\n",
              " ['не опознано'],\n",
              " ['не опознано'],\n",
              " ['комплектация', 'проектирование'],\n",
              " ['комплектация', 'проектирование'],\n",
              " ['комплектация', 'проектирование'],\n",
              " ['комплектация', 'проектирование'],\n",
              " ['комплектация', 'проектирование'],\n",
              " ['комплектация', 'проектирование'],\n",
              " ['комплектация', 'проектирование'],\n",
              " ['монтаж', 'транспортирование', 'хранение', 'эксплуатация'],\n",
              " ['монтаж', 'транспортирование', 'хранение', 'эксплуатация'],\n",
              " ['монтаж', 'транспортирование', 'хранение', 'эксплуатация'],\n",
              " ['комплектация', 'проектирование'],\n",
              " ['комплектация', 'проектирование'],\n",
              " ['комплектация', 'проектирование'],\n",
              " ['комплектация', 'проектирование'],\n",
              " ['комплектация', 'проектирование'],\n",
              " ['комплектация', 'проектирование'],\n",
              " ['комплектация', 'проектирование'],\n",
              " ['комплектация', 'проектирование'],\n",
              " ['комплектация', 'проектирование'],\n",
              " ['комплектация', 'проектирование'],\n",
              " ['комплектация', 'проектирование'],\n",
              " ['комплектация', 'проектирование'],\n",
              " ['комплектация', 'проектирование'],\n",
              " ['комплектация', 'проектирование'],\n",
              " ['не опознано'],\n",
              " ['не опознано'],\n",
              " ['не опознано'],\n",
              " ['не опознано'],\n",
              " ['не опознано'],\n",
              " ['не опознано'],\n",
              " ['не опознано'],\n",
              " ['не опознано'],\n",
              " ['не опознано'],\n",
              " ['не опознано'],\n",
              " ['не опознано'],\n",
              " ['не опознано'],\n",
              " ['не опознано'],\n",
              " ['не опознано'],\n",
              " ['не опознано'],\n",
              " ['не опознано'],\n",
              " ['не опознано'],\n",
              " ['не опознано'],\n",
              " ['не опознано'],\n",
              " ['не опознано'],\n",
              " ['не опознано'],\n",
              " ['не опознано'],\n",
              " ['не опознано'],\n",
              " ['не опознано'],\n",
              " ['не опознано'],\n",
              " ['не опознано'],\n",
              " ['не опознано'],\n",
              " ['не опознано'],\n",
              " ['не опознано'],\n",
              " ['не опознано'],\n",
              " ['не опознано'],\n",
              " ['не опознано'],\n",
              " ['не опознано'],\n",
              " ['не опознано'],\n",
              " ['не опознано'],\n",
              " ['не опознано'],\n",
              " ['не опознано'],\n",
              " ['не опознано'],\n",
              " ['не опознано'],\n",
              " ['не опознано'],\n",
              " ['не опознано'],\n",
              " ['не опознано'],\n",
              " ['не опознано'],\n",
              " ['не опознано'],\n",
              " ['не опознано'],\n",
              " ['не опознано'],\n",
              " ['не опознано'],\n",
              " ['не опознано'],\n",
              " ['не опознано'],\n",
              " ['не опознано'],\n",
              " ['не опознано'],\n",
              " ['не опознано'],\n",
              " ['не опознано'],\n",
              " ['не опознано'],\n",
              " ['не опознано'],\n",
              " ['не опознано'],\n",
              " ['не опознано'],\n",
              " ['не опознано'],\n",
              " ['не опознано'],\n",
              " ['не опознано'],\n",
              " ['не опознано'],\n",
              " ['не опознано'],\n",
              " ['не опознано'],\n",
              " ['не опознано'],\n",
              " ['не опознано'],\n",
              " ['не опознано'],\n",
              " ['не опознано'],\n",
              " ['не опознано'],\n",
              " ['не опознано'],\n",
              " ['не опознано'],\n",
              " ['не опознано'],\n",
              " ['не опознано'],\n",
              " ['не опознано'],\n",
              " ['не опознано'],\n",
              " ['не опознано'],\n",
              " ['не опознано'],\n",
              " ['не опознано'],\n",
              " ['не опознано'],\n",
              " ['не опознано'],\n",
              " ['не опознано'],\n",
              " ['не опознано'],\n",
              " ['не опознано'],\n",
              " ['не опознано'],\n",
              " ['не опознано'],\n",
              " ['не опознано'],\n",
              " ['не опознано'],\n",
              " ['не опознано'],\n",
              " ['не опознано'],\n",
              " ['не опознано'],\n",
              " ['не опознано'],\n",
              " ['не опознано'],\n",
              " ['не опознано'],\n",
              " ['не опознано'],\n",
              " ['не опознано'],\n",
              " ['не опознано'],\n",
              " ['не опознано'],\n",
              " ['не опознано'],\n",
              " ['не опознано'],\n",
              " ['не опознано'],\n",
              " ['не опознано'],\n",
              " ['не опознано'],\n",
              " ['не опознано'],\n",
              " ['не опознано'],\n",
              " ['не опознано'],\n",
              " ['не опознано'],\n",
              " ['комплектация', 'преобразование', 'проектирование', 'эксплуатация'],\n",
              " ['преобразование', 'эксплуатация'],\n",
              " ['преобразование', 'эксплуатация'],\n",
              " ['преобразование', 'эксплуатация'],\n",
              " ['преобразование', 'эксплуатация'],\n",
              " ['преобразование', 'эксплуатация'],\n",
              " ['преобразование', 'эксплуатация'],\n",
              " ['монтаж', 'транспортирование', 'хранение'],\n",
              " ['монтаж', 'транспортирование', 'хранение'],\n",
              " ['монтаж', 'транспортирование', 'хранение'],\n",
              " ['преобразование', 'эксплуатация'],\n",
              " ['преобразование', 'эксплуатация'],\n",
              " ['преобразование', 'эксплуатация'],\n",
              " ['преобразование', 'эксплуатация'],\n",
              " ['преобразование', 'эксплуатация'],\n",
              " ['преобразование', 'эксплуатация'],\n",
              " ['преобразование', 'эксплуатация'],\n",
              " ['преобразование', 'эксплуатация'],\n",
              " ['преобразование', 'эксплуатация'],\n",
              " ['не опознано'],\n",
              " ['не опознано'],\n",
              " ['не опознано'],\n",
              " ['не опознано'],\n",
              " ['не опознано'],\n",
              " ['не опознано'],\n",
              " ['не опознано'],\n",
              " ['не опознано'],\n",
              " ['не опознано'],\n",
              " ['не опознано'],\n",
              " ['не опознано'],\n",
              " ['не опознано'],\n",
              " ['не опознано'],\n",
              " ['не опознано'],\n",
              " ['не опознано'],\n",
              " ['не опознано'],\n",
              " ['не опознано'],\n",
              " ['не опознано'],\n",
              " ['не опознано'],\n",
              " ['не опознано'],\n",
              " ['не опознано'],\n",
              " ['не опознано'],\n",
              " ['не опознано'],\n",
              " ['не опознано'],\n",
              " ['не опознано'],\n",
              " ['не опознано'],\n",
              " ['не опознано'],\n",
              " ['не опознано'],\n",
              " ['не опознано'],\n",
              " ['не опознано'],\n",
              " ['не опознано'],\n",
              " ['не опознано'],\n",
              " ['не опознано'],\n",
              " ['не опознано'],\n",
              " ['не опознано'],\n",
              " ['не опознано'],\n",
              " ['комплектация', 'преобразование', 'проектирование', 'распределение'],\n",
              " ['не опознано'],\n",
              " ['не опознано'],\n",
              " ['преобразование', 'распределение'],\n",
              " ['преобразование', 'распределение'],\n",
              " ['преобразование', 'распределение'],\n",
              " ['преобразование', 'распределение'],\n",
              " ['монтаж', 'транспортирование', 'хранение', ''],\n",
              " ['монтаж', 'транспортирование', 'хранение', ''],\n",
              " ['монтаж', 'транспортирование', 'хранение', 'эксплуатация'],\n",
              " ['преобразование', 'распределение'],\n",
              " ['преобразование', 'распределение'],\n",
              " ['преобразование', 'распределение'],\n",
              " ['преобразование', 'распределение'],\n",
              " ['преобразование', 'распределение'],\n",
              " ['преобразование', 'распределение'],\n",
              " ['преобразование', 'распределение'],\n",
              " ['преобразование', 'распределение'],\n",
              " ['преобразование', 'распределение'],\n",
              " ['преобразование', 'распределение'],\n",
              " ['преобразование', 'распределение'],\n",
              " ['не опознано'],\n",
              " ['не опознано'],\n",
              " ['не опознано'],\n",
              " ['не опознано'],\n",
              " ['не опознано'],\n",
              " ['не опознано'],\n",
              " ['не опознано'],\n",
              " ['не опознано'],\n",
              " ['не опознано'],\n",
              " ['не опознано'],\n",
              " ['не опознано'],\n",
              " ['не опознано'],\n",
              " ['не опознано'],\n",
              " ['не опознано'],\n",
              " ['не опознано'],\n",
              " ['не опознано'],\n",
              " ['не опознано'],\n",
              " ['не опознано'],\n",
              " ['не опознано'],\n",
              " ['не опознано'],\n",
              " ['не опознано'],\n",
              " ['не опознано'],\n",
              " ['не опознано'],\n",
              " ['не опознано'],\n",
              " ['не опознано'],\n",
              " ['не опознано'],\n",
              " ['не опознано'],\n",
              " ['не опознано'],\n",
              " ['не опознано'],\n",
              " ['не опознано'],\n",
              " ['не опознано'],\n",
              " ['не опознано'],\n",
              " ['не опознано'],\n",
              " ['не опознано'],\n",
              " ['не опознано'],\n",
              " ['не опознано'],\n",
              " ['не опознано'],\n",
              " ['не опознано'],\n",
              " ['не опознано'],\n",
              " ['не опознано'],\n",
              " ['не опознано'],\n",
              " ['не опознано'],\n",
              " ['не опознано'],\n",
              " ['не опознано'],\n",
              " ['не опознано'],\n",
              " ['не опознано'],\n",
              " ['не опознано'],\n",
              " ['не опознано'],\n",
              " ['не опознано'],\n",
              " ['не опознано'],\n",
              " ['не опознано'],\n",
              " ['не опознано'],\n",
              " ['не опознано'],\n",
              " ['не опознано'],\n",
              " ['не опознано'],\n",
              " ['не опознано'],\n",
              " ['не опознано'],\n",
              " ['не опознано'],\n",
              " ['не опознано'],\n",
              " ['не опознано'],\n",
              " ['не опознано'],\n",
              " ['не опознано'],\n",
              " ['не опознано'],\n",
              " ['не опознано'],\n",
              " ['не опознано'],\n",
              " ['не опознано'],\n",
              " ['не опознано'],\n",
              " ['не опознано'],\n",
              " ['не опознано'],\n",
              " ['не опознано'],\n",
              " ['не опознано'],\n",
              " ['не опознано'],\n",
              " ['не опознано'],\n",
              " ['не опознано'],\n",
              " ['комплектация', 'проектирование', 'регулирование'],\n",
              " ['не опознано'],\n",
              " ['регулирование'],\n",
              " ['регулирование'],\n",
              " ['регулирование'],\n",
              " ['регулирование'],\n",
              " ['регулирование'],\n",
              " ['монтаж', 'транспортирование', 'хранение', 'эксплуатация'],\n",
              " ['монтаж', 'транспортирование', 'хранение', 'эксплуатация'],\n",
              " ['монтаж', 'транспортирование', 'хранение', 'эксплуатация'],\n",
              " ['монтаж', 'транспортирование', 'хранение', 'эксплуатация'],\n",
              " ['регулирование'],\n",
              " ['регулирование'],\n",
              " ['регулирование'],\n",
              " ['регулирование'],\n",
              " ['регулирование'],\n",
              " ['регулирование'],\n",
              " ['регулирование'],\n",
              " ['регулирование'],\n",
              " ['регулирование'],\n",
              " ['регулирование'],\n",
              " ['не опознано'],\n",
              " ['не опознано'],\n",
              " ['не опознано'],\n",
              " ['не опознано'],\n",
              " ['не опознано'],\n",
              " ['не опознано'],\n",
              " ['не опознано'],\n",
              " ['не опознано'],\n",
              " ['не опознано'],\n",
              " ['не опознано'],\n",
              " ['не опознано'],\n",
              " ['не опознано'],\n",
              " ['не опознано'],\n",
              " ['не опознано'],\n",
              " ['не опознано'],\n",
              " ['не опознано'],\n",
              " ['не опознано'],\n",
              " ['не опознано'],\n",
              " ['не опознано'],\n",
              " ['не опознано'],\n",
              " ['не опознано'],\n",
              " ['не опознано'],\n",
              " ['не опознано'],\n",
              " ['не опознано'],\n",
              " ['не опознано'],\n",
              " ['не опознано'],\n",
              " ['не опознано'],\n",
              " ['не опознано'],\n",
              " ['не опознано'],\n",
              " ['не опознано'],\n",
              " ['не опознано'],\n",
              " ['не опознано'],\n",
              " ['не опознано'],\n",
              " ['не опознано'],\n",
              " ['не опознано'],\n",
              " ['не опознано'],\n",
              " ['не опознано'],\n",
              " ['не опознано'],\n",
              " ['не опознано'],\n",
              " ['не опознано'],\n",
              " ['не опознано'],\n",
              " ['не опознано'],\n",
              " ['не опознано'],\n",
              " ['не опознано'],\n",
              " ['не опознано'],\n",
              " ['не опознано'],\n",
              " ['не опознано'],\n",
              " ['не опознано'],\n",
              " ['не опознано'],\n",
              " ['не опознано'],\n",
              " ['не опознано'],\n",
              " ['не опознано'],\n",
              " ['не опознано'],\n",
              " ['не опознано'],\n",
              " ['не опознано'],\n",
              " ['не опознано'],\n",
              " ['не опознано'],\n",
              " ['не опознано'],\n",
              " ['не опознано'],\n",
              " ['не опознано'],\n",
              " ['не опознано'],\n",
              " ['не опознано'],\n",
              " ['не опознано'],\n",
              " ['не опознано'],\n",
              " ['не опознано'],\n",
              " ['не опознано'],\n",
              " ['не опознано'],\n",
              " ['не опознано'],\n",
              " ['не опознано'],\n",
              " ['не опознано'],\n",
              " ['не опознано'],\n",
              " ['не опознано'],\n",
              " ['не опознано'],\n",
              " ['не опознано'],\n",
              " ['не опознано'],\n",
              " ['не опознано'],\n",
              " ['не опознано'],\n",
              " ['не опознано'],\n",
              " ['не опознано'],\n",
              " ['не опознано'],\n",
              " ['не опознано'],\n",
              " ['не опознано'],\n",
              " ['не опознано'],\n",
              " ['не опознано'],\n",
              " ['не опознано'],\n",
              " ['не опознано'],\n",
              " ['не опознано'],\n",
              " ['не опознано'],\n",
              " ['защита', 'измерение', 'комплектация', 'переключение', 'проектирование'],\n",
              " ['не опознано'],\n",
              " ['не опознано'],\n",
              " ['защита', 'измерение', 'переключение'],\n",
              " ['защита', 'измерение', 'переключение'],\n",
              " ['защита', 'измерение', 'переключение'],\n",
              " ['защита', 'измерение', 'переключение'],\n",
              " ['монтаж', 'транспортирование', 'хранение', 'эксплуатация'],\n",
              " ['монтаж', 'транспортирование', 'хранение', 'эксплуатация'],\n",
              " ['монтаж', 'транспортирование', 'хранение', 'эксплуатация'],\n",
              " ['защита', 'измерение', 'переключение'],\n",
              " ['защита', 'измерение', 'переключение'],\n",
              " ['защита', 'измерение', 'переключение'],\n",
              " ['защита', 'измерение', 'переключение'],\n",
              " ['защита', 'измерение', 'переключение'],\n",
              " ['защита', 'измерение', 'переключение'],\n",
              " ['защита', 'измерение', 'переключение'],\n",
              " ['защита', 'измерение', 'переключение'],\n",
              " ['защита', 'измерение', 'переключение'],\n",
              " ['не опознано'],\n",
              " ['не опознано'],\n",
              " ['не опознано'],\n",
              " ['не опознано'],\n",
              " ['не опознано'],\n",
              " ['не опознано'],\n",
              " ['не опознано'],\n",
              " ['не опознано'],\n",
              " ['не опознано'],\n",
              " ['не опознано'],\n",
              " ['не опознано'],\n",
              " ['не опознано'],\n",
              " ['не опознано'],\n",
              " ['не опознано'],\n",
              " ['не опознано'],\n",
              " ['не опознано'],\n",
              " ['не опознано'],\n",
              " ['не опознано'],\n",
              " ['не опознано'],\n",
              " ['не опознано'],\n",
              " ['не опознано'],\n",
              " ['не опознано'],\n",
              " ['не опознано'],\n",
              " ['не опознано'],\n",
              " ['не опознано'],\n",
              " ['не опознано'],\n",
              " ['не опознано'],\n",
              " ['не опознано'],\n",
              " ['не опознано'],\n",
              " ['не опознано'],\n",
              " ['не опознано'],\n",
              " ['не опознано'],\n",
              " ['не опознано'],\n",
              " ['не опознано'],\n",
              " ['не опознано'],\n",
              " ['не опознано'],\n",
              " ['не опознано'],\n",
              " ['не опознано'],\n",
              " ['не опознано'],\n",
              " ['не опознано'],\n",
              " ['не опознано'],\n",
              " ['не опознано'],\n",
              " ['не опознано'],\n",
              " ['не опознано'],\n",
              " ['не опознано'],\n",
              " ['не опознано'],\n",
              " ['не опознано'],\n",
              " ['не опознано'],\n",
              " ['не опознано'],\n",
              " ['не опознано'],\n",
              " ['не опознано'],\n",
              " ['не опознано'],\n",
              " ['не опознано'],\n",
              " ['не опознано'],\n",
              " ['не опознано'],\n",
              " ['не опознано'],\n",
              " ['не опознано'],\n",
              " ['не опознано'],\n",
              " ['не опознано'],\n",
              " ['не опознано'],\n",
              " ['не опознано'],\n",
              " ['не опознано'],\n",
              " ['не опознано'],\n",
              " ['не опознано'],\n",
              " ['не опознано'],\n",
              " ['комплектация', 'проектирование'],\n",
              " ['комплектация', 'проектирование'],\n",
              " ['комплектация', 'проектирование'],\n",
              " ['комплектация', 'проектирование'],\n",
              " ['не опознано'],\n",
              " ['комплектация', 'проектирование'],\n",
              " ['комплектация', 'проектирование'],\n",
              " ['монтаж', 'транспортирование', 'хранение', 'эксплуатация'],\n",
              " ['монтаж', 'транспортирование', 'хранение', 'эксплуатация'],\n",
              " ['монтаж', 'транспортирование', 'хранение', 'эксплуатация'],\n",
              " ['монтаж', 'транспортирование', 'хранение', 'эксплуатация'],\n",
              " ['комплектация', 'проектирование'],\n",
              " ['комплектация', 'проектирование'],\n",
              " ['комплектация', 'проектирование'],\n",
              " ['комплектация', 'проектирование'],\n",
              " ['комплектация', 'проектирование'],\n",
              " ['комплектация', 'проектирование'],\n",
              " ['комплектация', 'проектирование'],\n",
              " ['не опознано'],\n",
              " ['не опознано'],\n",
              " ['не опознано'],\n",
              " ['не опознано'],\n",
              " ['не опознано'],\n",
              " ['не опознано'],\n",
              " ['не опознано'],\n",
              " ['не опознано'],\n",
              " ['не опознано'],\n",
              " ['не опознано'],\n",
              " ['не опознано'],\n",
              " ['не опознано'],\n",
              " ['не опознано'],\n",
              " ['не опознано'],\n",
              " ['не опознано'],\n",
              " ['не опознано'],\n",
              " ['не опознано'],\n",
              " ['не опознано'],\n",
              " ['не опознано'],\n",
              " ['не опознано'],\n",
              " ['не опознано'],\n",
              " ['не опознано'],\n",
              " ['не опознано'],\n",
              " ['не опознано'],\n",
              " ['не опознано'],\n",
              " ['не опознано'],\n",
              " ['не опознано'],\n",
              " ['не опознано'],\n",
              " ['не опознано'],\n",
              " ['не опознано'],\n",
              " ['не опознано'],\n",
              " ['не опознано'],\n",
              " ['не опознано'],\n",
              " ['не опознано'],\n",
              " ['не опознано'],\n",
              " ['не опознано'],\n",
              " ['не опознано'],\n",
              " ['не опознано'],\n",
              " ['не опознано'],\n",
              " ['не опознано'],\n",
              " ['не опознано'],\n",
              " ['не опознано'],\n",
              " ['не опознано'],\n",
              " ['не опознано'],\n",
              " ['не опознано'],\n",
              " ['не опознано'],\n",
              " ['не опознано'],\n",
              " ['не опознано'],\n",
              " ['не опознано'],\n",
              " ['не опознано'],\n",
              " ['не опознано'],\n",
              " ['не опознано'],\n",
              " ['не опознано'],\n",
              " ['комплектация', 'преобразование', 'проектирование', 'энергоснабжение'],\n",
              " ['комплектация', 'преобразование', 'проектирование', 'энергоснабжение'],\n",
              " ['комплектация', 'преобразование', 'проектирование', 'энергоснабжение'],\n",
              " ['преобразование', 'энергоснабжение'],\n",
              " ['преобразование', 'энергоснабжение'],\n",
              " ['преобразование', 'энергоснабжение'],\n",
              " ['преобразование', 'энергоснабжение'],\n",
              " ['монтаж', 'транспортирование', 'хранение', 'эксплуатация'],\n",
              " ['монтаж', 'транспортирование', 'хранение', 'эксплуатация'],\n",
              " ['монтаж', 'транспортирование', 'хранение', 'эксплуатация'],\n",
              " ['преобразование', 'энергоснабжение'],\n",
              " ['преобразование', 'энергоснабжение'],\n",
              " ['преобразование', 'энергоснабжение'],\n",
              " ['преобразование', 'энергоснабжение'],\n",
              " ['преобразование', 'энергоснабжение'],\n",
              " ['преобразование', 'энергоснабжение'],\n",
              " ['преобразование', 'энергоснабжение'],\n",
              " ['преобразование', 'энергоснабжение'],\n",
              " ['преобразование', 'энергоснабжение'],\n",
              " ['преобразование', 'энергоснабжение'],\n",
              " ['преобразование', 'энергоснабжение'],\n",
              " ['преобразование', 'энергоснабжение'],\n",
              " ['преобразование', 'энергоснабжение'],\n",
              " ['преобразование', 'энергоснабжение'],\n",
              " ['преобразование', 'энергоснабжение'],\n",
              " ['преобразование', 'энергоснабжение'],\n",
              " ['преобразование', 'энергоснабжение'],\n",
              " ['преобразование', 'энергоснабжение'],\n",
              " ['преобразование', 'энергоснабжение'],\n",
              " ['преобразование', 'энергоснабжение'],\n",
              " ['преобразование', 'энергоснабжение'],\n",
              " ['преобразование', 'энергоснабжение'],\n",
              " ['преобразование', 'энергоснабжение'],\n",
              " ['преобразование', 'энергоснабжение'],\n",
              " ['преобразование', 'энергоснабжение'],\n",
              " ['преобразование', 'энергоснабжение'],\n",
              " ['преобразование', 'энергоснабжение'],\n",
              " ['преобразование', 'энергоснабжение'],\n",
              " ['преобразование', 'энергоснабжение'],\n",
              " ['преобразование', 'энергоснабжение'],\n",
              " ['преобразование', 'энергоснабжение'],\n",
              " ['преобразование', 'энергоснабжение'],\n",
              " ['не опознано'],\n",
              " ['не опознано'],\n",
              " ['не опознано'],\n",
              " ['не опознано'],\n",
              " ['не опознано'],\n",
              " ['не опознано'],\n",
              " ['не опознано'],\n",
              " ['не опознано'],\n",
              " ['не опознано'],\n",
              " ['не опознано'],\n",
              " ['не опознано'],\n",
              " ['не опознано'],\n",
              " ['не опознано'],\n",
              " ['не опознано'],\n",
              " ['не опознано'],\n",
              " ['не опознано'],\n",
              " ['не опознано'],\n",
              " ['не опознано'],\n",
              " ['не опознано'],\n",
              " ['не опознано'],\n",
              " ['не опознано'],\n",
              " ['не опознано'],\n",
              " ['не опознано'],\n",
              " ['не опознано'],\n",
              " ['не опознано'],\n",
              " ['не опознано'],\n",
              " ['не опознано'],\n",
              " ['не опознано'],\n",
              " ['не опознано'],\n",
              " ['не опознано'],\n",
              " ['не опознано'],\n",
              " ['не опознано'],\n",
              " ['не опознано'],\n",
              " ['не опознано'],\n",
              " ['не опознано'],\n",
              " ['не опознано'],\n",
              " ['не опознано'],\n",
              " ['не опознано'],\n",
              " ['комплектация', 'преобразование', 'проектирование', 'распределение'],\n",
              " ['преобразование', 'распределение'],\n",
              " ['преобразование', 'распределение'],\n",
              " ['преобразование', 'распределение'],\n",
              " ['преобразование', 'распределение'],\n",
              " ['преобразование', 'распределение'],\n",
              " ...]"
            ]
          },
          "metadata": {
            "tags": []
          },
          "execution_count": 138
        }
      ]
    },
    {
      "cell_type": "code",
      "metadata": {
        "id": "F0BDxtnL-1ZG"
      },
      "source": [
        "y_proc = mlb3.fit_transform(proc)"
      ],
      "execution_count": null,
      "outputs": []
    },
    {
      "cell_type": "code",
      "metadata": {
        "id": "M25ZwxKazZLU"
      },
      "source": [
        "X_train_proc,X_test_proc,y_train_proc,y_test_proc = train_test_split(X,y_proc,test_size=0.3,random_state=104)"
      ],
      "execution_count": null,
      "outputs": []
    },
    {
      "cell_type": "code",
      "metadata": {
        "id": "GWaxzvqXHp8K"
      },
      "source": [
        "estimator_proc = LinearSVC()\n",
        "classifier_proc = OneVsRestClassifier(estimator_proc, n_jobs=-1)\n",
        "classifier_proc.fit(X_train_proc, y_train_proc)\n",
        "predictions_proc = classifier_proc.predict(X_test_proc)"
      ],
      "execution_count": null,
      "outputs": []
    },
    {
      "cell_type": "code",
      "metadata": {
        "id": "9HKU_3n7HqEp",
        "colab": {
          "base_uri": "https://localhost:8080/"
        },
        "outputId": "5c5e557a-c468-471e-f66e-d2f042eff4f4"
      },
      "source": [
        "f1_score(y_test_proc,predictions_proc,average='micro')"
      ],
      "execution_count": null,
      "outputs": [
        {
          "output_type": "execute_result",
          "data": {
            "text/plain": [
              "0.8457008244994111"
            ]
          },
          "metadata": {
            "tags": []
          },
          "execution_count": 144
        }
      ]
    },
    {
      "cell_type": "code",
      "metadata": {
        "colab": {
          "base_uri": "https://localhost:8080/"
        },
        "id": "c967QHPC_tde",
        "outputId": "a3c20cc0-532e-4bce-957a-59c705188331"
      },
      "source": [
        "cross_val_score(classifier_proc,X,y_proc,cv=10,n_jobs=-1).mean()"
      ],
      "execution_count": null,
      "outputs": [
        {
          "output_type": "execute_result",
          "data": {
            "text/plain": [
              "0.6605832467982001"
            ]
          },
          "metadata": {
            "tags": []
          },
          "execution_count": 145
        }
      ]
    },
    {
      "cell_type": "markdown",
      "metadata": {
        "id": "QzAgLLub2h5y"
      },
      "source": [
        "Ограничения"
      ]
    },
    {
      "cell_type": "code",
      "metadata": {
        "id": "SlQZmy55IAI4"
      },
      "source": [
        "mlb4 = MultiLabelBinarizer()"
      ],
      "execution_count": null,
      "outputs": []
    },
    {
      "cell_type": "code",
      "metadata": {
        "id": "EdRkz7_s__kx"
      },
      "source": [
        "ogran = data['Ограничения'].str.split(';')"
      ],
      "execution_count": null,
      "outputs": []
    },
    {
      "cell_type": "code",
      "metadata": {
        "id": "wQ_CUcU7QWB7"
      },
      "source": [
        "ogran = [x.split(';') for x in list(data['Ограничения'])]"
      ],
      "execution_count": null,
      "outputs": []
    },
    {
      "cell_type": "code",
      "metadata": {
        "id": "fHC4GvX0__qd"
      },
      "source": [
        "y_ogran = mlb4.fit_transform(ogran)"
      ],
      "execution_count": null,
      "outputs": []
    },
    {
      "cell_type": "code",
      "metadata": {
        "colab": {
          "base_uri": "https://localhost:8080/"
        },
        "id": "y3xfAcctRQ0I",
        "outputId": "0dd05262-5e1c-42de-ec5e-b4a099bcd288"
      },
      "source": [
        "mlb4.classes_"
      ],
      "execution_count": null,
      "outputs": [
        {
          "output_type": "execute_result",
          "data": {
            "text/plain": [
              "array(['', ' сейсмичность',\n",
              "       'cиловой трансф-ор с масляной изоляцией 110/35/6(10) кв и 110/6(10) кв',\n",
              "       'cиловой трансф-ор с масляной изоляцией 20/6(10) кв, 35/6(10) кв',\n",
              "       'cиловой трансф-ор с масляной изоляцией 6(10)/0,4 кв с фланцевым вводом',\n",
              "       'cиловой трансф-ор с масляной изоляцией 6(10,20,35)/0,4 кв',\n",
              "       'cиловой трансф-ор с сухой изоляцией 6(10)/0,4 кв', 'внешний вид',\n",
              "       'исполнение', 'климатические условия', 'климатическое исполнение',\n",
              "       'не опознано', 'нормативное требование', 'рабочая среда',\n",
              "       'сейсмичность', 'сейсмостойкость'], dtype=object)"
            ]
          },
          "metadata": {
            "tags": []
          },
          "execution_count": 156
        }
      ]
    },
    {
      "cell_type": "code",
      "metadata": {
        "id": "YX4v8xOn3Nj8"
      },
      "source": [
        "X_train_ogr,X_test_ogr,y_train_ogr,y_test_ogr = train_test_split(X,y_ogran,test_size=0.3)"
      ],
      "execution_count": null,
      "outputs": []
    },
    {
      "cell_type": "code",
      "metadata": {
        "id": "BlElQCfkAWb1"
      },
      "source": [
        "estimator_ogr = LinearSVC()\n",
        "classifier_ogr = OneVsRestClassifier(estimator_ogr, n_jobs=-1)\n",
        "classifier_ogr.fit(X_train_ogr, y_train_ogr)\n",
        "predictions_ogr = classifier_ogr.predict(X_test_ogr)"
      ],
      "execution_count": null,
      "outputs": []
    },
    {
      "cell_type": "code",
      "metadata": {
        "colab": {
          "base_uri": "https://localhost:8080/"
        },
        "id": "9ueco-ssAWe1",
        "outputId": "90d39d52-27d8-4c35-d102-c3aad1940418"
      },
      "source": [
        "f1_score(y_test_ogr,predictions_ogr,average='micro')"
      ],
      "execution_count": null,
      "outputs": [
        {
          "output_type": "execute_result",
          "data": {
            "text/plain": [
              "0.9684210526315788"
            ]
          },
          "metadata": {
            "tags": []
          },
          "execution_count": 159
        }
      ]
    },
    {
      "cell_type": "code",
      "metadata": {
        "colab": {
          "base_uri": "https://localhost:8080/"
        },
        "id": "hVr5PS-QAWhB",
        "outputId": "96ac9169-adc4-44aa-c0de-8e54e3bfa881"
      },
      "source": [
        "cross_val_score(classifier_ogr,X,y_ogran,cv=10,n_jobs=-1).mean()"
      ],
      "execution_count": null,
      "outputs": [
        {
          "output_type": "execute_result",
          "data": {
            "text/plain": [
              "0.9144513672551057"
            ]
          },
          "metadata": {
            "tags": []
          },
          "execution_count": 160
        }
      ]
    },
    {
      "cell_type": "code",
      "metadata": {
        "id": "eF4x0yY2AWj9"
      },
      "source": [
        "\n"
      ],
      "execution_count": null,
      "outputs": []
    },
    {
      "cell_type": "markdown",
      "metadata": {
        "id": "GhTo4Uut43r-"
      },
      "source": [
        "СТРУКТУРНЫЕ"
      ]
    },
    {
      "cell_type": "code",
      "metadata": {
        "id": "8_Db-m7_ILS2"
      },
      "source": [
        "mlb5 = MultiLabelBinarizer()"
      ],
      "execution_count": null,
      "outputs": []
    },
    {
      "cell_type": "code",
      "metadata": {
        "id": "O0T4uFvjA3i3"
      },
      "source": [
        "struc = data['Структурные'].str.split(';')"
      ],
      "execution_count": null,
      "outputs": []
    },
    {
      "cell_type": "code",
      "metadata": {
        "id": "UiQSbT5MA3lk"
      },
      "source": [
        "struc = [x.split(';') for x in list(data['Структурные'])]"
      ],
      "execution_count": null,
      "outputs": []
    },
    {
      "cell_type": "code",
      "metadata": {
        "id": "8gwHBo65A3oa"
      },
      "source": [
        "y_struc = mlb5.fit_transform(struc)"
      ],
      "execution_count": null,
      "outputs": []
    },
    {
      "cell_type": "code",
      "metadata": {
        "colab": {
          "base_uri": "https://localhost:8080/"
        },
        "id": "2D87Sf6fSTOP",
        "outputId": "87f8d7c4-70d0-4c8b-ae55-ad38a5988ed3"
      },
      "source": [
        "mlb5.classes_"
      ],
      "execution_count": null,
      "outputs": [
        {
          "output_type": "execute_result",
          "data": {
            "text/plain": [
              "array(['', ' ограничение по применению', ' предпроектная документация',\n",
              "       ' рисунок', ' ссылка на нд', 'библиография', 'глоссарий',\n",
              "       'назначение', 'не опознано', 'область действия',\n",
              "       'обозначения и сокращения', 'ограничение по применению',\n",
              "       'опросный лист', 'период действия', 'предпроектная документация',\n",
              "       'приложение', 'проектная документация ', 'рисунок',\n",
              "       'сметная документация', 'ссылка на лнд', 'ссылка на нд',\n",
              "       'ссылка на таблицу', 'ссылки', 'таблица', 'термины и определения',\n",
              "       'технико-экономический расчет (тэр)',\n",
              "       'технико-экономическое обоснование (тэо)',\n",
              "       'технические требования', 'технические условия', 'требования',\n",
              "       'условное обозначение'], dtype=object)"
            ]
          },
          "metadata": {
            "tags": []
          },
          "execution_count": 165
        }
      ]
    },
    {
      "cell_type": "code",
      "metadata": {
        "id": "9_VqAYQH5UQB"
      },
      "source": [
        "X_train_struc,X_test_struc,y_train_struc,y_test_struc = train_test_split(X,y_struc,test_size=0.3,random_state=106)"
      ],
      "execution_count": null,
      "outputs": []
    },
    {
      "cell_type": "code",
      "metadata": {
        "id": "LeeX1j5EBOon"
      },
      "source": [
        "estimator_struc = LinearSVC()\n",
        "classifier_struc = OneVsRestClassifier(estimator_struc, n_jobs=-1)\n",
        "classifier_struc.fit(X_train_struc, y_train_struc)\n",
        "predictions_struc = classifier_ogr.predict(X_test_struc)"
      ],
      "execution_count": null,
      "outputs": []
    },
    {
      "cell_type": "code",
      "metadata": {
        "colab": {
          "base_uri": "https://localhost:8080/"
        },
        "id": "pwL-LqYrBOrN",
        "outputId": "074cf943-3d08-4acd-a82d-56537ec9dc77"
      },
      "source": [
        "cross_val_score(classifier_struc,X,y_struc,cv=10,n_jobs=-1).mean()"
      ],
      "execution_count": null,
      "outputs": [
        {
          "output_type": "execute_result",
          "data": {
            "text/plain": [
              "0.7545863620629976"
            ]
          },
          "metadata": {
            "tags": []
          },
          "execution_count": 168
        }
      ]
    },
    {
      "cell_type": "code",
      "metadata": {
        "id": "KgBCANTtBOzl"
      },
      "source": [
        ""
      ],
      "execution_count": null,
      "outputs": []
    },
    {
      "cell_type": "code",
      "metadata": {
        "id": "0uqvdrx6BPPt"
      },
      "source": [
        ""
      ],
      "execution_count": null,
      "outputs": []
    },
    {
      "cell_type": "code",
      "metadata": {
        "colab": {
          "resources": {
            "http://localhost:8080/nbextensions/google.colab/files.js": {
              "data": "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",
              "ok": true,
              "headers": [
                [
                  "content-type",
                  "application/javascript"
                ]
              ],
              "status": 200,
              "status_text": ""
            }
          },
          "base_uri": "https://localhost:8080/",
          "height": 72
        },
        "id": "FGXSgjPIBPSx",
        "outputId": "ac834641-acac-4495-b026-420920524c45"
      },
      "source": [
        "from google.colab import files\n",
        "uploaded = files.upload()"
      ],
      "execution_count": null,
      "outputs": [
        {
          "output_type": "display_data",
          "data": {
            "text/html": [
              "\n",
              "     <input type=\"file\" id=\"files-a5df177f-5c90-41e9-a6c9-352127c8471a\" name=\"files[]\" multiple disabled\n",
              "        style=\"border:none\" />\n",
              "     <output id=\"result-a5df177f-5c90-41e9-a6c9-352127c8471a\">\n",
              "      Upload widget is only available when the cell has been executed in the\n",
              "      current browser session. Please rerun this cell to enable.\n",
              "      </output>\n",
              "      <script src=\"/nbextensions/google.colab/files.js\"></script> "
            ],
            "text/plain": [
              "<IPython.core.display.HTML object>"
            ]
          },
          "metadata": {
            "tags": []
          }
        },
        {
          "output_type": "stream",
          "text": [
            "Saving test_data.csv to test_data.csv\n"
          ],
          "name": "stdout"
        }
      ]
    },
    {
      "cell_type": "code",
      "metadata": {
        "id": "Pc_4NNJwBPVk"
      },
      "source": [
        "test = pd.read_csv('test_data.csv')"
      ],
      "execution_count": null,
      "outputs": []
    },
    {
      "cell_type": "code",
      "metadata": {
        "id": "zFGsewWUBPYZ"
      },
      "source": [
        ""
      ],
      "execution_count": null,
      "outputs": []
    },
    {
      "cell_type": "code",
      "metadata": {
        "colab": {
          "base_uri": "https://localhost:8080/",
          "height": 204
        },
        "id": "miNV7yia6brI",
        "outputId": "2745aa8a-f4e3-49cf-d95d-7271501873a4"
      },
      "source": [
        "test.head()"
      ],
      "execution_count": null,
      "outputs": [
        {
          "output_type": "execute_result",
          "data": {
            "text/html": [
              "<div>\n",
              "<style scoped>\n",
              "    .dataframe tbody tr th:only-of-type {\n",
              "        vertical-align: middle;\n",
              "    }\n",
              "\n",
              "    .dataframe tbody tr th {\n",
              "        vertical-align: top;\n",
              "    }\n",
              "\n",
              "    .dataframe thead th {\n",
              "        text-align: right;\n",
              "    }\n",
              "</style>\n",
              "<table border=\"1\" class=\"dataframe\">\n",
              "  <thead>\n",
              "    <tr style=\"text-align: right;\">\n",
              "      <th></th>\n",
              "      <th>id</th>\n",
              "      <th>file_id</th>\n",
              "      <th>Раздел</th>\n",
              "      <th>Документ</th>\n",
              "    </tr>\n",
              "  </thead>\n",
              "  <tbody>\n",
              "    <tr>\n",
              "      <th>0</th>\n",
              "      <td>0</td>\n",
              "      <td>0</td>\n",
              "      <td>ВВОДНЫЕ ПОЛОЖЕНИЯ</td>\n",
              "      <td>НАЗНАЧЕНИЕ \\n \\n \\n \\nМетодические указания ус...</td>\n",
              "    </tr>\n",
              "    <tr>\n",
              "      <th>1</th>\n",
              "      <td>1</td>\n",
              "      <td>0</td>\n",
              "      <td>ВВОДНЫЕ ПОЛОЖЕНИЯ</td>\n",
              "      <td>ОБЛАСТЬ ДЕЙСТВИЯ \\n \\n \\n \\nНастоящие Методиче...</td>\n",
              "    </tr>\n",
              "    <tr>\n",
              "      <th>2</th>\n",
              "      <td>2</td>\n",
              "      <td>0</td>\n",
              "      <td>ВВОДНЫЕ ПОЛОЖЕНИЯ</td>\n",
              "      <td>ПЕРИОД ДЕЙСТВИЯ И ПОРЯДОК ВНЕСЕНИЯ ИЗМЕНЕНИЙ \\...</td>\n",
              "    </tr>\n",
              "    <tr>\n",
              "      <th>3</th>\n",
              "      <td>3</td>\n",
              "      <td>0</td>\n",
              "      <td>1. ТЕРМИНЫ И ОПРЕДЕЛЕНИЯ</td>\n",
              "      <td>ТЕРМИНЫ И ОПРЕДЕЛЕНИЯ КОРПОРАТИВНОГО ГЛОССАРИЯ...</td>\n",
              "    </tr>\n",
              "    <tr>\n",
              "      <th>4</th>\n",
              "      <td>4</td>\n",
              "      <td>0</td>\n",
              "      <td>1. ТЕРМИНЫ И ОПРЕДЕЛЕНИЯ</td>\n",
              "      <td>ТЕРМИНЫ И ОПРЕДЕЛЕНИЯ ДЛЯ ЦЕЛЕЙ НАСТОЯЩЕГО ДОК...</td>\n",
              "    </tr>\n",
              "  </tbody>\n",
              "</table>\n",
              "</div>"
            ],
            "text/plain": [
              "   id  ...                                           Документ\n",
              "0   0  ...  НАЗНАЧЕНИЕ \\n \\n \\n \\nМетодические указания ус...\n",
              "1   1  ...  ОБЛАСТЬ ДЕЙСТВИЯ \\n \\n \\n \\nНастоящие Методиче...\n",
              "2   2  ...  ПЕРИОД ДЕЙСТВИЯ И ПОРЯДОК ВНЕСЕНИЯ ИЗМЕНЕНИЙ \\...\n",
              "3   3  ...  ТЕРМИНЫ И ОПРЕДЕЛЕНИЯ КОРПОРАТИВНОГО ГЛОССАРИЯ...\n",
              "4   4  ...  ТЕРМИНЫ И ОПРЕДЕЛЕНИЯ ДЛЯ ЦЕЛЕЙ НАСТОЯЩЕГО ДОК...\n",
              "\n",
              "[5 rows x 4 columns]"
            ]
          },
          "metadata": {
            "tags": []
          },
          "execution_count": 171
        }
      ]
    },
    {
      "cell_type": "code",
      "metadata": {
        "colab": {
          "base_uri": "https://localhost:8080/"
        },
        "id": "LsiYjMuw-4Uj",
        "outputId": "a0412b9e-5587-4dc8-b4fa-9b7b0404704f"
      },
      "source": [
        "test.shape"
      ],
      "execution_count": null,
      "outputs": [
        {
          "output_type": "execute_result",
          "data": {
            "text/plain": [
              "(2089, 4)"
            ]
          },
          "metadata": {
            "tags": []
          },
          "execution_count": 172
        }
      ]
    },
    {
      "cell_type": "code",
      "metadata": {
        "id": "eK3KkqKT6lDo"
      },
      "source": [
        "test = test.drop(['id','file_id','Раздел'],axis=1)"
      ],
      "execution_count": null,
      "outputs": []
    },
    {
      "cell_type": "code",
      "metadata": {
        "id": "3KM9eC-o61cj"
      },
      "source": [
        "test['Документ'] = [capitalizer(string) for string in test['Документ']]"
      ],
      "execution_count": null,
      "outputs": []
    },
    {
      "cell_type": "code",
      "metadata": {
        "id": "0OTuebE06-lr"
      },
      "source": [
        "test['Документ'] = [string.replace(\"\\n\", \" \") for string in test['Документ']]"
      ],
      "execution_count": null,
      "outputs": []
    },
    {
      "cell_type": "code",
      "metadata": {
        "colab": {
          "base_uri": "https://localhost:8080/",
          "height": 204
        },
        "id": "Bhk4a7WE7UCO",
        "outputId": "72fb431b-fbc9-46b8-9ae4-3cd95d29f897"
      },
      "source": [
        "test.head()"
      ],
      "execution_count": null,
      "outputs": [
        {
          "output_type": "execute_result",
          "data": {
            "text/html": [
              "<div>\n",
              "<style scoped>\n",
              "    .dataframe tbody tr th:only-of-type {\n",
              "        vertical-align: middle;\n",
              "    }\n",
              "\n",
              "    .dataframe tbody tr th {\n",
              "        vertical-align: top;\n",
              "    }\n",
              "\n",
              "    .dataframe thead th {\n",
              "        text-align: right;\n",
              "    }\n",
              "</style>\n",
              "<table border=\"1\" class=\"dataframe\">\n",
              "  <thead>\n",
              "    <tr style=\"text-align: right;\">\n",
              "      <th></th>\n",
              "      <th>Документ</th>\n",
              "    </tr>\n",
              "  </thead>\n",
              "  <tbody>\n",
              "    <tr>\n",
              "      <th>0</th>\n",
              "      <td>назначение        методические указания устана...</td>\n",
              "    </tr>\n",
              "    <tr>\n",
              "      <th>1</th>\n",
              "      <td>область действия        настоящие методические...</td>\n",
              "    </tr>\n",
              "    <tr>\n",
              "      <th>2</th>\n",
              "      <td>период действия и порядок внесения изменений  ...</td>\n",
              "    </tr>\n",
              "    <tr>\n",
              "      <th>3</th>\n",
              "      <td>термины и определения корпоративного глоссария...</td>\n",
              "    </tr>\n",
              "    <tr>\n",
              "      <th>4</th>\n",
              "      <td>термины и определения для целей настоящего док...</td>\n",
              "    </tr>\n",
              "  </tbody>\n",
              "</table>\n",
              "</div>"
            ],
            "text/plain": [
              "                                            Документ\n",
              "0  назначение        методические указания устана...\n",
              "1  область действия        настоящие методические...\n",
              "2  период действия и порядок внесения изменений  ...\n",
              "3  термины и определения корпоративного глоссария...\n",
              "4  термины и определения для целей настоящего док..."
            ]
          },
          "metadata": {
            "tags": []
          },
          "execution_count": 176
        }
      ]
    },
    {
      "cell_type": "code",
      "metadata": {
        "id": "1n7wEhmk__Q2"
      },
      "source": [
        "def remove_emails(x):\n",
        "     return re.sub(r'([a-z0-9+._-]+@[a-z0-9+._-]+\\.[a-z0-9+_-]+)',\"\", x)"
      ],
      "execution_count": null,
      "outputs": []
    },
    {
      "cell_type": "code",
      "metadata": {
        "id": "hMFgSNbdARYa"
      },
      "source": [
        "def remove_urls(x):\n",
        "    return re.sub(r'(http|https|ftp|ssh)://([\\w_-]+(?:(?:\\.[\\w_-]+)+))([\\w.,@?^=%&:/~+#-]*[\\w@?^=%&/~+#-])?', '' , x)"
      ],
      "execution_count": null,
      "outputs": []
    },
    {
      "cell_type": "code",
      "metadata": {
        "id": "u-TvBR7BAUvL"
      },
      "source": [
        "def remove_rt(x):\n",
        "    return re.sub(r'\\brt\\b', '', x).strip()"
      ],
      "execution_count": null,
      "outputs": []
    },
    {
      "cell_type": "code",
      "metadata": {
        "id": "gdmCrCyTAWD5"
      },
      "source": [
        "def remove_special_chars(x):\n",
        "    x = re.sub(r'[^\\w ]+', \"\", x)\n",
        "    x = ' '.join(x.split())\n",
        "    return x"
      ],
      "execution_count": null,
      "outputs": []
    },
    {
      "cell_type": "code",
      "metadata": {
        "id": "wTv2VCW9AaAB"
      },
      "source": [
        "test['text_clean'] = test['Документ'].apply(lambda x: remove_emails(x))\n",
        "test['text_clean'] = test['text_clean'].apply(lambda x: remove_urls(x))\n",
        "test['text_clean'] = test['text_clean'].apply(lambda x: remove_rt(x))\n",
        "test['text_clean'] = test['text_clean'].apply(lambda x: remove_special_chars(x))"
      ],
      "execution_count": null,
      "outputs": []
    },
    {
      "cell_type": "code",
      "metadata": {
        "colab": {
          "base_uri": "https://localhost:8080/",
          "height": 419
        },
        "id": "togjhzCbAg40",
        "outputId": "f0d36ef8-6c20-431c-c2e0-ed3a25610894"
      },
      "source": [
        "test"
      ],
      "execution_count": null,
      "outputs": [
        {
          "output_type": "execute_result",
          "data": {
            "text/html": [
              "<div>\n",
              "<style scoped>\n",
              "    .dataframe tbody tr th:only-of-type {\n",
              "        vertical-align: middle;\n",
              "    }\n",
              "\n",
              "    .dataframe tbody tr th {\n",
              "        vertical-align: top;\n",
              "    }\n",
              "\n",
              "    .dataframe thead th {\n",
              "        text-align: right;\n",
              "    }\n",
              "</style>\n",
              "<table border=\"1\" class=\"dataframe\">\n",
              "  <thead>\n",
              "    <tr style=\"text-align: right;\">\n",
              "      <th></th>\n",
              "      <th>Документ</th>\n",
              "      <th>text_clean</th>\n",
              "    </tr>\n",
              "  </thead>\n",
              "  <tbody>\n",
              "    <tr>\n",
              "      <th>0</th>\n",
              "      <td>назначение        методические указания устана...</td>\n",
              "      <td>назначение методические указания устанавливают...</td>\n",
              "    </tr>\n",
              "    <tr>\n",
              "      <th>1</th>\n",
              "      <td>область действия        настоящие методические...</td>\n",
              "      <td>область действия настоящие методические указан...</td>\n",
              "    </tr>\n",
              "    <tr>\n",
              "      <th>2</th>\n",
              "      <td>период действия и порядок внесения изменений  ...</td>\n",
              "      <td>период действия и порядок внесения изменений н...</td>\n",
              "    </tr>\n",
              "    <tr>\n",
              "      <th>3</th>\n",
              "      <td>термины и определения корпоративного глоссария...</td>\n",
              "      <td>термины и определения корпоративного глоссария...</td>\n",
              "    </tr>\n",
              "    <tr>\n",
              "      <th>4</th>\n",
              "      <td>термины и определения для целей настоящего док...</td>\n",
              "      <td>термины и определения для целей настоящего док...</td>\n",
              "    </tr>\n",
              "    <tr>\n",
              "      <th>...</th>\n",
              "      <td>...</td>\n",
              "      <td>...</td>\n",
              "    </tr>\n",
              "    <tr>\n",
              "      <th>2084</th>\n",
              "      <td>пример условного обозначения нпс        нпс-60...</td>\n",
              "      <td>пример условного обозначения нпс нпс60993000в1...</td>\n",
              "    </tr>\n",
              "    <tr>\n",
              "      <th>2085</th>\n",
              "      <td>схема условного обозначения нспв        схема ...</td>\n",
              "      <td>схема условного обозначения нспв схема условно...</td>\n",
              "    </tr>\n",
              "    <tr>\n",
              "      <th>2086</th>\n",
              "      <td>применение условного обозначения        схема ...</td>\n",
              "      <td>применение условного обозначения схема условно...</td>\n",
              "    </tr>\n",
              "    <tr>\n",
              "      <th>2087</th>\n",
              "      <td>технический регламент таможенного союза «о...</td>\n",
              "      <td>технический регламент таможенного союза о безо...</td>\n",
              "    </tr>\n",
              "    <tr>\n",
              "      <th>2088</th>\n",
              "      <td>таблица   перечень приложений к методическ...</td>\n",
              "      <td>таблица перечень приложений к методическим ука...</td>\n",
              "    </tr>\n",
              "  </tbody>\n",
              "</table>\n",
              "<p>2089 rows × 2 columns</p>\n",
              "</div>"
            ],
            "text/plain": [
              "                                               Документ                                         text_clean\n",
              "0     назначение        методические указания устана...  назначение методические указания устанавливают...\n",
              "1     область действия        настоящие методические...  область действия настоящие методические указан...\n",
              "2     период действия и порядок внесения изменений  ...  период действия и порядок внесения изменений н...\n",
              "3     термины и определения корпоративного глоссария...  термины и определения корпоративного глоссария...\n",
              "4     термины и определения для целей настоящего док...  термины и определения для целей настоящего док...\n",
              "...                                                 ...                                                ...\n",
              "2084  пример условного обозначения нпс        нпс-60...  пример условного обозначения нпс нпс60993000в1...\n",
              "2085  схема условного обозначения нспв        схема ...  схема условного обозначения нспв схема условно...\n",
              "2086  применение условного обозначения        схема ...  применение условного обозначения схема условно...\n",
              "2087      технический регламент таможенного союза «о...  технический регламент таможенного союза о безо...\n",
              "2088      таблица   перечень приложений к методическ...  таблица перечень приложений к методическим ука...\n",
              "\n",
              "[2089 rows x 2 columns]"
            ]
          },
          "metadata": {
            "tags": []
          },
          "execution_count": 182
        }
      ]
    },
    {
      "cell_type": "code",
      "metadata": {
        "id": "kWIhV_9x7ni4"
      },
      "source": [
        "#токенизация текста\n",
        "test = test.assign(text_tokenize = test['text_clean'].apply(word_tokenize))"
      ],
      "execution_count": null,
      "outputs": []
    },
    {
      "cell_type": "code",
      "metadata": {
        "id": "oS5xyrns70TC"
      },
      "source": [
        "test['text_tokenize'] = test['text_tokenize'].apply(lambda x: [item for item in x if item not in stop_words])"
      ],
      "execution_count": null,
      "outputs": []
    },
    {
      "cell_type": "code",
      "metadata": {
        "id": "CUs1kwzk7U5R"
      },
      "source": [
        "test['text_tokenize'] = test['text_tokenize'].apply(lambda x: [lemmatizer.lemmatize(y, pos='v') for y in x])"
      ],
      "execution_count": null,
      "outputs": []
    },
    {
      "cell_type": "code",
      "metadata": {
        "id": "UfKeWCFN75UC"
      },
      "source": [
        "test['text_tokenize'] = test['text_tokenize'].apply(lambda x: [snowball.stem(y) for y in x])"
      ],
      "execution_count": null,
      "outputs": []
    },
    {
      "cell_type": "code",
      "metadata": {
        "id": "ZqcWrRupBNAi"
      },
      "source": [
        "test = test.assign(text_str = test['text_tokenize'].apply(str))"
      ],
      "execution_count": null,
      "outputs": []
    },
    {
      "cell_type": "code",
      "metadata": {
        "colab": {
          "base_uri": "https://localhost:8080/"
        },
        "id": "vQ8JgEomOrXY",
        "outputId": "bca6a1a3-fedc-4936-dcd9-695fd9ae68a5"
      },
      "source": [
        "test.shape"
      ],
      "execution_count": null,
      "outputs": [
        {
          "output_type": "execute_result",
          "data": {
            "text/plain": [
              "(2089, 4)"
            ]
          },
          "metadata": {
            "tags": []
          },
          "execution_count": 188
        }
      ]
    },
    {
      "cell_type": "code",
      "metadata": {
        "id": "Lj6W-cOy8g9W"
      },
      "source": [
        "tes = test['text_str']"
      ],
      "execution_count": null,
      "outputs": []
    },
    {
      "cell_type": "code",
      "metadata": {
        "id": "OK4KsA3wB9sX"
      },
      "source": [
        "#s = tes.iloc[:1075]"
      ],
      "execution_count": null,
      "outputs": []
    },
    {
      "cell_type": "code",
      "metadata": {
        "id": "18M0bXdIGGAg"
      },
      "source": [
        "tes = tfidf.transform(tes)"
      ],
      "execution_count": null,
      "outputs": []
    },
    {
      "cell_type": "code",
      "metadata": {
        "id": "LO6W3dn2HG9r"
      },
      "source": [
        "fin_pred = classifier_fun.predict(tes)"
      ],
      "execution_count": null,
      "outputs": []
    },
    {
      "cell_type": "code",
      "metadata": {
        "id": "I0k4QQm0P4uG"
      },
      "source": [
        "t1 = mlb1.inverse_transform(fin_pred)"
      ],
      "execution_count": null,
      "outputs": []
    },
    {
      "cell_type": "code",
      "metadata": {
        "id": "TRpGsYlPQHxZ"
      },
      "source": [
        "pred_obj = pd.DataFrame(t1)"
      ],
      "execution_count": null,
      "outputs": []
    },
    {
      "cell_type": "code",
      "metadata": {
        "id": "R49g9VCSRb0h"
      },
      "source": [
        "fin_pred_proc = classifier_proc.predict(tes)"
      ],
      "execution_count": null,
      "outputs": []
    },
    {
      "cell_type": "code",
      "metadata": {
        "id": "xR8BB2NLQi_V"
      },
      "source": [
        "s2 = mlb3.inverse_transform(fin_pred_proc)"
      ],
      "execution_count": null,
      "outputs": []
    },
    {
      "cell_type": "code",
      "metadata": {
        "id": "psiXJFtSRb6f"
      },
      "source": [
        "pred_proc = pd.DataFrame(s2)"
      ],
      "execution_count": null,
      "outputs": []
    },
    {
      "cell_type": "code",
      "metadata": {
        "id": "vRrOL8TpRcCz"
      },
      "source": [
        "fin_pred_struc = classifier_struc.predict(tes)"
      ],
      "execution_count": null,
      "outputs": []
    },
    {
      "cell_type": "code",
      "metadata": {
        "id": "efNewCiCQtmp"
      },
      "source": [
        "s3 = mlb5.inverse_transform(fin_pred_struc)"
      ],
      "execution_count": null,
      "outputs": []
    },
    {
      "cell_type": "code",
      "metadata": {
        "id": "CYx5iOqORcIw"
      },
      "source": [
        "pred_struc = pd.DataFrame(s3)"
      ],
      "execution_count": null,
      "outputs": []
    },
    {
      "cell_type": "code",
      "metadata": {
        "id": "jzCROVYXRcOf"
      },
      "source": [
        "fin_ogr = classifier_ogr.predict(tes)"
      ],
      "execution_count": null,
      "outputs": []
    },
    {
      "cell_type": "code",
      "metadata": {
        "id": "PVK_EG3yQ0Cj"
      },
      "source": [
        "s4 = mlb4.inverse_transform(fin_ogr)"
      ],
      "execution_count": null,
      "outputs": []
    },
    {
      "cell_type": "code",
      "metadata": {
        "id": "s-XYOkOZRcUK"
      },
      "source": [
        "pred_ogr = pd.DataFrame(s4)"
      ],
      "execution_count": null,
      "outputs": []
    },
    {
      "cell_type": "code",
      "metadata": {
        "id": "hSiKu5gaHBe_"
      },
      "source": [
        "fin_fun = classifier_fun.predict(tes)"
      ],
      "execution_count": null,
      "outputs": []
    },
    {
      "cell_type": "code",
      "metadata": {
        "id": "474dep1PQ7OV"
      },
      "source": [
        "s5 = mlb2.inverse_transform(fin_fun)"
      ],
      "execution_count": null,
      "outputs": []
    },
    {
      "cell_type": "code",
      "metadata": {
        "id": "Pa-2OUXnSbdw"
      },
      "source": [
        "pred_fun = pd.DataFrame(s5)"
      ],
      "execution_count": null,
      "outputs": []
    },
    {
      "cell_type": "code",
      "metadata": {
        "colab": {
          "resources": {
            "http://localhost:8080/nbextensions/google.colab/files.js": {
              "data": "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",
              "ok": true,
              "headers": [
                [
                  "content-type",
                  "application/javascript"
                ]
              ],
              "status": 200,
              "status_text": ""
            }
          },
          "base_uri": "https://localhost:8080/",
          "height": 72
        },
        "id": "RvbxCmErQ7rg",
        "outputId": "7ed4abc0-a43e-4ffe-d0cc-54b58586a206"
      },
      "source": [
        "from google.colab import files\n",
        "uploaded = files.upload()"
      ],
      "execution_count": null,
      "outputs": [
        {
          "output_type": "display_data",
          "data": {
            "text/html": [
              "\n",
              "     <input type=\"file\" id=\"files-88173828-c2ca-4148-9ed5-0a954c47bc10\" name=\"files[]\" multiple disabled\n",
              "        style=\"border:none\" />\n",
              "     <output id=\"result-88173828-c2ca-4148-9ed5-0a954c47bc10\">\n",
              "      Upload widget is only available when the cell has been executed in the\n",
              "      current browser session. Please rerun this cell to enable.\n",
              "      </output>\n",
              "      <script src=\"/nbextensions/google.colab/files.js\"></script> "
            ],
            "text/plain": [
              "<IPython.core.display.HTML object>"
            ]
          },
          "metadata": {
            "tags": []
          }
        },
        {
          "output_type": "stream",
          "text": [
            "Saving sample_submission.csv to sample_submission.csv\n"
          ],
          "name": "stdout"
        }
      ]
    },
    {
      "cell_type": "code",
      "metadata": {
        "id": "UXCCWtMsRHzD"
      },
      "source": [
        "sub_d = pd.read_csv('sample_submission.csv')"
      ],
      "execution_count": null,
      "outputs": []
    },
    {
      "cell_type": "code",
      "metadata": {
        "id": "X6IRniqBR25A"
      },
      "source": [
        "sub_d['Функциональные'] = pred_fun\n",
        "sub_d['Процессные'] = pred_proc\n",
        "sub_d['Объектные'] = pred_obj\n",
        "sub_d['Структурные'] = pred_struc\n",
        "sub_d['Ограничения'] = pred_ogr\n",
        "sub_d.to_csv('Submissionsd.csv', index = False)"
      ],
      "execution_count": null,
      "outputs": []
    },
    {
      "cell_type": "code",
      "metadata": {
        "colab": {
          "base_uri": "https://localhost:8080/",
          "height": 17
        },
        "id": "Uj3u-7chSxoD",
        "outputId": "382aa5cd-950c-4a33-84c7-c2c17f247859"
      },
      "source": [
        "from google.colab import files\n",
        "uploaded = files.download('Submissionsd.csv')"
      ],
      "execution_count": null,
      "outputs": [
        {
          "output_type": "display_data",
          "data": {
            "application/javascript": [
              "\n",
              "    async function download(id, filename, size) {\n",
              "      if (!google.colab.kernel.accessAllowed) {\n",
              "        return;\n",
              "      }\n",
              "      const div = document.createElement('div');\n",
              "      const label = document.createElement('label');\n",
              "      label.textContent = `Downloading \"${filename}\": `;\n",
              "      div.appendChild(label);\n",
              "      const progress = document.createElement('progress');\n",
              "      progress.max = size;\n",
              "      div.appendChild(progress);\n",
              "      document.body.appendChild(div);\n",
              "\n",
              "      const buffers = [];\n",
              "      let downloaded = 0;\n",
              "\n",
              "      const channel = await google.colab.kernel.comms.open(id);\n",
              "      // Send a message to notify the kernel that we're ready.\n",
              "      channel.send({})\n",
              "\n",
              "      for await (const message of channel.messages) {\n",
              "        // Send a message to notify the kernel that we're ready.\n",
              "        channel.send({})\n",
              "        if (message.buffers) {\n",
              "          for (const buffer of message.buffers) {\n",
              "            buffers.push(buffer);\n",
              "            downloaded += buffer.byteLength;\n",
              "            progress.value = downloaded;\n",
              "          }\n",
              "        }\n",
              "      }\n",
              "      const blob = new Blob(buffers, {type: 'application/binary'});\n",
              "      const a = document.createElement('a');\n",
              "      a.href = window.URL.createObjectURL(blob);\n",
              "      a.download = filename;\n",
              "      div.appendChild(a);\n",
              "      a.click();\n",
              "      div.remove();\n",
              "    }\n",
              "  "
            ],
            "text/plain": [
              "<IPython.core.display.Javascript object>"
            ]
          },
          "metadata": {
            "tags": []
          }
        },
        {
          "output_type": "display_data",
          "data": {
            "application/javascript": [
              "download(\"download_0d188015-edd9-48ca-a450-55a0770e1399\", \"Submissionsd.csv\", 292935)"
            ],
            "text/plain": [
              "<IPython.core.display.Javascript object>"
            ]
          },
          "metadata": {
            "tags": []
          }
        }
      ]
    },
    {
      "cell_type": "code",
      "metadata": {
        "colab": {
          "resources": {
            "http://localhost:8080/nbextensions/google.colab/files.js": {
              "data": "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",
              "ok": true,
              "headers": [
                [
                  "content-type",
                  "application/javascript"
                ]
              ],
              "status": 200,
              "status_text": ""
            }
          },
          "base_uri": "https://localhost:8080/",
          "height": 72
        },
        "id": "3r8owSisTNt1",
        "outputId": "5560930d-425c-48e5-fbda-44bd63c13072"
      },
      "source": [
        "from google.colab import files\n",
        "uploaded = files.upload()"
      ],
      "execution_count": null,
      "outputs": [
        {
          "output_type": "display_data",
          "data": {
            "text/html": [
              "\n",
              "     <input type=\"file\" id=\"files-fd7a06ba-ffbb-4797-bef6-ecf892618a28\" name=\"files[]\" multiple disabled\n",
              "        style=\"border:none\" />\n",
              "     <output id=\"result-fd7a06ba-ffbb-4797-bef6-ecf892618a28\">\n",
              "      Upload widget is only available when the cell has been executed in the\n",
              "      current browser session. Please rerun this cell to enable.\n",
              "      </output>\n",
              "      <script src=\"/nbextensions/google.colab/files.js\"></script> "
            ],
            "text/plain": [
              "<IPython.core.display.HTML object>"
            ]
          },
          "metadata": {
            "tags": []
          }
        },
        {
          "output_type": "stream",
          "text": [
            "Saving Submissionsd (2).csv to Submissionsd (2).csv\n"
          ],
          "name": "stdout"
        }
      ]
    },
    {
      "cell_type": "code",
      "metadata": {
        "id": "V7laCG3dVJoy"
      },
      "source": [
        "submission = pd.read_csv('Submissionsd.csv')"
      ],
      "execution_count": null,
      "outputs": []
    },
    {
      "cell_type": "code",
      "metadata": {
        "id": "ikrbE2d3VJ7Q"
      },
      "source": [
        "submission = submission.fillna('не опознано')"
      ],
      "execution_count": null,
      "outputs": []
    },
    {
      "cell_type": "code",
      "metadata": {
        "id": "vQJGGitZYGtx"
      },
      "source": [
        "submission.to_csv('submit.csv',index=False)"
      ],
      "execution_count": null,
      "outputs": []
    },
    {
      "cell_type": "code",
      "metadata": {
        "colab": {
          "base_uri": "https://localhost:8080/",
          "height": 17
        },
        "id": "ABG4yDxIUymW",
        "outputId": "8c8ddfd8-ddd8-4191-de2f-9533f0870c52"
      },
      "source": [
        "from google.colab import files\n",
        "uploaded = files.download('submit.csv')"
      ],
      "execution_count": null,
      "outputs": [
        {
          "output_type": "display_data",
          "data": {
            "application/javascript": [
              "\n",
              "    async function download(id, filename, size) {\n",
              "      if (!google.colab.kernel.accessAllowed) {\n",
              "        return;\n",
              "      }\n",
              "      const div = document.createElement('div');\n",
              "      const label = document.createElement('label');\n",
              "      label.textContent = `Downloading \"${filename}\": `;\n",
              "      div.appendChild(label);\n",
              "      const progress = document.createElement('progress');\n",
              "      progress.max = size;\n",
              "      div.appendChild(progress);\n",
              "      document.body.appendChild(div);\n",
              "\n",
              "      const buffers = [];\n",
              "      let downloaded = 0;\n",
              "\n",
              "      const channel = await google.colab.kernel.comms.open(id);\n",
              "      // Send a message to notify the kernel that we're ready.\n",
              "      channel.send({})\n",
              "\n",
              "      for await (const message of channel.messages) {\n",
              "        // Send a message to notify the kernel that we're ready.\n",
              "        channel.send({})\n",
              "        if (message.buffers) {\n",
              "          for (const buffer of message.buffers) {\n",
              "            buffers.push(buffer);\n",
              "            downloaded += buffer.byteLength;\n",
              "            progress.value = downloaded;\n",
              "          }\n",
              "        }\n",
              "      }\n",
              "      const blob = new Blob(buffers, {type: 'application/binary'});\n",
              "      const a = document.createElement('a');\n",
              "      a.href = window.URL.createObjectURL(blob);\n",
              "      a.download = filename;\n",
              "      div.appendChild(a);\n",
              "      a.click();\n",
              "      div.remove();\n",
              "    }\n",
              "  "
            ],
            "text/plain": [
              "<IPython.core.display.Javascript object>"
            ]
          },
          "metadata": {
            "tags": []
          }
        },
        {
          "output_type": "display_data",
          "data": {
            "application/javascript": [
              "download(\"download_46155266-dbe8-4931-baed-1fdea071bee4\", \"submit.csv\", 340269)"
            ],
            "text/plain": [
              "<IPython.core.display.Javascript object>"
            ]
          },
          "metadata": {
            "tags": []
          }
        }
      ]
    },
    {
      "cell_type": "code",
      "metadata": {
        "colab": {
          "base_uri": "https://localhost:8080/",
          "height": 419
        },
        "id": "1m-f8PFvU2Hl",
        "outputId": "16086f36-ba86-47ac-953b-de0cbd8817bf"
      },
      "source": [
        "submission"
      ],
      "execution_count": null,
      "outputs": [
        {
          "output_type": "execute_result",
          "data": {
            "text/html": [
              "<div>\n",
              "<style scoped>\n",
              "    .dataframe tbody tr th:only-of-type {\n",
              "        vertical-align: middle;\n",
              "    }\n",
              "\n",
              "    .dataframe tbody tr th {\n",
              "        vertical-align: top;\n",
              "    }\n",
              "\n",
              "    .dataframe thead th {\n",
              "        text-align: right;\n",
              "    }\n",
              "</style>\n",
              "<table border=\"1\" class=\"dataframe\">\n",
              "  <thead>\n",
              "    <tr style=\"text-align: right;\">\n",
              "      <th></th>\n",
              "      <th>id</th>\n",
              "      <th>file_id</th>\n",
              "      <th>Объектные</th>\n",
              "      <th>Функциональные</th>\n",
              "      <th>Процессные</th>\n",
              "      <th>Ограничения</th>\n",
              "      <th>Структурные</th>\n",
              "    </tr>\n",
              "  </thead>\n",
              "  <tbody>\n",
              "    <tr>\n",
              "      <th>0</th>\n",
              "      <td>0</td>\n",
              "      <td>0</td>\n",
              "      <td>не опознано</td>\n",
              "      <td>не опознано</td>\n",
              "      <td>не опознано</td>\n",
              "      <td>не опознано</td>\n",
              "      <td>назначение</td>\n",
              "    </tr>\n",
              "    <tr>\n",
              "      <th>1</th>\n",
              "      <td>1</td>\n",
              "      <td>0</td>\n",
              "      <td>электротехническое оборудование</td>\n",
              "      <td>энергоснабжение</td>\n",
              "      <td>энергоснабжение</td>\n",
              "      <td>не опознано</td>\n",
              "      <td>не опознано</td>\n",
              "    </tr>\n",
              "    <tr>\n",
              "      <th>2</th>\n",
              "      <td>2</td>\n",
              "      <td>0</td>\n",
              "      <td>не опознано</td>\n",
              "      <td>не опознано</td>\n",
              "      <td>не опознано</td>\n",
              "      <td>не опознано</td>\n",
              "      <td>не опознано</td>\n",
              "    </tr>\n",
              "    <tr>\n",
              "      <th>3</th>\n",
              "      <td>3</td>\n",
              "      <td>0</td>\n",
              "      <td>не опознано</td>\n",
              "      <td>не опознано</td>\n",
              "      <td>не опознано</td>\n",
              "      <td>не опознано</td>\n",
              "      <td>термины и определения</td>\n",
              "    </tr>\n",
              "    <tr>\n",
              "      <th>4</th>\n",
              "      <td>4</td>\n",
              "      <td>0</td>\n",
              "      <td>переключательный пункт на базе реклоузеров</td>\n",
              "      <td>не опознано</td>\n",
              "      <td>не опознано</td>\n",
              "      <td>не опознано</td>\n",
              "      <td>не опознано</td>\n",
              "    </tr>\n",
              "    <tr>\n",
              "      <th>...</th>\n",
              "      <td>...</td>\n",
              "      <td>...</td>\n",
              "      <td>...</td>\n",
              "      <td>...</td>\n",
              "      <td>...</td>\n",
              "      <td>...</td>\n",
              "      <td>...</td>\n",
              "    </tr>\n",
              "    <tr>\n",
              "      <th>2084</th>\n",
              "      <td>2084</td>\n",
              "      <td>74</td>\n",
              "      <td>переключательный пункт на базе реклоузеров</td>\n",
              "      <td>не опознано</td>\n",
              "      <td>не опознано</td>\n",
              "      <td>не опознано</td>\n",
              "      <td>не опознано</td>\n",
              "    </tr>\n",
              "    <tr>\n",
              "      <th>2085</th>\n",
              "      <td>2085</td>\n",
              "      <td>74</td>\n",
              "      <td>электротехническое оборудование</td>\n",
              "      <td>энергоснабжение</td>\n",
              "      <td>энергоснабжение</td>\n",
              "      <td>не опознано</td>\n",
              "      <td>таблица</td>\n",
              "    </tr>\n",
              "    <tr>\n",
              "      <th>2086</th>\n",
              "      <td>2086</td>\n",
              "      <td>74</td>\n",
              "      <td>переключательный пункт на базе реклоузеров</td>\n",
              "      <td>не опознано</td>\n",
              "      <td>не опознано</td>\n",
              "      <td>не опознано</td>\n",
              "      <td>ссылка на нд</td>\n",
              "    </tr>\n",
              "    <tr>\n",
              "      <th>2087</th>\n",
              "      <td>2087</td>\n",
              "      <td>74</td>\n",
              "      <td>переключательный пункт на базе реклоузеров</td>\n",
              "      <td>не опознано</td>\n",
              "      <td>не опознано</td>\n",
              "      <td>не опознано</td>\n",
              "      <td>ссылка на нд</td>\n",
              "    </tr>\n",
              "    <tr>\n",
              "      <th>2088</th>\n",
              "      <td>2088</td>\n",
              "      <td>74</td>\n",
              "      <td>переключательный пункт на базе реклоузеров</td>\n",
              "      <td>не опознано</td>\n",
              "      <td>не опознано</td>\n",
              "      <td>не опознано</td>\n",
              "      <td>приложение</td>\n",
              "    </tr>\n",
              "  </tbody>\n",
              "</table>\n",
              "<p>2089 rows × 7 columns</p>\n",
              "</div>"
            ],
            "text/plain": [
              "        id  file_id  ...  Ограничения            Структурные\n",
              "0        0        0  ...  не опознано             назначение\n",
              "1        1        0  ...  не опознано            не опознано\n",
              "2        2        0  ...  не опознано            не опознано\n",
              "3        3        0  ...  не опознано  термины и определения\n",
              "4        4        0  ...  не опознано            не опознано\n",
              "...    ...      ...  ...          ...                    ...\n",
              "2084  2084       74  ...  не опознано            не опознано\n",
              "2085  2085       74  ...  не опознано                таблица\n",
              "2086  2086       74  ...  не опознано           ссылка на нд\n",
              "2087  2087       74  ...  не опознано           ссылка на нд\n",
              "2088  2088       74  ...  не опознано             приложение\n",
              "\n",
              "[2089 rows x 7 columns]"
            ]
          },
          "metadata": {
            "tags": []
          },
          "execution_count": 223
        }
      ]
    },
    {
      "cell_type": "code",
      "metadata": {
        "colab": {
          "base_uri": "https://localhost:8080/"
        },
        "id": "afaU59o6U5ZZ",
        "outputId": "d386cb86-107e-4b04-b169-5fd6d3055aa7"
      },
      "source": [
        "submission['Объектные'].value_counts()"
      ],
      "execution_count": null,
      "outputs": [
        {
          "output_type": "execute_result",
          "data": {
            "text/plain": [
              "переключательный пункт на базе реклоузеров     1297\n",
              "не опознано                                     586\n",
              "электротехническое оборудование                 149\n",
              "трансформатор                                    25\n",
              "площадочные объекты                              15\n",
              "блок компрессорных установок                     12\n",
              "ресивер                                           4\n",
              "линейный объект                                   1\n",
              "Name: Объектные, dtype: int64"
            ]
          },
          "metadata": {
            "tags": []
          },
          "execution_count": 227
        }
      ]
    },
    {
      "cell_type": "code",
      "metadata": {
        "colab": {
          "base_uri": "https://localhost:8080/"
        },
        "id": "3D1EJFBMVQ_k",
        "outputId": "b29cd5d4-233a-43e8-b2e0-d6a1e9f95a3b"
      },
      "source": [
        "submission['Структурные'].value_counts()"
      ],
      "execution_count": null,
      "outputs": [
        {
          "output_type": "execute_result",
          "data": {
            "text/plain": [
              "ссылка на нд                 735\n",
              "не опознано                  441\n",
              "требования                   363\n",
              "таблица                      217\n",
              "термины и определения         91\n",
              "ограничение по применению     67\n",
              "назначение                    61\n",
              "приложение                    47\n",
              "условное обозначение          36\n",
              "обозначения и сокращения      19\n",
              "ссылки                         5\n",
              "библиография                   2\n",
              "период действия                2\n",
              "ссылка на таблицу              1\n",
              "технические требования         1\n",
              "рисунок                        1\n",
              "Name: Структурные, dtype: int64"
            ]
          },
          "metadata": {
            "tags": []
          },
          "execution_count": 230
        }
      ]
    },
    {
      "cell_type": "code",
      "metadata": {
        "id": "_VimOj0MVlpw"
      },
      "source": [
        ""
      ],
      "execution_count": null,
      "outputs": []
    }
  ]
}