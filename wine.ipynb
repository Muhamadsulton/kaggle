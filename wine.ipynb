{
  "nbformat": 4,
  "nbformat_minor": 0,
  "metadata": {
    "kernelspec": {
      "display_name": "Python 3",
      "language": "python",
      "name": "python3"
    },
    "language_info": {
      "codemirror_mode": {
        "name": "ipython",
        "version": 3
      },
      "file_extension": ".py",
      "mimetype": "text/x-python",
      "name": "python",
      "nbconvert_exporter": "python",
      "pygments_lexer": "ipython3",
      "version": "3.7.4"
    },
    "colab": {
      "name": "wine.ipynb",
      "provenance": [],
      "include_colab_link": true
    }
  },
  "cells": [
    {
      "cell_type": "markdown",
      "metadata": {
        "id": "view-in-github",
        "colab_type": "text"
      },
      "source": [
        "<a href=\"https://colab.research.google.com/github/Muhamadsulton/kaggle/blob/main/wine.ipynb\" target=\"_parent\"><img src=\"https://colab.research.google.com/assets/colab-badge.svg\" alt=\"Open In Colab\"/></a>"
      ]
    },
    {
      "cell_type": "code",
      "metadata": {
        "id": "wwGOh3SKgh5R"
      },
      "source": [
        "#загрузка библиотек \n",
        "import pandas as pd #библиотека для работы с таблицами\n",
        "import numpy as np #библиотека для работы с матрицами итд\n",
        "import matplotlib.pyplot as plt #библиотека для визуализации графиков"
      ],
      "execution_count": null,
      "outputs": []
    },
    {
      "cell_type": "code",
      "metadata": {
        "id": "pQxWpzmOgh5U"
      },
      "source": [
        "#загрузить файл\n",
        "data = pd.read_csv('winemag-data_first150k.csv', header = 0, index_col = False)"
      ],
      "execution_count": null,
      "outputs": []
    },
    {
      "cell_type": "code",
      "metadata": {
        "id": "tDzRkqFFgh5V",
        "outputId": "00c0f4dd-7df3-4e89-f84b-dacea49b89cf"
      },
      "source": [
        "#показать 5 первых строчек\n",
        "data.head(5)"
      ],
      "execution_count": null,
      "outputs": [
        {
          "output_type": "execute_result",
          "data": {
            "text/html": [
              "<div>\n",
              "<style scoped>\n",
              "    .dataframe tbody tr th:only-of-type {\n",
              "        vertical-align: middle;\n",
              "    }\n",
              "\n",
              "    .dataframe tbody tr th {\n",
              "        vertical-align: top;\n",
              "    }\n",
              "\n",
              "    .dataframe thead th {\n",
              "        text-align: right;\n",
              "    }\n",
              "</style>\n",
              "<table border=\"1\" class=\"dataframe\">\n",
              "  <thead>\n",
              "    <tr style=\"text-align: right;\">\n",
              "      <th></th>\n",
              "      <th>Unnamed: 0</th>\n",
              "      <th>country</th>\n",
              "      <th>description</th>\n",
              "      <th>designation</th>\n",
              "      <th>points</th>\n",
              "      <th>price</th>\n",
              "      <th>province</th>\n",
              "      <th>region_1</th>\n",
              "      <th>region_2</th>\n",
              "      <th>variety</th>\n",
              "      <th>winery</th>\n",
              "    </tr>\n",
              "  </thead>\n",
              "  <tbody>\n",
              "    <tr>\n",
              "      <td>0</td>\n",
              "      <td>0</td>\n",
              "      <td>US</td>\n",
              "      <td>This tremendous 100% varietal wine hails from ...</td>\n",
              "      <td>Martha's Vineyard</td>\n",
              "      <td>96</td>\n",
              "      <td>235.0</td>\n",
              "      <td>California</td>\n",
              "      <td>Napa Valley</td>\n",
              "      <td>Napa</td>\n",
              "      <td>Cabernet Sauvignon</td>\n",
              "      <td>Heitz</td>\n",
              "    </tr>\n",
              "    <tr>\n",
              "      <td>1</td>\n",
              "      <td>1</td>\n",
              "      <td>Spain</td>\n",
              "      <td>Ripe aromas of fig, blackberry and cassis are ...</td>\n",
              "      <td>Carodorum Selección Especial Reserva</td>\n",
              "      <td>96</td>\n",
              "      <td>110.0</td>\n",
              "      <td>Northern Spain</td>\n",
              "      <td>Toro</td>\n",
              "      <td>NaN</td>\n",
              "      <td>Tinta de Toro</td>\n",
              "      <td>Bodega Carmen Rodríguez</td>\n",
              "    </tr>\n",
              "    <tr>\n",
              "      <td>2</td>\n",
              "      <td>2</td>\n",
              "      <td>US</td>\n",
              "      <td>Mac Watson honors the memory of a wine once ma...</td>\n",
              "      <td>Special Selected Late Harvest</td>\n",
              "      <td>96</td>\n",
              "      <td>90.0</td>\n",
              "      <td>California</td>\n",
              "      <td>Knights Valley</td>\n",
              "      <td>Sonoma</td>\n",
              "      <td>Sauvignon Blanc</td>\n",
              "      <td>Macauley</td>\n",
              "    </tr>\n",
              "    <tr>\n",
              "      <td>3</td>\n",
              "      <td>3</td>\n",
              "      <td>US</td>\n",
              "      <td>This spent 20 months in 30% new French oak, an...</td>\n",
              "      <td>Reserve</td>\n",
              "      <td>96</td>\n",
              "      <td>65.0</td>\n",
              "      <td>Oregon</td>\n",
              "      <td>Willamette Valley</td>\n",
              "      <td>Willamette Valley</td>\n",
              "      <td>Pinot Noir</td>\n",
              "      <td>Ponzi</td>\n",
              "    </tr>\n",
              "    <tr>\n",
              "      <td>4</td>\n",
              "      <td>4</td>\n",
              "      <td>France</td>\n",
              "      <td>This is the top wine from La Bégude, named aft...</td>\n",
              "      <td>La Brûlade</td>\n",
              "      <td>95</td>\n",
              "      <td>66.0</td>\n",
              "      <td>Provence</td>\n",
              "      <td>Bandol</td>\n",
              "      <td>NaN</td>\n",
              "      <td>Provence red blend</td>\n",
              "      <td>Domaine de la Bégude</td>\n",
              "    </tr>\n",
              "  </tbody>\n",
              "</table>\n",
              "</div>"
            ],
            "text/plain": [
              "   Unnamed: 0 country                                        description  \\\n",
              "0           0      US  This tremendous 100% varietal wine hails from ...   \n",
              "1           1   Spain  Ripe aromas of fig, blackberry and cassis are ...   \n",
              "2           2      US  Mac Watson honors the memory of a wine once ma...   \n",
              "3           3      US  This spent 20 months in 30% new French oak, an...   \n",
              "4           4  France  This is the top wine from La Bégude, named aft...   \n",
              "\n",
              "                            designation  points  price        province  \\\n",
              "0                     Martha's Vineyard      96  235.0      California   \n",
              "1  Carodorum Selección Especial Reserva      96  110.0  Northern Spain   \n",
              "2         Special Selected Late Harvest      96   90.0      California   \n",
              "3                               Reserve      96   65.0          Oregon   \n",
              "4                            La Brûlade      95   66.0        Provence   \n",
              "\n",
              "            region_1           region_2             variety  \\\n",
              "0        Napa Valley               Napa  Cabernet Sauvignon   \n",
              "1               Toro                NaN       Tinta de Toro   \n",
              "2     Knights Valley             Sonoma     Sauvignon Blanc   \n",
              "3  Willamette Valley  Willamette Valley          Pinot Noir   \n",
              "4             Bandol                NaN  Provence red blend   \n",
              "\n",
              "                    winery  \n",
              "0                    Heitz  \n",
              "1  Bodega Carmen Rodríguez  \n",
              "2                 Macauley  \n",
              "3                    Ponzi  \n",
              "4     Domaine de la Bégude  "
            ]
          },
          "metadata": {
            "tags": []
          },
          "execution_count": 3
        }
      ]
    },
    {
      "cell_type": "code",
      "metadata": {
        "id": "aBIVBYmDgh5W",
        "outputId": "145fc6f2-b3b1-4084-cb0a-42f2fc0f3679"
      },
      "source": [
        "#показать колонки датафрейма\n",
        "data.columns"
      ],
      "execution_count": null,
      "outputs": [
        {
          "output_type": "execute_result",
          "data": {
            "text/plain": [
              "Index(['Unnamed: 0', 'country', 'description', 'designation', 'points',\n",
              "       'price', 'province', 'region_1', 'region_2', 'variety', 'winery'],\n",
              "      dtype='object')"
            ]
          },
          "metadata": {
            "tags": []
          },
          "execution_count": 4
        }
      ]
    },
    {
      "cell_type": "code",
      "metadata": {
        "id": "mLLWoX9Pgh5X",
        "outputId": "87c36425-86c0-4fc4-94e8-89f39ba8470d"
      },
      "source": [
        "#информация о колонках фрейма\n",
        "print(data.info())"
      ],
      "execution_count": null,
      "outputs": [
        {
          "output_type": "stream",
          "text": [
            "<class 'pandas.core.frame.DataFrame'>\n",
            "RangeIndex: 150930 entries, 0 to 150929\n",
            "Data columns (total 11 columns):\n",
            "Unnamed: 0     150930 non-null int64\n",
            "country        150925 non-null object\n",
            "description    150930 non-null object\n",
            "designation    105195 non-null object\n",
            "points         150930 non-null int64\n",
            "price          137235 non-null float64\n",
            "province       150925 non-null object\n",
            "region_1       125870 non-null object\n",
            "region_2       60953 non-null object\n",
            "variety        150930 non-null object\n",
            "winery         150930 non-null object\n",
            "dtypes: float64(1), int64(2), object(8)\n",
            "memory usage: 8.1+ MB\n",
            "None\n"
          ],
          "name": "stdout"
        }
      ]
    },
    {
      "cell_type": "code",
      "metadata": {
        "id": "t1ivnmtsgh5X",
        "outputId": "4d83f136-ff5b-4ca5-9ccb-258aea9272c8"
      },
      "source": [
        "# описательная статистика числовых типов по умолчанию\n",
        "data.describe()"
      ],
      "execution_count": null,
      "outputs": [
        {
          "output_type": "execute_result",
          "data": {
            "text/html": [
              "<div>\n",
              "<style scoped>\n",
              "    .dataframe tbody tr th:only-of-type {\n",
              "        vertical-align: middle;\n",
              "    }\n",
              "\n",
              "    .dataframe tbody tr th {\n",
              "        vertical-align: top;\n",
              "    }\n",
              "\n",
              "    .dataframe thead th {\n",
              "        text-align: right;\n",
              "    }\n",
              "</style>\n",
              "<table border=\"1\" class=\"dataframe\">\n",
              "  <thead>\n",
              "    <tr style=\"text-align: right;\">\n",
              "      <th></th>\n",
              "      <th>Unnamed: 0</th>\n",
              "      <th>points</th>\n",
              "      <th>price</th>\n",
              "    </tr>\n",
              "  </thead>\n",
              "  <tbody>\n",
              "    <tr>\n",
              "      <td>count</td>\n",
              "      <td>150930.000000</td>\n",
              "      <td>150930.000000</td>\n",
              "      <td>137235.000000</td>\n",
              "    </tr>\n",
              "    <tr>\n",
              "      <td>mean</td>\n",
              "      <td>75464.500000</td>\n",
              "      <td>87.888418</td>\n",
              "      <td>33.131482</td>\n",
              "    </tr>\n",
              "    <tr>\n",
              "      <td>std</td>\n",
              "      <td>43569.882402</td>\n",
              "      <td>3.222392</td>\n",
              "      <td>36.322536</td>\n",
              "    </tr>\n",
              "    <tr>\n",
              "      <td>min</td>\n",
              "      <td>0.000000</td>\n",
              "      <td>80.000000</td>\n",
              "      <td>4.000000</td>\n",
              "    </tr>\n",
              "    <tr>\n",
              "      <td>25%</td>\n",
              "      <td>37732.250000</td>\n",
              "      <td>86.000000</td>\n",
              "      <td>16.000000</td>\n",
              "    </tr>\n",
              "    <tr>\n",
              "      <td>50%</td>\n",
              "      <td>75464.500000</td>\n",
              "      <td>88.000000</td>\n",
              "      <td>24.000000</td>\n",
              "    </tr>\n",
              "    <tr>\n",
              "      <td>75%</td>\n",
              "      <td>113196.750000</td>\n",
              "      <td>90.000000</td>\n",
              "      <td>40.000000</td>\n",
              "    </tr>\n",
              "    <tr>\n",
              "      <td>max</td>\n",
              "      <td>150929.000000</td>\n",
              "      <td>100.000000</td>\n",
              "      <td>2300.000000</td>\n",
              "    </tr>\n",
              "  </tbody>\n",
              "</table>\n",
              "</div>"
            ],
            "text/plain": [
              "          Unnamed: 0         points          price\n",
              "count  150930.000000  150930.000000  137235.000000\n",
              "mean    75464.500000      87.888418      33.131482\n",
              "std     43569.882402       3.222392      36.322536\n",
              "min         0.000000      80.000000       4.000000\n",
              "25%     37732.250000      86.000000      16.000000\n",
              "50%     75464.500000      88.000000      24.000000\n",
              "75%    113196.750000      90.000000      40.000000\n",
              "max    150929.000000     100.000000    2300.000000"
            ]
          },
          "metadata": {
            "tags": []
          },
          "execution_count": 6
        }
      ]
    },
    {
      "cell_type": "code",
      "metadata": {
        "id": "-3H8QsuNgh5Y",
        "outputId": "10bbefb1-bce9-42c4-9acb-1d46ab8e3ae6"
      },
      "source": [
        "#описательная статистика объектов\n",
        "data.describe(include = 'object')"
      ],
      "execution_count": null,
      "outputs": [
        {
          "output_type": "execute_result",
          "data": {
            "text/html": [
              "<div>\n",
              "<style scoped>\n",
              "    .dataframe tbody tr th:only-of-type {\n",
              "        vertical-align: middle;\n",
              "    }\n",
              "\n",
              "    .dataframe tbody tr th {\n",
              "        vertical-align: top;\n",
              "    }\n",
              "\n",
              "    .dataframe thead th {\n",
              "        text-align: right;\n",
              "    }\n",
              "</style>\n",
              "<table border=\"1\" class=\"dataframe\">\n",
              "  <thead>\n",
              "    <tr style=\"text-align: right;\">\n",
              "      <th></th>\n",
              "      <th>country</th>\n",
              "      <th>description</th>\n",
              "      <th>designation</th>\n",
              "      <th>province</th>\n",
              "      <th>region_1</th>\n",
              "      <th>region_2</th>\n",
              "      <th>variety</th>\n",
              "      <th>winery</th>\n",
              "    </tr>\n",
              "  </thead>\n",
              "  <tbody>\n",
              "    <tr>\n",
              "      <td>count</td>\n",
              "      <td>150925</td>\n",
              "      <td>150930</td>\n",
              "      <td>105195</td>\n",
              "      <td>150925</td>\n",
              "      <td>125870</td>\n",
              "      <td>60953</td>\n",
              "      <td>150930</td>\n",
              "      <td>150930</td>\n",
              "    </tr>\n",
              "    <tr>\n",
              "      <td>unique</td>\n",
              "      <td>48</td>\n",
              "      <td>97821</td>\n",
              "      <td>30621</td>\n",
              "      <td>455</td>\n",
              "      <td>1236</td>\n",
              "      <td>18</td>\n",
              "      <td>632</td>\n",
              "      <td>14810</td>\n",
              "    </tr>\n",
              "    <tr>\n",
              "      <td>top</td>\n",
              "      <td>US</td>\n",
              "      <td>92-94 Barrel sample. A rounded wine, its tanni...</td>\n",
              "      <td>Reserve</td>\n",
              "      <td>California</td>\n",
              "      <td>Napa Valley</td>\n",
              "      <td>Central Coast</td>\n",
              "      <td>Chardonnay</td>\n",
              "      <td>Williams Selyem</td>\n",
              "    </tr>\n",
              "    <tr>\n",
              "      <td>freq</td>\n",
              "      <td>62397</td>\n",
              "      <td>6</td>\n",
              "      <td>2752</td>\n",
              "      <td>44508</td>\n",
              "      <td>6209</td>\n",
              "      <td>13057</td>\n",
              "      <td>14482</td>\n",
              "      <td>374</td>\n",
              "    </tr>\n",
              "  </tbody>\n",
              "</table>\n",
              "</div>"
            ],
            "text/plain": [
              "       country                                        description designation  \\\n",
              "count   150925                                             150930      105195   \n",
              "unique      48                                              97821       30621   \n",
              "top         US  92-94 Barrel sample. A rounded wine, its tanni...     Reserve   \n",
              "freq     62397                                                  6        2752   \n",
              "\n",
              "          province     region_1       region_2     variety           winery  \n",
              "count       150925       125870          60953      150930           150930  \n",
              "unique         455         1236             18         632            14810  \n",
              "top     California  Napa Valley  Central Coast  Chardonnay  Williams Selyem  \n",
              "freq         44508         6209          13057       14482              374  "
            ]
          },
          "metadata": {
            "tags": []
          },
          "execution_count": 7
        }
      ]
    },
    {
      "cell_type": "code",
      "metadata": {
        "id": "RFOU3AlBgh5Y",
        "outputId": "50b5cdc8-89af-48c7-b5fb-bccd2ab35363"
      },
      "source": [
        "#гистограмма цен\n",
        "data['price'].hist(bins = 60)"
      ],
      "execution_count": null,
      "outputs": [
        {
          "output_type": "execute_result",
          "data": {
            "text/plain": [
              "<matplotlib.axes._subplots.AxesSubplot at 0x9ba5850>"
            ]
          },
          "metadata": {
            "tags": []
          },
          "execution_count": 8
        },
        {
          "output_type": "display_data",
          "data": {
            "image/png": "[encoded data removed]",
            "text/plain": [
              "<Figure size 432x288 with 1 Axes>"
            ]
          },
          "metadata": {
            "tags": [],
            "needs_background": "light"
          }
        }
      ]
    },
    {
      "cell_type": "code",
      "metadata": {
        "id": "IHV0Eyspgh5Y",
        "outputId": "8614816b-d5ad-4ade-bff8-c561b224d828"
      },
      "source": [
        "# гистограмма рейтинга вин\n",
        "data['points'].hist(bins = 60)"
      ],
      "execution_count": null,
      "outputs": [
        {
          "output_type": "execute_result",
          "data": {
            "text/plain": [
              "<matplotlib.axes._subplots.AxesSubplot at 0x9fa63d0>"
            ]
          },
          "metadata": {
            "tags": []
          },
          "execution_count": 9
        },
        {
          "output_type": "display_data",
          "data": {
            "image/png": "[encoded data removed]",
            "text/plain": [
              "<Figure size 432x288 with 1 Axes>"
            ]
          },
          "metadata": {
            "tags": [],
            "needs_background": "light"
          }
        }
      ]
    },
    {
      "cell_type": "code",
      "metadata": {
        "id": "vUPQxSjvgh5Z",
        "outputId": "575e1312-d726-470e-ed4a-de3d627e3fa4"
      },
      "source": [
        "# посмотреть на размерность\n",
        "np.shape(data)"
      ],
      "execution_count": null,
      "outputs": [
        {
          "output_type": "execute_result",
          "data": {
            "text/plain": [
              "(150930, 11)"
            ]
          },
          "metadata": {
            "tags": []
          },
          "execution_count": 10
        }
      ]
    },
    {
      "cell_type": "code",
      "metadata": {
        "id": "0dwUZzrRgh5Z",
        "outputId": "7a81cdad-2e49-4510-ff33-748abff97f26"
      },
      "source": [
        "#подсчет нулевых строк в колонке\n",
        "data['region_2'].isna().value_counts()"
      ],
      "execution_count": null,
      "outputs": [
        {
          "output_type": "execute_result",
          "data": {
            "text/plain": [
              "True     89977\n",
              "False    60953\n",
              "Name: region_2, dtype: int64"
            ]
          },
          "metadata": {
            "tags": []
          },
          "execution_count": 11
        }
      ]
    },
    {
      "cell_type": "code",
      "metadata": {
        "id": "JMCnnWO_gh5Z"
      },
      "source": [
        "# удаляем колонку из-за большого содержания нулевых значений\n",
        "data = data.drop(['region_2'],axis = 1)"
      ],
      "execution_count": null,
      "outputs": []
    },
    {
      "cell_type": "code",
      "metadata": {
        "id": "pC2k7O-Jgh5a",
        "outputId": "7e40e696-9863-4f52-efb6-19969fe48c53"
      },
      "source": [
        "data.head()"
      ],
      "execution_count": null,
      "outputs": [
        {
          "output_type": "execute_result",
          "data": {
            "text/html": [
              "<div>\n",
              "<style scoped>\n",
              "    .dataframe tbody tr th:only-of-type {\n",
              "        vertical-align: middle;\n",
              "    }\n",
              "\n",
              "    .dataframe tbody tr th {\n",
              "        vertical-align: top;\n",
              "    }\n",
              "\n",
              "    .dataframe thead th {\n",
              "        text-align: right;\n",
              "    }\n",
              "</style>\n",
              "<table border=\"1\" class=\"dataframe\">\n",
              "  <thead>\n",
              "    <tr style=\"text-align: right;\">\n",
              "      <th></th>\n",
              "      <th>Unnamed: 0</th>\n",
              "      <th>country</th>\n",
              "      <th>description</th>\n",
              "      <th>designation</th>\n",
              "      <th>points</th>\n",
              "      <th>price</th>\n",
              "      <th>province</th>\n",
              "      <th>region_1</th>\n",
              "      <th>variety</th>\n",
              "      <th>winery</th>\n",
              "    </tr>\n",
              "  </thead>\n",
              "  <tbody>\n",
              "    <tr>\n",
              "      <td>0</td>\n",
              "      <td>0</td>\n",
              "      <td>US</td>\n",
              "      <td>This tremendous 100% varietal wine hails from ...</td>\n",
              "      <td>Martha's Vineyard</td>\n",
              "      <td>96</td>\n",
              "      <td>235.0</td>\n",
              "      <td>California</td>\n",
              "      <td>Napa Valley</td>\n",
              "      <td>Cabernet Sauvignon</td>\n",
              "      <td>Heitz</td>\n",
              "    </tr>\n",
              "    <tr>\n",
              "      <td>1</td>\n",
              "      <td>1</td>\n",
              "      <td>Spain</td>\n",
              "      <td>Ripe aromas of fig, blackberry and cassis are ...</td>\n",
              "      <td>Carodorum Selección Especial Reserva</td>\n",
              "      <td>96</td>\n",
              "      <td>110.0</td>\n",
              "      <td>Northern Spain</td>\n",
              "      <td>Toro</td>\n",
              "      <td>Tinta de Toro</td>\n",
              "      <td>Bodega Carmen Rodríguez</td>\n",
              "    </tr>\n",
              "    <tr>\n",
              "      <td>2</td>\n",
              "      <td>2</td>\n",
              "      <td>US</td>\n",
              "      <td>Mac Watson honors the memory of a wine once ma...</td>\n",
              "      <td>Special Selected Late Harvest</td>\n",
              "      <td>96</td>\n",
              "      <td>90.0</td>\n",
              "      <td>California</td>\n",
              "      <td>Knights Valley</td>\n",
              "      <td>Sauvignon Blanc</td>\n",
              "      <td>Macauley</td>\n",
              "    </tr>\n",
              "    <tr>\n",
              "      <td>3</td>\n",
              "      <td>3</td>\n",
              "      <td>US</td>\n",
              "      <td>This spent 20 months in 30% new French oak, an...</td>\n",
              "      <td>Reserve</td>\n",
              "      <td>96</td>\n",
              "      <td>65.0</td>\n",
              "      <td>Oregon</td>\n",
              "      <td>Willamette Valley</td>\n",
              "      <td>Pinot Noir</td>\n",
              "      <td>Ponzi</td>\n",
              "    </tr>\n",
              "    <tr>\n",
              "      <td>4</td>\n",
              "      <td>4</td>\n",
              "      <td>France</td>\n",
              "      <td>This is the top wine from La Bégude, named aft...</td>\n",
              "      <td>La Brûlade</td>\n",
              "      <td>95</td>\n",
              "      <td>66.0</td>\n",
              "      <td>Provence</td>\n",
              "      <td>Bandol</td>\n",
              "      <td>Provence red blend</td>\n",
              "      <td>Domaine de la Bégude</td>\n",
              "    </tr>\n",
              "  </tbody>\n",
              "</table>\n",
              "</div>"
            ],
            "text/plain": [
              "   Unnamed: 0 country                                        description  \\\n",
              "0           0      US  This tremendous 100% varietal wine hails from ...   \n",
              "1           1   Spain  Ripe aromas of fig, blackberry and cassis are ...   \n",
              "2           2      US  Mac Watson honors the memory of a wine once ma...   \n",
              "3           3      US  This spent 20 months in 30% new French oak, an...   \n",
              "4           4  France  This is the top wine from La Bégude, named aft...   \n",
              "\n",
              "                            designation  points  price        province  \\\n",
              "0                     Martha's Vineyard      96  235.0      California   \n",
              "1  Carodorum Selección Especial Reserva      96  110.0  Northern Spain   \n",
              "2         Special Selected Late Harvest      96   90.0      California   \n",
              "3                               Reserve      96   65.0          Oregon   \n",
              "4                            La Brûlade      95   66.0        Provence   \n",
              "\n",
              "            region_1             variety                   winery  \n",
              "0        Napa Valley  Cabernet Sauvignon                    Heitz  \n",
              "1               Toro       Tinta de Toro  Bodega Carmen Rodríguez  \n",
              "2     Knights Valley     Sauvignon Blanc                 Macauley  \n",
              "3  Willamette Valley          Pinot Noir                    Ponzi  \n",
              "4             Bandol  Provence red blend     Domaine de la Bégude  "
            ]
          },
          "metadata": {
            "tags": []
          },
          "execution_count": 13
        }
      ]
    },
    {
      "cell_type": "code",
      "metadata": {
        "id": "kWpcS_97gh5a"
      },
      "source": [
        "#удаление дубликатов\n",
        "data = data[data.duplicated('description', keep=False)]"
      ],
      "execution_count": null,
      "outputs": []
    },
    {
      "cell_type": "code",
      "metadata": {
        "id": "X1GoMhn1gh5a",
        "outputId": "f2a41121-43dd-4e14-9913-d533118e56bf"
      },
      "source": [
        "#удаление пустых значений из подмножества объектов описания и рейтинг\n",
        "data.dropna(subset=['description', 'points'])"
      ],
      "execution_count": null,
      "outputs": [
        {
          "output_type": "execute_result",
          "data": {
            "text/html": [
              "<div>\n",
              "<style scoped>\n",
              "    .dataframe tbody tr th:only-of-type {\n",
              "        vertical-align: middle;\n",
              "    }\n",
              "\n",
              "    .dataframe tbody tr th {\n",
              "        vertical-align: top;\n",
              "    }\n",
              "\n",
              "    .dataframe thead th {\n",
              "        text-align: right;\n",
              "    }\n",
              "</style>\n",
              "<table border=\"1\" class=\"dataframe\">\n",
              "  <thead>\n",
              "    <tr style=\"text-align: right;\">\n",
              "      <th></th>\n",
              "      <th>Unnamed: 0</th>\n",
              "      <th>country</th>\n",
              "      <th>description</th>\n",
              "      <th>designation</th>\n",
              "      <th>points</th>\n",
              "      <th>price</th>\n",
              "      <th>province</th>\n",
              "      <th>region_1</th>\n",
              "      <th>variety</th>\n",
              "      <th>winery</th>\n",
              "    </tr>\n",
              "  </thead>\n",
              "  <tbody>\n",
              "    <tr>\n",
              "      <td>25</td>\n",
              "      <td>25</td>\n",
              "      <td>New Zealand</td>\n",
              "      <td>Yields were down in 2015, but intensity is up,...</td>\n",
              "      <td>Maté's Vineyard</td>\n",
              "      <td>94</td>\n",
              "      <td>57.0</td>\n",
              "      <td>Kumeu</td>\n",
              "      <td>NaN</td>\n",
              "      <td>Chardonnay</td>\n",
              "      <td>Kumeu River</td>\n",
              "    </tr>\n",
              "    <tr>\n",
              "      <td>29</td>\n",
              "      <td>29</td>\n",
              "      <td>US</td>\n",
              "      <td>This standout Rocks District wine brings earth...</td>\n",
              "      <td>The Funk Estate</td>\n",
              "      <td>94</td>\n",
              "      <td>60.0</td>\n",
              "      <td>Washington</td>\n",
              "      <td>Walla Walla Valley (WA)</td>\n",
              "      <td>Syrah</td>\n",
              "      <td>Saviah</td>\n",
              "    </tr>\n",
              "    <tr>\n",
              "      <td>60</td>\n",
              "      <td>60</td>\n",
              "      <td>Argentina</td>\n",
              "      <td>Concentrated, ripe blackberry and cassis aroma...</td>\n",
              "      <td>The Apple Doesn't Fall Far From The Tree</td>\n",
              "      <td>91</td>\n",
              "      <td>30.0</td>\n",
              "      <td>Mendoza Province</td>\n",
              "      <td>Mendoza</td>\n",
              "      <td>Malbec</td>\n",
              "      <td>Matias Riccitelli</td>\n",
              "    </tr>\n",
              "    <tr>\n",
              "      <td>61</td>\n",
              "      <td>61</td>\n",
              "      <td>Australia</td>\n",
              "      <td>Moorooduc's estate Pinot Noir is a solid value...</td>\n",
              "      <td>NaN</td>\n",
              "      <td>91</td>\n",
              "      <td>36.0</td>\n",
              "      <td>Victoria</td>\n",
              "      <td>Mornington Peninsula</td>\n",
              "      <td>Pinot Noir</td>\n",
              "      <td>Moorooduc</td>\n",
              "    </tr>\n",
              "    <tr>\n",
              "      <td>62</td>\n",
              "      <td>62</td>\n",
              "      <td>Argentina</td>\n",
              "      <td>Smoky aromas of fresh-cut wood blend with berr...</td>\n",
              "      <td>Alegoría Gran Reserva</td>\n",
              "      <td>91</td>\n",
              "      <td>25.0</td>\n",
              "      <td>Mendoza Province</td>\n",
              "      <td>Mendoza</td>\n",
              "      <td>Malbec</td>\n",
              "      <td>Navarro Correas</td>\n",
              "    </tr>\n",
              "    <tr>\n",
              "      <td>...</td>\n",
              "      <td>...</td>\n",
              "      <td>...</td>\n",
              "      <td>...</td>\n",
              "      <td>...</td>\n",
              "      <td>...</td>\n",
              "      <td>...</td>\n",
              "      <td>...</td>\n",
              "      <td>...</td>\n",
              "      <td>...</td>\n",
              "      <td>...</td>\n",
              "    </tr>\n",
              "    <tr>\n",
              "      <td>150925</td>\n",
              "      <td>150925</td>\n",
              "      <td>Italy</td>\n",
              "      <td>Many people feel Fiano represents southern Ita...</td>\n",
              "      <td>NaN</td>\n",
              "      <td>91</td>\n",
              "      <td>20.0</td>\n",
              "      <td>Southern Italy</td>\n",
              "      <td>Fiano di Avellino</td>\n",
              "      <td>White Blend</td>\n",
              "      <td>Feudi di San Gregorio</td>\n",
              "    </tr>\n",
              "    <tr>\n",
              "      <td>150926</td>\n",
              "      <td>150926</td>\n",
              "      <td>France</td>\n",
              "      <td>Offers an intriguing nose with ginger, lime an...</td>\n",
              "      <td>Cuvée Prestige</td>\n",
              "      <td>91</td>\n",
              "      <td>27.0</td>\n",
              "      <td>Champagne</td>\n",
              "      <td>Champagne</td>\n",
              "      <td>Champagne Blend</td>\n",
              "      <td>H.Germain</td>\n",
              "    </tr>\n",
              "    <tr>\n",
              "      <td>150927</td>\n",
              "      <td>150927</td>\n",
              "      <td>Italy</td>\n",
              "      <td>This classic example comes from a cru vineyard...</td>\n",
              "      <td>Terre di Dora</td>\n",
              "      <td>91</td>\n",
              "      <td>20.0</td>\n",
              "      <td>Southern Italy</td>\n",
              "      <td>Fiano di Avellino</td>\n",
              "      <td>White Blend</td>\n",
              "      <td>Terredora</td>\n",
              "    </tr>\n",
              "    <tr>\n",
              "      <td>150928</td>\n",
              "      <td>150928</td>\n",
              "      <td>France</td>\n",
              "      <td>A perfect salmon shade, with scents of peaches...</td>\n",
              "      <td>Grand Brut Rosé</td>\n",
              "      <td>90</td>\n",
              "      <td>52.0</td>\n",
              "      <td>Champagne</td>\n",
              "      <td>Champagne</td>\n",
              "      <td>Champagne Blend</td>\n",
              "      <td>Gosset</td>\n",
              "    </tr>\n",
              "    <tr>\n",
              "      <td>150929</td>\n",
              "      <td>150929</td>\n",
              "      <td>Italy</td>\n",
              "      <td>More Pinot Grigios should taste like this. A r...</td>\n",
              "      <td>NaN</td>\n",
              "      <td>90</td>\n",
              "      <td>15.0</td>\n",
              "      <td>Northeastern Italy</td>\n",
              "      <td>Alto Adige</td>\n",
              "      <td>Pinot Grigio</td>\n",
              "      <td>Alois Lageder</td>\n",
              "    </tr>\n",
              "  </tbody>\n",
              "</table>\n",
              "<p>92393 rows × 10 columns</p>\n",
              "</div>"
            ],
            "text/plain": [
              "        Unnamed: 0      country  \\\n",
              "25              25  New Zealand   \n",
              "29              29           US   \n",
              "60              60    Argentina   \n",
              "61              61    Australia   \n",
              "62              62    Argentina   \n",
              "...            ...          ...   \n",
              "150925      150925        Italy   \n",
              "150926      150926       France   \n",
              "150927      150927        Italy   \n",
              "150928      150928       France   \n",
              "150929      150929        Italy   \n",
              "\n",
              "                                              description  \\\n",
              "25      Yields were down in 2015, but intensity is up,...   \n",
              "29      This standout Rocks District wine brings earth...   \n",
              "60      Concentrated, ripe blackberry and cassis aroma...   \n",
              "61      Moorooduc's estate Pinot Noir is a solid value...   \n",
              "62      Smoky aromas of fresh-cut wood blend with berr...   \n",
              "...                                                   ...   \n",
              "150925  Many people feel Fiano represents southern Ita...   \n",
              "150926  Offers an intriguing nose with ginger, lime an...   \n",
              "150927  This classic example comes from a cru vineyard...   \n",
              "150928  A perfect salmon shade, with scents of peaches...   \n",
              "150929  More Pinot Grigios should taste like this. A r...   \n",
              "\n",
              "                                     designation  points  price  \\\n",
              "25                               Maté's Vineyard      94   57.0   \n",
              "29                               The Funk Estate      94   60.0   \n",
              "60      The Apple Doesn't Fall Far From The Tree      91   30.0   \n",
              "61                                           NaN      91   36.0   \n",
              "62                         Alegoría Gran Reserva      91   25.0   \n",
              "...                                          ...     ...    ...   \n",
              "150925                                       NaN      91   20.0   \n",
              "150926                            Cuvée Prestige      91   27.0   \n",
              "150927                             Terre di Dora      91   20.0   \n",
              "150928                           Grand Brut Rosé      90   52.0   \n",
              "150929                                       NaN      90   15.0   \n",
              "\n",
              "                  province                 region_1          variety  \\\n",
              "25                   Kumeu                      NaN       Chardonnay   \n",
              "29              Washington  Walla Walla Valley (WA)            Syrah   \n",
              "60        Mendoza Province                  Mendoza           Malbec   \n",
              "61                Victoria     Mornington Peninsula       Pinot Noir   \n",
              "62        Mendoza Province                  Mendoza           Malbec   \n",
              "...                    ...                      ...              ...   \n",
              "150925      Southern Italy        Fiano di Avellino      White Blend   \n",
              "150926           Champagne                Champagne  Champagne Blend   \n",
              "150927      Southern Italy        Fiano di Avellino      White Blend   \n",
              "150928           Champagne                Champagne  Champagne Blend   \n",
              "150929  Northeastern Italy               Alto Adige     Pinot Grigio   \n",
              "\n",
              "                       winery  \n",
              "25                Kumeu River  \n",
              "29                     Saviah  \n",
              "60          Matias Riccitelli  \n",
              "61                  Moorooduc  \n",
              "62            Navarro Correas  \n",
              "...                       ...  \n",
              "150925  Feudi di San Gregorio  \n",
              "150926              H.Germain  \n",
              "150927              Terredora  \n",
              "150928                 Gosset  \n",
              "150929          Alois Lageder  \n",
              "\n",
              "[92393 rows x 10 columns]"
            ]
          },
          "metadata": {
            "tags": []
          },
          "execution_count": 15
        }
      ]
    },
    {
      "cell_type": "code",
      "metadata": {
        "id": "X_NM0bOxgh5b",
        "outputId": "6f71834a-766a-46f9-c44a-29bebd1d047b"
      },
      "source": [
        "#просмотр размерности\n",
        "np.shape(data)"
      ],
      "execution_count": null,
      "outputs": [
        {
          "output_type": "execute_result",
          "data": {
            "text/plain": [
              "(92393, 10)"
            ]
          },
          "metadata": {
            "tags": []
          },
          "execution_count": 16
        }
      ]
    },
    {
      "cell_type": "code",
      "metadata": {
        "id": "uCEZ01IYgh5b"
      },
      "source": [
        "# создание нового фрейма данных с колонками описания и рейтинг\n",
        "df = data[['description','points']]"
      ],
      "execution_count": null,
      "outputs": []
    },
    {
      "cell_type": "code",
      "metadata": {
        "id": "XX4wcz8ugh5b"
      },
      "source": [
        "# добавления новой колонки к новому фрейму данных , функция apply передает значения всем объектам \n",
        "df = df.assign(description_length = df['description'].apply(len))"
      ],
      "execution_count": null,
      "outputs": []
    },
    {
      "cell_type": "code",
      "metadata": {
        "id": "XRD_R4wXgh5c",
        "outputId": "d6edaba1-d9b1-4f34-c187-9aa5b05fa04e"
      },
      "source": [
        "df.head()"
      ],
      "execution_count": null,
      "outputs": [
        {
          "output_type": "execute_result",
          "data": {
            "text/html": [
              "<div>\n",
              "<style scoped>\n",
              "    .dataframe tbody tr th:only-of-type {\n",
              "        vertical-align: middle;\n",
              "    }\n",
              "\n",
              "    .dataframe tbody tr th {\n",
              "        vertical-align: top;\n",
              "    }\n",
              "\n",
              "    .dataframe thead th {\n",
              "        text-align: right;\n",
              "    }\n",
              "</style>\n",
              "<table border=\"1\" class=\"dataframe\">\n",
              "  <thead>\n",
              "    <tr style=\"text-align: right;\">\n",
              "      <th></th>\n",
              "      <th>description</th>\n",
              "      <th>points</th>\n",
              "      <th>description_length</th>\n",
              "    </tr>\n",
              "  </thead>\n",
              "  <tbody>\n",
              "    <tr>\n",
              "      <td>25</td>\n",
              "      <td>Yields were down in 2015, but intensity is up,...</td>\n",
              "      <td>94</td>\n",
              "      <td>215</td>\n",
              "    </tr>\n",
              "    <tr>\n",
              "      <td>29</td>\n",
              "      <td>This standout Rocks District wine brings earth...</td>\n",
              "      <td>94</td>\n",
              "      <td>333</td>\n",
              "    </tr>\n",
              "    <tr>\n",
              "      <td>60</td>\n",
              "      <td>Concentrated, ripe blackberry and cassis aroma...</td>\n",
              "      <td>91</td>\n",
              "      <td>242</td>\n",
              "    </tr>\n",
              "    <tr>\n",
              "      <td>61</td>\n",
              "      <td>Moorooduc's estate Pinot Noir is a solid value...</td>\n",
              "      <td>91</td>\n",
              "      <td>315</td>\n",
              "    </tr>\n",
              "    <tr>\n",
              "      <td>62</td>\n",
              "      <td>Smoky aromas of fresh-cut wood blend with berr...</td>\n",
              "      <td>91</td>\n",
              "      <td>229</td>\n",
              "    </tr>\n",
              "  </tbody>\n",
              "</table>\n",
              "</div>"
            ],
            "text/plain": [
              "                                          description  points  \\\n",
              "25  Yields were down in 2015, but intensity is up,...      94   \n",
              "29  This standout Rocks District wine brings earth...      94   \n",
              "60  Concentrated, ripe blackberry and cassis aroma...      91   \n",
              "61  Moorooduc's estate Pinot Noir is a solid value...      91   \n",
              "62  Smoky aromas of fresh-cut wood blend with berr...      91   \n",
              "\n",
              "    description_length  \n",
              "25                 215  \n",
              "29                 333  \n",
              "60                 242  \n",
              "61                 315  \n",
              "62                 229  "
            ]
          },
          "metadata": {
            "tags": []
          },
          "execution_count": 19
        }
      ]
    },
    {
      "cell_type": "code",
      "metadata": {
        "id": "pQdMBwhLgh5c"
      },
      "source": [
        "# загружаем библиотеку для визуализации данных\n",
        "import seaborn as sns"
      ],
      "execution_count": null,
      "outputs": []
    },
    {
      "cell_type": "code",
      "metadata": {
        "id": "USJFvjbcgh5c",
        "outputId": "5c2b63db-47d8-4caa-c246-dd499466eeb5"
      },
      "source": [
        "# строим ящик с усиками(боксплот)\n",
        "fig, ax = plt.subplots(figsize=(30,10))\n",
        "sns.boxplot(x = 'points', y='description_length', data = df)\n",
        "plt.xticks(fontsize=20) # X Ticks\n",
        "plt.yticks(fontsize=20) # Y Ticks\n",
        "ax.set_title('Длина описании в рейтенги', fontweight = \"bold\", size = 25) # Title\n",
        "ax.set_ylabel('Длина описания', fontsize = 25) # Y label\n",
        "ax.set_xlabel('Рейтинг', fontsize = 25) # X label\n",
        "plt.show()"
      ],
      "execution_count": null,
      "outputs": [
        {
          "output_type": "display_data",
          "data": {
            "image/png": "[encoded data removed]",
            "text/plain": [
              "<Figure size 2160x720 with 1 Axes>"
            ]
          },
          "metadata": {
            "tags": [],
            "needs_background": "light"
          }
        }
      ]
    },
    {
      "cell_type": "code",
      "metadata": {
        "id": "No5e6n7Lgh5c"
      },
      "source": [
        "#Вино из 90 пунктов ничем не отличается от вина из 91 пункта, так что описание, вероятно, также не отличается.\n",
        "#упрощяем модель\n",
        "def transform_points_simplified(points):\n",
        "    if points < 84: # качество ниже среднего\n",
        "        return 1\n",
        "    elif points >= 84 and points < 88: #среднее\n",
        "        return 2 \n",
        "    elif points >= 88 and points < 92:#хорошие\n",
        "        return 3 \n",
        "    elif points >= 92 and points < 96:#очень хорошие\n",
        "        return 4\n",
        "    else:\n",
        "        return 5 #отличные"
      ],
      "execution_count": null,
      "outputs": []
    },
    {
      "cell_type": "code",
      "metadata": {
        "id": "srov5KGogh5d",
        "outputId": "5175a245-c19b-4ee4-9234-f3002a8affc5"
      },
      "source": [
        "# добавление новой колонки(points_simplified - упрощенный рейтинг) к датафрейму df \n",
        "df = df.assign(points_simplified = df['points'].apply(transform_points_simplified))\n",
        "df.head()"
      ],
      "execution_count": null,
      "outputs": [
        {
          "output_type": "execute_result",
          "data": {
            "text/html": [
              "<div>\n",
              "<style scoped>\n",
              "    .dataframe tbody tr th:only-of-type {\n",
              "        vertical-align: middle;\n",
              "    }\n",
              "\n",
              "    .dataframe tbody tr th {\n",
              "        vertical-align: top;\n",
              "    }\n",
              "\n",
              "    .dataframe thead th {\n",
              "        text-align: right;\n",
              "    }\n",
              "</style>\n",
              "<table border=\"1\" class=\"dataframe\">\n",
              "  <thead>\n",
              "    <tr style=\"text-align: right;\">\n",
              "      <th></th>\n",
              "      <th>description</th>\n",
              "      <th>points</th>\n",
              "      <th>description_length</th>\n",
              "      <th>points_simplified</th>\n",
              "    </tr>\n",
              "  </thead>\n",
              "  <tbody>\n",
              "    <tr>\n",
              "      <td>25</td>\n",
              "      <td>Yields were down in 2015, but intensity is up,...</td>\n",
              "      <td>94</td>\n",
              "      <td>215</td>\n",
              "      <td>4</td>\n",
              "    </tr>\n",
              "    <tr>\n",
              "      <td>29</td>\n",
              "      <td>This standout Rocks District wine brings earth...</td>\n",
              "      <td>94</td>\n",
              "      <td>333</td>\n",
              "      <td>4</td>\n",
              "    </tr>\n",
              "    <tr>\n",
              "      <td>60</td>\n",
              "      <td>Concentrated, ripe blackberry and cassis aroma...</td>\n",
              "      <td>91</td>\n",
              "      <td>242</td>\n",
              "      <td>3</td>\n",
              "    </tr>\n",
              "    <tr>\n",
              "      <td>61</td>\n",
              "      <td>Moorooduc's estate Pinot Noir is a solid value...</td>\n",
              "      <td>91</td>\n",
              "      <td>315</td>\n",
              "      <td>3</td>\n",
              "    </tr>\n",
              "    <tr>\n",
              "      <td>62</td>\n",
              "      <td>Smoky aromas of fresh-cut wood blend with berr...</td>\n",
              "      <td>91</td>\n",
              "      <td>229</td>\n",
              "      <td>3</td>\n",
              "    </tr>\n",
              "  </tbody>\n",
              "</table>\n",
              "</div>"
            ],
            "text/plain": [
              "                                          description  points  \\\n",
              "25  Yields were down in 2015, but intensity is up,...      94   \n",
              "29  This standout Rocks District wine brings earth...      94   \n",
              "60  Concentrated, ripe blackberry and cassis aroma...      91   \n",
              "61  Moorooduc's estate Pinot Noir is a solid value...      91   \n",
              "62  Smoky aromas of fresh-cut wood blend with berr...      91   \n",
              "\n",
              "    description_length  points_simplified  \n",
              "25                 215                  4  \n",
              "29                 333                  4  \n",
              "60                 242                  3  \n",
              "61                 315                  3  \n",
              "62                 229                  3  "
            ]
          },
          "metadata": {
            "tags": []
          },
          "execution_count": 23
        }
      ]
    },
    {
      "cell_type": "code",
      "metadata": {
        "id": "20KM41KEgh5d",
        "outputId": "26cd1d8c-cd6c-489e-c266-96759f1bfc99"
      },
      "source": [
        "# строим гистограмму и смотрим распределения рейтинга\n",
        "df['points_simplified'].hist()"
      ],
      "execution_count": null,
      "outputs": [
        {
          "output_type": "execute_result",
          "data": {
            "text/plain": [
              "<matplotlib.axes._subplots.AxesSubplot at 0x11251d50>"
            ]
          },
          "metadata": {
            "tags": []
          },
          "execution_count": 24
        },
        {
          "output_type": "display_data",
          "data": {
            "image/png": "[encoded data removed]",
            "text/plain": [
              "<Figure size 432x288 with 1 Axes>"
            ]
          },
          "metadata": {
            "tags": [],
            "needs_background": "light"
          }
        }
      ]
    },
    {
      "cell_type": "code",
      "metadata": {
        "id": "-qi6sKWWgh5d",
        "outputId": "927e91bb-8856-4be5-e882-d6b72219831e"
      },
      "source": [
        "# строим ящик с усиками (боксплот)\n",
        "fig, ax = plt.subplots(figsize=(30,10))\n",
        "sns.boxplot(x='points_simplified', y='description_length', data=df)\n",
        "plt.xticks(fontsize=20) # X Ticks\n",
        "plt.yticks(fontsize=20) # Y Ticks\n",
        "ax.set_title('Длина описании в рейтенги', fontweight=\"bold\", size=25) # Title\n",
        "ax.set_ylabel('Длина описания', fontsize = 25) # Y label\n",
        "ax.set_xlabel('рейтинг', fontsize = 25) # X label\n",
        "plt.show()\n",
        "# как видно чем лучше вино тем длинее его описание"
      ],
      "execution_count": null,
      "outputs": [
        {
          "output_type": "display_data",
          "data": {
            "image/png": "[encoded data removed]",
            "text/plain": [
              "<Figure size 2160x720 with 1 Axes>"
            ]
          },
          "metadata": {
            "tags": [],
            "needs_background": "light"
          }
        }
      ]
    },
    {
      "cell_type": "code",
      "metadata": {
        "id": "wR6UMJFMgh5e"
      },
      "source": [
        "# импортируем библиотеки для векторизации наших предложений из колонки description\n",
        "# векторизация придает веса - значений каждому слову\n",
        "#векторизация выводит разряженную матрицу со значениями отличными от нуля\n",
        "from sklearn.feature_extraction.text import CountVectorizer, TfidfVectorizer"
      ],
      "execution_count": null,
      "outputs": []
    },
    {
      "cell_type": "code",
      "metadata": {
        "id": "DRBoFfJegh5e",
        "outputId": "e19ba4a7-207a-4619-d765-f1b2252a4ff2"
      },
      "source": [
        "# выбор колонки которые надо векторизовать\n",
        "X = df['description']\n",
        "y = df['points_simplified']\n",
        "# создаем модель для векторизации\n",
        "vectorizer = CountVectorizer()\n",
        "# подгоняем модель под векторизацию\n",
        "vectorizer.fit(X)"
      ],
      "execution_count": null,
      "outputs": [
        {
          "output_type": "execute_result",
          "data": {
            "text/plain": [
              "CountVectorizer(analyzer='word', binary=False, decode_error='strict',\n",
              "                dtype=<class 'numpy.int64'>, encoding='utf-8', input='content',\n",
              "                lowercase=True, max_df=1.0, max_features=None, min_df=1,\n",
              "                ngram_range=(1, 1), preprocessor=None, stop_words=None,\n",
              "                strip_accents=None, token_pattern='(?u)\\\\b\\\\w\\\\w+\\\\b',\n",
              "                tokenizer=None, vocabulary=None)"
            ]
          },
          "metadata": {
            "tags": []
          },
          "execution_count": 27
        }
      ]
    },
    {
      "cell_type": "code",
      "metadata": {
        "id": "-S9DX5__gh5e",
        "outputId": "2965f943-30c0-40cc-c1e4-6640b5743640"
      },
      "source": [
        "# преобразуем нашу разряженную матрицу \n",
        "X = vectorizer.transform(X)\n",
        "print('размер разряженной матрицы: ', X.shape)\n",
        "print('количество ненулевых вхождений: ', X.nnz)"
      ],
      "execution_count": null,
      "outputs": [
        {
          "output_type": "stream",
          "text": [
            "размер разряженной матрицы:  (92393, 21400)\n",
            "количество ненулевых вхождений:  3172240\n"
          ],
          "name": "stdout"
        }
      ]
    },
    {
      "cell_type": "code",
      "metadata": {
        "id": "eunONjqqgh5f"
      },
      "source": [
        "# загрузка библиотек для построения моделей машинного обучения\n",
        "from sklearn.model_selection import train_test_split\n",
        "from sklearn.ensemble import RandomForestClassifier\n",
        "from sklearn.metrics import confusion_matrix, classification_report"
      ],
      "execution_count": null,
      "outputs": []
    },
    {
      "cell_type": "code",
      "metadata": {
        "id": "qszublyegh5f",
        "outputId": "10929084-192b-422e-e755-275ce009c8a1"
      },
      "source": [
        "# разбиение наших данных на тренировачные и тестовые\n",
        "X_train, X_test, y_train, y_test = train_test_split(X, y, test_size=0.1, random_state=101)\n",
        "# создание модели случайного леса\n",
        "rfc = RandomForestClassifier()\n",
        "# начинаем подгонку модели на тренировачных данных\n",
        "rfc.fit(X_train, y_train)"
      ],
      "execution_count": null,
      "outputs": [
        {
          "output_type": "stream",
          "text": [
            "C:\\ProgramData\\Anaconda3\\lib\\site-packages\\sklearn\\ensemble\\forest.py:245: FutureWarning: The default value of n_estimators will change from 10 in version 0.20 to 100 in 0.22.\n",
            "  \"10 in version 0.20 to 100 in 0.22.\", FutureWarning)\n"
          ],
          "name": "stderr"
        },
        {
          "output_type": "execute_result",
          "data": {
            "text/plain": [
              "RandomForestClassifier(bootstrap=True, class_weight=None, criterion='gini',\n",
              "                       max_depth=None, max_features='auto', max_leaf_nodes=None,\n",
              "                       min_impurity_decrease=0.0, min_impurity_split=None,\n",
              "                       min_samples_leaf=1, min_samples_split=2,\n",
              "                       min_weight_fraction_leaf=0.0, n_estimators=10,\n",
              "                       n_jobs=None, oob_score=False, random_state=None,\n",
              "                       verbose=0, warm_start=False)"
            ]
          },
          "metadata": {
            "tags": []
          },
          "execution_count": 30
        }
      ]
    },
    {
      "cell_type": "code",
      "metadata": {
        "id": "5_Y-0BWIgh5f",
        "outputId": "78903531-fe33-4485-d485-ce52a1061238"
      },
      "source": [
        "# предсказать значения тестовой выборки\n",
        "predictions = rfc.predict(X_test)\n",
        "# посмотреть на точность предсказания \n",
        "print(classification_report(y_test, predictions))\n",
        "# точность предсказания у нас является 0.97"
      ],
      "execution_count": null,
      "outputs": [
        {
          "output_type": "stream",
          "text": [
            "              precision    recall  f1-score   support\n",
            "\n",
            "           1       0.98      0.94      0.96       763\n",
            "           2       0.95      0.98      0.97      3830\n",
            "           3       0.97      0.96      0.97      3418\n",
            "           4       0.99      0.94      0.97      1135\n",
            "           5       1.00      0.93      0.96        94\n",
            "\n",
            "    accuracy                           0.97      9240\n",
            "   macro avg       0.98      0.95      0.96      9240\n",
            "weighted avg       0.97      0.97      0.97      9240\n",
            "\n"
          ],
          "name": "stdout"
        }
      ]
    },
    {
      "cell_type": "code",
      "metadata": {
        "id": "j5XF6NCSgh5g"
      },
      "source": [
        "# загружаем библиотеки для построения логистической регрессии\n",
        "from sklearn import preprocessing\n",
        "from sklearn.linear_model import LogisticRegression"
      ],
      "execution_count": null,
      "outputs": []
    },
    {
      "cell_type": "code",
      "metadata": {
        "id": "9OigHDovgh5g"
      },
      "source": [
        "# создание модели машинного обучения\n",
        "classifier = LogisticRegression(solver='lbfgs',random_state=0)"
      ],
      "execution_count": null,
      "outputs": []
    },
    {
      "cell_type": "code",
      "metadata": {
        "id": "aEH0ZKrOgh5g",
        "outputId": "df8f3d8d-d855-4e79-89e4-fbeb685f173e"
      },
      "source": [
        "# подгонка модели на тренировачных данных\n",
        "classifier.fit(X_train, y_train)"
      ],
      "execution_count": null,
      "outputs": [
        {
          "output_type": "stream",
          "text": [
            "C:\\ProgramData\\Anaconda3\\lib\\site-packages\\sklearn\\linear_model\\logistic.py:469: FutureWarning: Default multi_class will be changed to 'auto' in 0.22. Specify the multi_class option to silence this warning.\n",
            "  \"this warning.\", FutureWarning)\n",
            "C:\\ProgramData\\Anaconda3\\lib\\site-packages\\sklearn\\linear_model\\logistic.py:947: ConvergenceWarning: lbfgs failed to converge. Increase the number of iterations.\n",
            "  \"of iterations.\", ConvergenceWarning)\n",
            "C:\\ProgramData\\Anaconda3\\lib\\site-packages\\sklearn\\linear_model\\logistic.py:947: ConvergenceWarning: lbfgs failed to converge. Increase the number of iterations.\n",
            "  \"of iterations.\", ConvergenceWarning)\n",
            "C:\\ProgramData\\Anaconda3\\lib\\site-packages\\sklearn\\linear_model\\logistic.py:947: ConvergenceWarning: lbfgs failed to converge. Increase the number of iterations.\n",
            "  \"of iterations.\", ConvergenceWarning)\n",
            "C:\\ProgramData\\Anaconda3\\lib\\site-packages\\sklearn\\linear_model\\logistic.py:947: ConvergenceWarning: lbfgs failed to converge. Increase the number of iterations.\n",
            "  \"of iterations.\", ConvergenceWarning)\n",
            "C:\\ProgramData\\Anaconda3\\lib\\site-packages\\sklearn\\linear_model\\logistic.py:947: ConvergenceWarning: lbfgs failed to converge. Increase the number of iterations.\n",
            "  \"of iterations.\", ConvergenceWarning)\n"
          ],
          "name": "stderr"
        },
        {
          "output_type": "execute_result",
          "data": {
            "text/plain": [
              "LogisticRegression(C=1.0, class_weight=None, dual=False, fit_intercept=True,\n",
              "                   intercept_scaling=1, l1_ratio=None, max_iter=100,\n",
              "                   multi_class='warn', n_jobs=None, penalty='l2',\n",
              "                   random_state=0, solver='lbfgs', tol=0.0001, verbose=0,\n",
              "                   warm_start=False)"
            ]
          },
          "metadata": {
            "tags": []
          },
          "execution_count": 34
        }
      ]
    },
    {
      "cell_type": "code",
      "metadata": {
        "id": "BZKTq-jrgh5h"
      },
      "source": [
        "# предсказать значения тестовой выборки\n",
        "predicted_y = classifier.predict(X_test)"
      ],
      "execution_count": null,
      "outputs": []
    },
    {
      "cell_type": "code",
      "metadata": {
        "id": "w48bE9CGgh5h",
        "outputId": "5d02a311-1849-4387-bf38-a0fc1bc46e5d"
      },
      "source": [
        "# посмотреть на точность предсказывания\n",
        "# как мы выдим 0.76 следовательно логистическая регрессия является плохим методом для предсказывания для этого набора данных\n",
        "print('Accuracy: {:.2f}'.format(classifier.score(X_test, y_test)))"
      ],
      "execution_count": null,
      "outputs": [
        {
          "output_type": "stream",
          "text": [
            "Accuracy: 0.76\n"
          ],
          "name": "stdout"
        }
      ]
    }
  ]
}